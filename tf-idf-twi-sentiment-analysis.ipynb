{
 "cells": [
  {
   "cell_type": "code",
   "execution_count": 1,
   "id": "7c4546d1",
   "metadata": {
    "_cell_guid": "b1076dfc-b9ad-4769-8c92-a6c4dae69d19",
    "_uuid": "8f2839f25d086af736a60e9eeb907d3b93b6e0e5",
    "execution": {
     "iopub.execute_input": "2022-02-20T21:04:55.009492Z",
     "iopub.status.busy": "2022-02-20T21:04:55.006998Z",
     "iopub.status.idle": "2022-02-20T21:04:56.657120Z",
     "shell.execute_reply": "2022-02-20T21:04:56.658113Z",
     "shell.execute_reply.started": "2022-02-19T21:05:22.790923Z"
    },
    "papermill": {
     "duration": 1.700982,
     "end_time": "2022-02-20T21:04:56.658435",
     "exception": false,
     "start_time": "2022-02-20T21:04:54.957453",
     "status": "completed"
    },
    "tags": []
   },
   "outputs": [
    {
     "name": "stdout",
     "output_type": "stream",
     "text": [
      "['twitter-entity-sentiment-analysis']\n"
     ]
    }
   ],
   "source": [
    "import os\n",
    "print(os.listdir(\"../input\"))\n",
    "\n",
    "import pandas as pd\n",
    "import numpy as np\n",
    "from scipy.stats import randint\n",
    "import seaborn as sns # used for plot interactive graph. \n",
    "import matplotlib.pyplot as plt\n",
    "import seaborn as sns\n",
    "from io import StringIO\n",
    "from sklearn.feature_extraction.text import TfidfVectorizer\n",
    "from sklearn.feature_selection import chi2\n",
    "from IPython.display import display\n",
    "from sklearn.model_selection import train_test_split\n",
    "from sklearn.feature_extraction.text import TfidfTransformer\n",
    "from sklearn.naive_bayes import MultinomialNB\n",
    "from sklearn.linear_model import LogisticRegression\n",
    "from sklearn.ensemble import RandomForestClassifier\n",
    "from sklearn.svm import LinearSVC\n",
    "from sklearn.model_selection import cross_val_score\n",
    "from sklearn.metrics import confusion_matrix\n",
    "from sklearn import metrics\n",
    "\n",
    "pd.set_option('display.max_columns', None)\n",
    "plt.rcParams['figure.figsize'] = (14, 8)\n",
    "plt.rcParams['legend.fontsize'] = 14\n",
    "plt.rcParams['axes.titlesize'] = 14\n",
    "sns.set_style('whitegrid')\n",
    "\n",
    "from tqdm import tqdm\n",
    "tqdm.pandas()\n",
    "from tqdm.notebook import tqdm as tn\n",
    "\n",
    "import random"
   ]
  },
  {
   "cell_type": "code",
   "execution_count": 2,
   "id": "8bfaf934",
   "metadata": {
    "execution": {
     "iopub.execute_input": "2022-02-20T21:04:56.746556Z",
     "iopub.status.busy": "2022-02-20T21:04:56.745876Z",
     "iopub.status.idle": "2022-02-20T21:04:57.152568Z",
     "shell.execute_reply": "2022-02-20T21:04:57.153079Z",
     "shell.execute_reply.started": "2022-02-19T20:31:52.478811Z"
    },
    "papermill": {
     "duration": 0.452203,
     "end_time": "2022-02-20T21:04:57.153243",
     "exception": false,
     "start_time": "2022-02-20T21:04:56.701040",
     "status": "completed"
    },
    "tags": []
   },
   "outputs": [
    {
     "data": {
      "text/html": [
       "<div>\n",
       "<style scoped>\n",
       "    .dataframe tbody tr th:only-of-type {\n",
       "        vertical-align: middle;\n",
       "    }\n",
       "\n",
       "    .dataframe tbody tr th {\n",
       "        vertical-align: top;\n",
       "    }\n",
       "\n",
       "    .dataframe thead th {\n",
       "        text-align: right;\n",
       "    }\n",
       "</style>\n",
       "<table border=\"1\" class=\"dataframe\">\n",
       "  <thead>\n",
       "    <tr style=\"text-align: right;\">\n",
       "      <th></th>\n",
       "      <th>Id</th>\n",
       "      <th>Entity</th>\n",
       "      <th>Sentiment</th>\n",
       "      <th>Tweet</th>\n",
       "      <th>is_train</th>\n",
       "    </tr>\n",
       "  </thead>\n",
       "  <tbody>\n",
       "    <tr>\n",
       "      <th>0</th>\n",
       "      <td>2401</td>\n",
       "      <td>Borderlands</td>\n",
       "      <td>Positive</td>\n",
       "      <td>im getting on borderlands and i will murder yo...</td>\n",
       "      <td>True</td>\n",
       "    </tr>\n",
       "    <tr>\n",
       "      <th>1</th>\n",
       "      <td>2401</td>\n",
       "      <td>Borderlands</td>\n",
       "      <td>Positive</td>\n",
       "      <td>I am coming to the borders and I will kill you...</td>\n",
       "      <td>True</td>\n",
       "    </tr>\n",
       "    <tr>\n",
       "      <th>2</th>\n",
       "      <td>2401</td>\n",
       "      <td>Borderlands</td>\n",
       "      <td>Positive</td>\n",
       "      <td>im getting on borderlands and i will kill you ...</td>\n",
       "      <td>True</td>\n",
       "    </tr>\n",
       "    <tr>\n",
       "      <th>3</th>\n",
       "      <td>2401</td>\n",
       "      <td>Borderlands</td>\n",
       "      <td>Positive</td>\n",
       "      <td>im coming on borderlands and i will murder you...</td>\n",
       "      <td>True</td>\n",
       "    </tr>\n",
       "    <tr>\n",
       "      <th>4</th>\n",
       "      <td>2401</td>\n",
       "      <td>Borderlands</td>\n",
       "      <td>Positive</td>\n",
       "      <td>im getting on borderlands 2 and i will murder ...</td>\n",
       "      <td>True</td>\n",
       "    </tr>\n",
       "    <tr>\n",
       "      <th>...</th>\n",
       "      <td>...</td>\n",
       "      <td>...</td>\n",
       "      <td>...</td>\n",
       "      <td>...</td>\n",
       "      <td>...</td>\n",
       "    </tr>\n",
       "    <tr>\n",
       "      <th>995</th>\n",
       "      <td>4891</td>\n",
       "      <td>GrandTheftAuto(GTA)</td>\n",
       "      <td>Irrelevant</td>\n",
       "      <td>⭐️ Toronto is the arts and culture capital of ...</td>\n",
       "      <td>False</td>\n",
       "    </tr>\n",
       "    <tr>\n",
       "      <th>996</th>\n",
       "      <td>4359</td>\n",
       "      <td>CS-GO</td>\n",
       "      <td>Irrelevant</td>\n",
       "      <td>tHIS IS ACTUALLY A GOOD MOVE TOT BRING MORE VI...</td>\n",
       "      <td>False</td>\n",
       "    </tr>\n",
       "    <tr>\n",
       "      <th>997</th>\n",
       "      <td>2652</td>\n",
       "      <td>Borderlands</td>\n",
       "      <td>Positive</td>\n",
       "      <td>Today sucked so it’s time to drink wine n play...</td>\n",
       "      <td>False</td>\n",
       "    </tr>\n",
       "    <tr>\n",
       "      <th>998</th>\n",
       "      <td>8069</td>\n",
       "      <td>Microsoft</td>\n",
       "      <td>Positive</td>\n",
       "      <td>Bought a fraction of Microsoft today. Small wins.</td>\n",
       "      <td>False</td>\n",
       "    </tr>\n",
       "    <tr>\n",
       "      <th>999</th>\n",
       "      <td>6960</td>\n",
       "      <td>johnson&amp;johnson</td>\n",
       "      <td>Neutral</td>\n",
       "      <td>Johnson &amp; Johnson to stop selling talc baby po...</td>\n",
       "      <td>False</td>\n",
       "    </tr>\n",
       "  </tbody>\n",
       "</table>\n",
       "<p>75682 rows × 5 columns</p>\n",
       "</div>"
      ],
      "text/plain": [
       "       Id               Entity   Sentiment  \\\n",
       "0    2401          Borderlands    Positive   \n",
       "1    2401          Borderlands    Positive   \n",
       "2    2401          Borderlands    Positive   \n",
       "3    2401          Borderlands    Positive   \n",
       "4    2401          Borderlands    Positive   \n",
       "..    ...                  ...         ...   \n",
       "995  4891  GrandTheftAuto(GTA)  Irrelevant   \n",
       "996  4359                CS-GO  Irrelevant   \n",
       "997  2652          Borderlands    Positive   \n",
       "998  8069            Microsoft    Positive   \n",
       "999  6960      johnson&johnson     Neutral   \n",
       "\n",
       "                                                 Tweet  is_train  \n",
       "0    im getting on borderlands and i will murder yo...      True  \n",
       "1    I am coming to the borders and I will kill you...      True  \n",
       "2    im getting on borderlands and i will kill you ...      True  \n",
       "3    im coming on borderlands and i will murder you...      True  \n",
       "4    im getting on borderlands 2 and i will murder ...      True  \n",
       "..                                                 ...       ...  \n",
       "995  ⭐️ Toronto is the arts and culture capital of ...     False  \n",
       "996  tHIS IS ACTUALLY A GOOD MOVE TOT BRING MORE VI...     False  \n",
       "997  Today sucked so it’s time to drink wine n play...     False  \n",
       "998  Bought a fraction of Microsoft today. Small wins.     False  \n",
       "999  Johnson & Johnson to stop selling talc baby po...     False  \n",
       "\n",
       "[75682 rows x 5 columns]"
      ]
     },
     "execution_count": 2,
     "metadata": {},
     "output_type": "execute_result"
    }
   ],
   "source": [
    "train_path = '/kaggle/input/twitter-entity-sentiment-analysis/twitter_training.csv'\n",
    "valid_path = '/kaggle/input/twitter-entity-sentiment-analysis/twitter_validation.csv'\n",
    "cols = ['Id', 'Entity', 'Sentiment', 'Tweet']\n",
    "train = pd.read_csv(train_path, names = cols, header=None)\n",
    "valid = pd.read_csv(valid_path, names = cols)\n",
    "train['is_train'], valid['is_train'] = True, False\n",
    "all_df = train.append(valid)\n",
    "all_df"
   ]
  },
  {
   "cell_type": "code",
   "execution_count": 3,
   "id": "e43630a6",
   "metadata": {
    "execution": {
     "iopub.execute_input": "2022-02-20T21:04:57.252712Z",
     "iopub.status.busy": "2022-02-20T21:04:57.251936Z",
     "iopub.status.idle": "2022-02-20T21:04:57.265069Z",
     "shell.execute_reply": "2022-02-20T21:04:57.265734Z",
     "shell.execute_reply.started": "2022-02-19T20:31:52.733437Z"
    },
    "papermill": {
     "duration": 0.06666,
     "end_time": "2022-02-20T21:04:57.265953",
     "exception": false,
     "start_time": "2022-02-20T21:04:57.199293",
     "status": "completed"
    },
    "tags": []
   },
   "outputs": [
    {
     "data": {
      "text/html": [
       "<div>\n",
       "<style scoped>\n",
       "    .dataframe tbody tr th:only-of-type {\n",
       "        vertical-align: middle;\n",
       "    }\n",
       "\n",
       "    .dataframe tbody tr th {\n",
       "        vertical-align: top;\n",
       "    }\n",
       "\n",
       "    .dataframe thead th {\n",
       "        text-align: right;\n",
       "    }\n",
       "</style>\n",
       "<table border=\"1\" class=\"dataframe\">\n",
       "  <thead>\n",
       "    <tr style=\"text-align: right;\">\n",
       "      <th></th>\n",
       "      <th>Id</th>\n",
       "      <th>Entity</th>\n",
       "      <th>Sentiment</th>\n",
       "      <th>Tweet</th>\n",
       "      <th>is_train</th>\n",
       "    </tr>\n",
       "  </thead>\n",
       "  <tbody>\n",
       "    <tr>\n",
       "      <th>0</th>\n",
       "      <td>2401</td>\n",
       "      <td>Borderlands</td>\n",
       "      <td>Positive</td>\n",
       "      <td>im getting on borderlands and i will murder yo...</td>\n",
       "      <td>True</td>\n",
       "    </tr>\n",
       "    <tr>\n",
       "      <th>1</th>\n",
       "      <td>2401</td>\n",
       "      <td>Borderlands</td>\n",
       "      <td>Positive</td>\n",
       "      <td>I am coming to the borders and I will kill you...</td>\n",
       "      <td>True</td>\n",
       "    </tr>\n",
       "    <tr>\n",
       "      <th>2</th>\n",
       "      <td>2401</td>\n",
       "      <td>Borderlands</td>\n",
       "      <td>Positive</td>\n",
       "      <td>im getting on borderlands and i will kill you ...</td>\n",
       "      <td>True</td>\n",
       "    </tr>\n",
       "    <tr>\n",
       "      <th>3</th>\n",
       "      <td>2401</td>\n",
       "      <td>Borderlands</td>\n",
       "      <td>Positive</td>\n",
       "      <td>im coming on borderlands and i will murder you...</td>\n",
       "      <td>True</td>\n",
       "    </tr>\n",
       "    <tr>\n",
       "      <th>4</th>\n",
       "      <td>2401</td>\n",
       "      <td>Borderlands</td>\n",
       "      <td>Positive</td>\n",
       "      <td>im getting on borderlands 2 and i will murder ...</td>\n",
       "      <td>True</td>\n",
       "    </tr>\n",
       "    <tr>\n",
       "      <th>...</th>\n",
       "      <td>...</td>\n",
       "      <td>...</td>\n",
       "      <td>...</td>\n",
       "      <td>...</td>\n",
       "      <td>...</td>\n",
       "    </tr>\n",
       "    <tr>\n",
       "      <th>75677</th>\n",
       "      <td>4891</td>\n",
       "      <td>GrandTheftAuto(GTA)</td>\n",
       "      <td>Irrelevant</td>\n",
       "      <td>⭐️ Toronto is the arts and culture capital of ...</td>\n",
       "      <td>False</td>\n",
       "    </tr>\n",
       "    <tr>\n",
       "      <th>75678</th>\n",
       "      <td>4359</td>\n",
       "      <td>CS-GO</td>\n",
       "      <td>Irrelevant</td>\n",
       "      <td>tHIS IS ACTUALLY A GOOD MOVE TOT BRING MORE VI...</td>\n",
       "      <td>False</td>\n",
       "    </tr>\n",
       "    <tr>\n",
       "      <th>75679</th>\n",
       "      <td>2652</td>\n",
       "      <td>Borderlands</td>\n",
       "      <td>Positive</td>\n",
       "      <td>Today sucked so it’s time to drink wine n play...</td>\n",
       "      <td>False</td>\n",
       "    </tr>\n",
       "    <tr>\n",
       "      <th>75680</th>\n",
       "      <td>8069</td>\n",
       "      <td>Microsoft</td>\n",
       "      <td>Positive</td>\n",
       "      <td>Bought a fraction of Microsoft today. Small wins.</td>\n",
       "      <td>False</td>\n",
       "    </tr>\n",
       "    <tr>\n",
       "      <th>75681</th>\n",
       "      <td>6960</td>\n",
       "      <td>johnson&amp;johnson</td>\n",
       "      <td>Neutral</td>\n",
       "      <td>Johnson &amp; Johnson to stop selling talc baby po...</td>\n",
       "      <td>False</td>\n",
       "    </tr>\n",
       "  </tbody>\n",
       "</table>\n",
       "<p>75682 rows × 5 columns</p>\n",
       "</div>"
      ],
      "text/plain": [
       "         Id               Entity   Sentiment  \\\n",
       "0      2401          Borderlands    Positive   \n",
       "1      2401          Borderlands    Positive   \n",
       "2      2401          Borderlands    Positive   \n",
       "3      2401          Borderlands    Positive   \n",
       "4      2401          Borderlands    Positive   \n",
       "...     ...                  ...         ...   \n",
       "75677  4891  GrandTheftAuto(GTA)  Irrelevant   \n",
       "75678  4359                CS-GO  Irrelevant   \n",
       "75679  2652          Borderlands    Positive   \n",
       "75680  8069            Microsoft    Positive   \n",
       "75681  6960      johnson&johnson     Neutral   \n",
       "\n",
       "                                                   Tweet  is_train  \n",
       "0      im getting on borderlands and i will murder yo...      True  \n",
       "1      I am coming to the borders and I will kill you...      True  \n",
       "2      im getting on borderlands and i will kill you ...      True  \n",
       "3      im coming on borderlands and i will murder you...      True  \n",
       "4      im getting on borderlands 2 and i will murder ...      True  \n",
       "...                                                  ...       ...  \n",
       "75677  ⭐️ Toronto is the arts and culture capital of ...     False  \n",
       "75678  tHIS IS ACTUALLY A GOOD MOVE TOT BRING MORE VI...     False  \n",
       "75679  Today sucked so it’s time to drink wine n play...     False  \n",
       "75680  Bought a fraction of Microsoft today. Small wins.     False  \n",
       "75681  Johnson & Johnson to stop selling talc baby po...     False  \n",
       "\n",
       "[75682 rows x 5 columns]"
      ]
     },
     "execution_count": 3,
     "metadata": {},
     "output_type": "execute_result"
    }
   ],
   "source": [
    "all_df.index = pd.RangeIndex(len(all_df.index))\n",
    "all_df.index = range(len(all_df.index))\n",
    "all_df"
   ]
  },
  {
   "cell_type": "markdown",
   "id": "4b886878",
   "metadata": {
    "papermill": {
     "duration": 0.04278,
     "end_time": "2022-02-20T21:04:57.354879",
     "exception": false,
     "start_time": "2022-02-20T21:04:57.312099",
     "status": "completed"
    },
    "tags": []
   },
   "source": [
    "## EDA"
   ]
  },
  {
   "cell_type": "code",
   "execution_count": 4,
   "id": "a2c187f0",
   "metadata": {
    "execution": {
     "iopub.execute_input": "2022-02-20T21:04:57.449817Z",
     "iopub.status.busy": "2022-02-20T21:04:57.449107Z",
     "iopub.status.idle": "2022-02-20T21:04:57.458611Z",
     "shell.execute_reply": "2022-02-20T21:04:57.459172Z",
     "shell.execute_reply.started": "2022-02-19T20:31:52.88095Z"
    },
    "papermill": {
     "duration": 0.05881,
     "end_time": "2022-02-20T21:04:57.459361",
     "exception": false,
     "start_time": "2022-02-20T21:04:57.400551",
     "status": "completed"
    },
    "tags": []
   },
   "outputs": [
    {
     "data": {
      "text/html": [
       "<div>\n",
       "<style scoped>\n",
       "    .dataframe tbody tr th:only-of-type {\n",
       "        vertical-align: middle;\n",
       "    }\n",
       "\n",
       "    .dataframe tbody tr th {\n",
       "        vertical-align: top;\n",
       "    }\n",
       "\n",
       "    .dataframe thead th {\n",
       "        text-align: right;\n",
       "    }\n",
       "</style>\n",
       "<table border=\"1\" class=\"dataframe\">\n",
       "  <thead>\n",
       "    <tr style=\"text-align: right;\">\n",
       "      <th></th>\n",
       "      <th>0</th>\n",
       "      <th>1</th>\n",
       "    </tr>\n",
       "  </thead>\n",
       "  <tbody>\n",
       "    <tr>\n",
       "      <th>Id</th>\n",
       "      <td>2401</td>\n",
       "      <td>2401</td>\n",
       "    </tr>\n",
       "    <tr>\n",
       "      <th>Entity</th>\n",
       "      <td>Borderlands</td>\n",
       "      <td>Borderlands</td>\n",
       "    </tr>\n",
       "    <tr>\n",
       "      <th>Sentiment</th>\n",
       "      <td>Positive</td>\n",
       "      <td>Positive</td>\n",
       "    </tr>\n",
       "    <tr>\n",
       "      <th>Tweet</th>\n",
       "      <td>im getting on borderlands and i will murder yo...</td>\n",
       "      <td>I am coming to the borders and I will kill you...</td>\n",
       "    </tr>\n",
       "    <tr>\n",
       "      <th>is_train</th>\n",
       "      <td>True</td>\n",
       "      <td>True</td>\n",
       "    </tr>\n",
       "  </tbody>\n",
       "</table>\n",
       "</div>"
      ],
      "text/plain": [
       "                                                           0  \\\n",
       "Id                                                      2401   \n",
       "Entity                                           Borderlands   \n",
       "Sentiment                                           Positive   \n",
       "Tweet      im getting on borderlands and i will murder yo...   \n",
       "is_train                                                True   \n",
       "\n",
       "                                                           1  \n",
       "Id                                                      2401  \n",
       "Entity                                           Borderlands  \n",
       "Sentiment                                           Positive  \n",
       "Tweet      I am coming to the borders and I will kill you...  \n",
       "is_train                                                True  "
      ]
     },
     "execution_count": 4,
     "metadata": {},
     "output_type": "execute_result"
    }
   ],
   "source": [
    "all_df.head(2).T"
   ]
  },
  {
   "cell_type": "code",
   "execution_count": 5,
   "id": "efe80233",
   "metadata": {
    "execution": {
     "iopub.execute_input": "2022-02-20T21:04:57.550805Z",
     "iopub.status.busy": "2022-02-20T21:04:57.550107Z",
     "iopub.status.idle": "2022-02-20T21:04:57.583886Z",
     "shell.execute_reply": "2022-02-20T21:04:57.583210Z",
     "shell.execute_reply.started": "2022-02-19T20:31:52.896717Z"
    },
    "papermill": {
     "duration": 0.081499,
     "end_time": "2022-02-20T21:04:57.584029",
     "exception": false,
     "start_time": "2022-02-20T21:04:57.502530",
     "status": "completed"
    },
    "tags": []
   },
   "outputs": [
    {
     "data": {
      "text/plain": [
       "(73996, 2)"
      ]
     },
     "execution_count": 5,
     "metadata": {},
     "output_type": "execute_result"
    }
   ],
   "source": [
    "labeled_df = train[['Sentiment', 'Tweet']].copy()\n",
    "\n",
    "labeled_df  = labeled_df[pd.notnull(labeled_df['Tweet'])]\n",
    "\n",
    "labeled_df.shape"
   ]
  },
  {
   "cell_type": "code",
   "execution_count": 6,
   "id": "de838b78",
   "metadata": {
    "execution": {
     "iopub.execute_input": "2022-02-20T21:04:57.696204Z",
     "iopub.status.busy": "2022-02-20T21:04:57.695034Z",
     "iopub.status.idle": "2022-02-20T21:04:57.701851Z",
     "shell.execute_reply": "2022-02-20T21:04:57.702321Z",
     "shell.execute_reply.started": "2022-02-19T20:31:52.922264Z"
    },
    "papermill": {
     "duration": 0.073091,
     "end_time": "2022-02-20T21:04:57.702510",
     "exception": false,
     "start_time": "2022-02-20T21:04:57.629419",
     "status": "completed"
    },
    "tags": []
   },
   "outputs": [
    {
     "data": {
      "text/plain": [
       "Sentiment    0\n",
       "Tweet        0\n",
       "dtype: int64"
      ]
     },
     "execution_count": 6,
     "metadata": {},
     "output_type": "execute_result"
    }
   ],
   "source": [
    "labeled_df.isnull().sum()"
   ]
  },
  {
   "cell_type": "code",
   "execution_count": 7,
   "id": "034aed85",
   "metadata": {
    "execution": {
     "iopub.execute_input": "2022-02-20T21:04:57.795031Z",
     "iopub.status.busy": "2022-02-20T21:04:57.794009Z",
     "iopub.status.idle": "2022-02-20T21:04:57.810213Z",
     "shell.execute_reply": "2022-02-20T21:04:57.810906Z",
     "shell.execute_reply.started": "2022-02-19T20:31:52.939537Z"
    },
    "papermill": {
     "duration": 0.064559,
     "end_time": "2022-02-20T21:04:57.811103",
     "exception": false,
     "start_time": "2022-02-20T21:04:57.746544",
     "status": "completed"
    },
    "tags": []
   },
   "outputs": [
    {
     "data": {
      "text/plain": [
       "97.8"
      ]
     },
     "execution_count": 7,
     "metadata": {},
     "output_type": "execute_result"
    }
   ],
   "source": [
    "total = train['Tweet'].notnull().sum()\n",
    "round((total/len(all_df)*100),1)"
   ]
  },
  {
   "cell_type": "code",
   "execution_count": 8,
   "id": "e3d5e36a",
   "metadata": {
    "execution": {
     "iopub.execute_input": "2022-02-20T21:04:57.915634Z",
     "iopub.status.busy": "2022-02-20T21:04:57.902724Z",
     "iopub.status.idle": "2022-02-20T21:04:57.920642Z",
     "shell.execute_reply": "2022-02-20T21:04:57.921179Z",
     "shell.execute_reply.started": "2022-02-19T20:31:52.957649Z"
    },
    "papermill": {
     "duration": 0.06532,
     "end_time": "2022-02-20T21:04:57.921352",
     "exception": false,
     "start_time": "2022-02-20T21:04:57.856032",
     "status": "completed"
    },
    "tags": []
   },
   "outputs": [
    {
     "data": {
      "text/plain": [
       "Negative      22358\n",
       "Positive      20655\n",
       "Neutral       18108\n",
       "Irrelevant    12875\n",
       "Name: Sentiment, dtype: int64"
      ]
     },
     "execution_count": 8,
     "metadata": {},
     "output_type": "execute_result"
    }
   ],
   "source": [
    "# pd.DataFrame(short_df.Sentiment.unique()).values\n",
    "labeled_df.Sentiment.value_counts()"
   ]
  },
  {
   "cell_type": "code",
   "execution_count": 9,
   "id": "bcc273d0",
   "metadata": {
    "execution": {
     "iopub.execute_input": "2022-02-20T21:04:58.018487Z",
     "iopub.status.busy": "2022-02-20T21:04:58.014746Z",
     "iopub.status.idle": "2022-02-20T21:04:58.045058Z",
     "shell.execute_reply": "2022-02-20T21:04:58.045570Z",
     "shell.execute_reply.started": "2022-02-19T20:31:52.973821Z"
    },
    "papermill": {
     "duration": 0.079078,
     "end_time": "2022-02-20T21:04:58.045770",
     "exception": false,
     "start_time": "2022-02-20T21:04:57.966692",
     "status": "completed"
    },
    "tags": []
   },
   "outputs": [
    {
     "data": {
      "text/html": [
       "<div>\n",
       "<style scoped>\n",
       "    .dataframe tbody tr th:only-of-type {\n",
       "        vertical-align: middle;\n",
       "    }\n",
       "\n",
       "    .dataframe tbody tr th {\n",
       "        vertical-align: top;\n",
       "    }\n",
       "\n",
       "    .dataframe thead th {\n",
       "        text-align: right;\n",
       "    }\n",
       "</style>\n",
       "<table border=\"1\" class=\"dataframe\">\n",
       "  <thead>\n",
       "    <tr style=\"text-align: right;\">\n",
       "      <th></th>\n",
       "      <th>Sentiment</th>\n",
       "      <th>Tweet</th>\n",
       "      <th>Sentiment_target</th>\n",
       "    </tr>\n",
       "  </thead>\n",
       "  <tbody>\n",
       "    <tr>\n",
       "      <th>56570</th>\n",
       "      <td>Positive</td>\n",
       "      <td>Are we just going to pretend to be @ Ubisoft a...</td>\n",
       "      <td>0</td>\n",
       "    </tr>\n",
       "    <tr>\n",
       "      <th>54194</th>\n",
       "      <td>Negative</td>\n",
       "      <td>The problem is even more than racism, it's a d...</td>\n",
       "      <td>2</td>\n",
       "    </tr>\n",
       "    <tr>\n",
       "      <th>64054</th>\n",
       "      <td>Negative</td>\n",
       "      <td>Hey @EAMaddenNFL but when else is the update c...</td>\n",
       "      <td>2</td>\n",
       "    </tr>\n",
       "    <tr>\n",
       "      <th>42756</th>\n",
       "      <td>Irrelevant</td>\n",
       "      <td>Can Mingyu also play PUBG huhuhu I want him to...</td>\n",
       "      <td>3</td>\n",
       "    </tr>\n",
       "    <tr>\n",
       "      <th>38295</th>\n",
       "      <td>Negative</td>\n",
       "      <td>@BlizzardCSEU_EN Any logical reason why my hea...</td>\n",
       "      <td>2</td>\n",
       "    </tr>\n",
       "    <tr>\n",
       "      <th>...</th>\n",
       "      <td>...</td>\n",
       "      <td>...</td>\n",
       "      <td>...</td>\n",
       "    </tr>\n",
       "    <tr>\n",
       "      <th>18029</th>\n",
       "      <td>Positive</td>\n",
       "      <td>U could hear that ps1 was in a joint.. dope......</td>\n",
       "      <td>0</td>\n",
       "    </tr>\n",
       "    <tr>\n",
       "      <th>29309</th>\n",
       "      <td>Negative</td>\n",
       "      <td>@EA @PlayApex I’ve been trying to play the gam...</td>\n",
       "      <td>2</td>\n",
       "    </tr>\n",
       "    <tr>\n",
       "      <th>29737</th>\n",
       "      <td>Neutral</td>\n",
       "      <td>I really had a bad feeling to clear ppl with t...</td>\n",
       "      <td>1</td>\n",
       "    </tr>\n",
       "    <tr>\n",
       "      <th>45666</th>\n",
       "      <td>Neutral</td>\n",
       "      <td>Eh.   Probably for the best.</td>\n",
       "      <td>1</td>\n",
       "    </tr>\n",
       "    <tr>\n",
       "      <th>48357</th>\n",
       "      <td>Positive</td>\n",
       "      <td>When the State tells you you safe to go to Hom...</td>\n",
       "      <td>0</td>\n",
       "    </tr>\n",
       "  </tbody>\n",
       "</table>\n",
       "<p>35000 rows × 3 columns</p>\n",
       "</div>"
      ],
      "text/plain": [
       "        Sentiment                                              Tweet  \\\n",
       "56570    Positive  Are we just going to pretend to be @ Ubisoft a...   \n",
       "54194    Negative  The problem is even more than racism, it's a d...   \n",
       "64054    Negative  Hey @EAMaddenNFL but when else is the update c...   \n",
       "42756  Irrelevant  Can Mingyu also play PUBG huhuhu I want him to...   \n",
       "38295    Negative  @BlizzardCSEU_EN Any logical reason why my hea...   \n",
       "...           ...                                                ...   \n",
       "18029    Positive  U could hear that ps1 was in a joint.. dope......   \n",
       "29309    Negative  @EA @PlayApex I’ve been trying to play the gam...   \n",
       "29737     Neutral  I really had a bad feeling to clear ppl with t...   \n",
       "45666     Neutral                       Eh.   Probably for the best.   \n",
       "48357    Positive  When the State tells you you safe to go to Hom...   \n",
       "\n",
       "       Sentiment_target  \n",
       "56570                 0  \n",
       "54194                 2  \n",
       "64054                 2  \n",
       "42756                 3  \n",
       "38295                 2  \n",
       "...                 ...  \n",
       "18029                 0  \n",
       "29309                 2  \n",
       "29737                 1  \n",
       "45666                 1  \n",
       "48357                 0  \n",
       "\n",
       "[35000 rows x 3 columns]"
      ]
     },
     "execution_count": 9,
     "metadata": {},
     "output_type": "execute_result"
    }
   ],
   "source": [
    "labeled_df['Sentiment_target'] = labeled_df.Sentiment.factorize()[0]\n",
    "# short_df=short_df[['Tweet', 'Sentiment_target']].drop_duplicates()\n",
    "short_df = labeled_df.sample(35000, random_state=1).copy()\n",
    "short_df"
   ]
  },
  {
   "cell_type": "code",
   "execution_count": 10,
   "id": "682111ff",
   "metadata": {
    "execution": {
     "iopub.execute_input": "2022-02-20T21:04:58.143144Z",
     "iopub.status.busy": "2022-02-20T21:04:58.142410Z",
     "iopub.status.idle": "2022-02-20T21:04:58.186828Z",
     "shell.execute_reply": "2022-02-20T21:04:58.186131Z",
     "shell.execute_reply.started": "2022-02-19T20:31:53.007695Z"
    },
    "papermill": {
     "duration": 0.095653,
     "end_time": "2022-02-20T21:04:58.186972",
     "exception": false,
     "start_time": "2022-02-20T21:04:58.091319",
     "status": "completed"
    },
    "tags": []
   },
   "outputs": [
    {
     "data": {
      "text/html": [
       "<div>\n",
       "<style scoped>\n",
       "    .dataframe tbody tr th:only-of-type {\n",
       "        vertical-align: middle;\n",
       "    }\n",
       "\n",
       "    .dataframe tbody tr th {\n",
       "        vertical-align: top;\n",
       "    }\n",
       "\n",
       "    .dataframe thead th {\n",
       "        text-align: right;\n",
       "    }\n",
       "</style>\n",
       "<table border=\"1\" class=\"dataframe\">\n",
       "  <thead>\n",
       "    <tr style=\"text-align: right;\">\n",
       "      <th></th>\n",
       "      <th>Sentiment</th>\n",
       "      <th>Tweet</th>\n",
       "      <th>Sentiment_target</th>\n",
       "    </tr>\n",
       "  </thead>\n",
       "  <tbody>\n",
       "    <tr>\n",
       "      <th>56570</th>\n",
       "      <td>Positive</td>\n",
       "      <td>Are we just going to pretend to be @ Ubisoft a...</td>\n",
       "      <td>0</td>\n",
       "    </tr>\n",
       "    <tr>\n",
       "      <th>54194</th>\n",
       "      <td>Negative</td>\n",
       "      <td>The problem is even more than racism, it's a d...</td>\n",
       "      <td>2</td>\n",
       "    </tr>\n",
       "    <tr>\n",
       "      <th>64054</th>\n",
       "      <td>Negative</td>\n",
       "      <td>Hey @EAMaddenNFL but when else is the update c...</td>\n",
       "      <td>2</td>\n",
       "    </tr>\n",
       "    <tr>\n",
       "      <th>42756</th>\n",
       "      <td>Irrelevant</td>\n",
       "      <td>Can Mingyu also play PUBG huhuhu I want him to...</td>\n",
       "      <td>3</td>\n",
       "    </tr>\n",
       "    <tr>\n",
       "      <th>38295</th>\n",
       "      <td>Negative</td>\n",
       "      <td>@BlizzardCSEU_EN Any logical reason why my hea...</td>\n",
       "      <td>2</td>\n",
       "    </tr>\n",
       "    <tr>\n",
       "      <th>...</th>\n",
       "      <td>...</td>\n",
       "      <td>...</td>\n",
       "      <td>...</td>\n",
       "    </tr>\n",
       "    <tr>\n",
       "      <th>18029</th>\n",
       "      <td>Positive</td>\n",
       "      <td>U could hear that ps1 was in a joint.. dope......</td>\n",
       "      <td>0</td>\n",
       "    </tr>\n",
       "    <tr>\n",
       "      <th>29309</th>\n",
       "      <td>Negative</td>\n",
       "      <td>@EA @PlayApex I’ve been trying to play the gam...</td>\n",
       "      <td>2</td>\n",
       "    </tr>\n",
       "    <tr>\n",
       "      <th>29737</th>\n",
       "      <td>Neutral</td>\n",
       "      <td>I really had a bad feeling to clear ppl with t...</td>\n",
       "      <td>1</td>\n",
       "    </tr>\n",
       "    <tr>\n",
       "      <th>45666</th>\n",
       "      <td>Neutral</td>\n",
       "      <td>Eh.   Probably for the best.</td>\n",
       "      <td>1</td>\n",
       "    </tr>\n",
       "    <tr>\n",
       "      <th>48357</th>\n",
       "      <td>Positive</td>\n",
       "      <td>When the State tells you you safe to go to Hom...</td>\n",
       "      <td>0</td>\n",
       "    </tr>\n",
       "  </tbody>\n",
       "</table>\n",
       "<p>33677 rows × 3 columns</p>\n",
       "</div>"
      ],
      "text/plain": [
       "        Sentiment                                              Tweet  \\\n",
       "56570    Positive  Are we just going to pretend to be @ Ubisoft a...   \n",
       "54194    Negative  The problem is even more than racism, it's a d...   \n",
       "64054    Negative  Hey @EAMaddenNFL but when else is the update c...   \n",
       "42756  Irrelevant  Can Mingyu also play PUBG huhuhu I want him to...   \n",
       "38295    Negative  @BlizzardCSEU_EN Any logical reason why my hea...   \n",
       "...           ...                                                ...   \n",
       "18029    Positive  U could hear that ps1 was in a joint.. dope......   \n",
       "29309    Negative  @EA @PlayApex I’ve been trying to play the gam...   \n",
       "29737     Neutral  I really had a bad feeling to clear ppl with t...   \n",
       "45666     Neutral                       Eh.   Probably for the best.   \n",
       "48357    Positive  When the State tells you you safe to go to Hom...   \n",
       "\n",
       "       Sentiment_target  \n",
       "56570                 0  \n",
       "54194                 2  \n",
       "64054                 2  \n",
       "42756                 3  \n",
       "38295                 2  \n",
       "...                 ...  \n",
       "18029                 0  \n",
       "29309                 2  \n",
       "29737                 1  \n",
       "45666                 1  \n",
       "48357                 0  \n",
       "\n",
       "[33677 rows x 3 columns]"
      ]
     },
     "execution_count": 10,
     "metadata": {},
     "output_type": "execute_result"
    }
   ],
   "source": [
    "short_df=short_df.drop_duplicates()\n",
    "short_df"
   ]
  },
  {
   "cell_type": "code",
   "execution_count": 11,
   "id": "92c895b2",
   "metadata": {
    "execution": {
     "iopub.execute_input": "2022-02-20T21:04:58.288895Z",
     "iopub.status.busy": "2022-02-20T21:04:58.287805Z",
     "iopub.status.idle": "2022-02-20T21:04:58.300916Z",
     "shell.execute_reply": "2022-02-20T21:04:58.300333Z",
     "shell.execute_reply.started": "2022-02-19T20:31:53.05366Z"
    },
    "papermill": {
     "duration": 0.06538,
     "end_time": "2022-02-20T21:04:58.301064",
     "exception": false,
     "start_time": "2022-02-20T21:04:58.235684",
     "status": "completed"
    },
    "tags": []
   },
   "outputs": [
    {
     "data": {
      "text/html": [
       "<div>\n",
       "<style scoped>\n",
       "    .dataframe tbody tr th:only-of-type {\n",
       "        vertical-align: middle;\n",
       "    }\n",
       "\n",
       "    .dataframe tbody tr th {\n",
       "        vertical-align: top;\n",
       "    }\n",
       "\n",
       "    .dataframe thead th {\n",
       "        text-align: right;\n",
       "    }\n",
       "</style>\n",
       "<table border=\"1\" class=\"dataframe\">\n",
       "  <thead>\n",
       "    <tr style=\"text-align: right;\">\n",
       "      <th></th>\n",
       "      <th>Sentiment</th>\n",
       "      <th>Tweet</th>\n",
       "      <th>Sentiment_target</th>\n",
       "    </tr>\n",
       "  </thead>\n",
       "  <tbody>\n",
       "    <tr>\n",
       "      <th>0</th>\n",
       "      <td>Positive</td>\n",
       "      <td>Are we just going to pretend to be @ Ubisoft a...</td>\n",
       "      <td>0</td>\n",
       "    </tr>\n",
       "    <tr>\n",
       "      <th>1</th>\n",
       "      <td>Negative</td>\n",
       "      <td>The problem is even more than racism, it's a d...</td>\n",
       "      <td>2</td>\n",
       "    </tr>\n",
       "    <tr>\n",
       "      <th>2</th>\n",
       "      <td>Negative</td>\n",
       "      <td>Hey @EAMaddenNFL but when else is the update c...</td>\n",
       "      <td>2</td>\n",
       "    </tr>\n",
       "    <tr>\n",
       "      <th>3</th>\n",
       "      <td>Irrelevant</td>\n",
       "      <td>Can Mingyu also play PUBG huhuhu I want him to...</td>\n",
       "      <td>3</td>\n",
       "    </tr>\n",
       "    <tr>\n",
       "      <th>4</th>\n",
       "      <td>Negative</td>\n",
       "      <td>@BlizzardCSEU_EN Any logical reason why my hea...</td>\n",
       "      <td>2</td>\n",
       "    </tr>\n",
       "    <tr>\n",
       "      <th>...</th>\n",
       "      <td>...</td>\n",
       "      <td>...</td>\n",
       "      <td>...</td>\n",
       "    </tr>\n",
       "    <tr>\n",
       "      <th>33672</th>\n",
       "      <td>Positive</td>\n",
       "      <td>U could hear that ps1 was in a joint.. dope......</td>\n",
       "      <td>0</td>\n",
       "    </tr>\n",
       "    <tr>\n",
       "      <th>33673</th>\n",
       "      <td>Negative</td>\n",
       "      <td>@EA @PlayApex I’ve been trying to play the gam...</td>\n",
       "      <td>2</td>\n",
       "    </tr>\n",
       "    <tr>\n",
       "      <th>33674</th>\n",
       "      <td>Neutral</td>\n",
       "      <td>I really had a bad feeling to clear ppl with t...</td>\n",
       "      <td>1</td>\n",
       "    </tr>\n",
       "    <tr>\n",
       "      <th>33675</th>\n",
       "      <td>Neutral</td>\n",
       "      <td>Eh.   Probably for the best.</td>\n",
       "      <td>1</td>\n",
       "    </tr>\n",
       "    <tr>\n",
       "      <th>33676</th>\n",
       "      <td>Positive</td>\n",
       "      <td>When the State tells you you safe to go to Hom...</td>\n",
       "      <td>0</td>\n",
       "    </tr>\n",
       "  </tbody>\n",
       "</table>\n",
       "<p>33677 rows × 3 columns</p>\n",
       "</div>"
      ],
      "text/plain": [
       "        Sentiment                                              Tweet  \\\n",
       "0        Positive  Are we just going to pretend to be @ Ubisoft a...   \n",
       "1        Negative  The problem is even more than racism, it's a d...   \n",
       "2        Negative  Hey @EAMaddenNFL but when else is the update c...   \n",
       "3      Irrelevant  Can Mingyu also play PUBG huhuhu I want him to...   \n",
       "4        Negative  @BlizzardCSEU_EN Any logical reason why my hea...   \n",
       "...           ...                                                ...   \n",
       "33672    Positive  U could hear that ps1 was in a joint.. dope......   \n",
       "33673    Negative  @EA @PlayApex I’ve been trying to play the gam...   \n",
       "33674     Neutral  I really had a bad feeling to clear ppl with t...   \n",
       "33675     Neutral                       Eh.   Probably for the best.   \n",
       "33676    Positive  When the State tells you you safe to go to Hom...   \n",
       "\n",
       "       Sentiment_target  \n",
       "0                     0  \n",
       "1                     2  \n",
       "2                     2  \n",
       "3                     3  \n",
       "4                     2  \n",
       "...                 ...  \n",
       "33672                 0  \n",
       "33673                 2  \n",
       "33674                 1  \n",
       "33675                 1  \n",
       "33676                 0  \n",
       "\n",
       "[33677 rows x 3 columns]"
      ]
     },
     "execution_count": 11,
     "metadata": {},
     "output_type": "execute_result"
    }
   ],
   "source": [
    "short_df = short_df.reset_index(drop=True)\n",
    "short_df"
   ]
  },
  {
   "cell_type": "code",
   "execution_count": 12,
   "id": "51dc2db9",
   "metadata": {
    "execution": {
     "iopub.execute_input": "2022-02-20T21:04:58.401316Z",
     "iopub.status.busy": "2022-02-20T21:04:58.400243Z",
     "iopub.status.idle": "2022-02-20T21:04:58.406447Z",
     "shell.execute_reply": "2022-02-20T21:04:58.405884Z",
     "shell.execute_reply.started": "2022-02-19T20:31:53.069587Z"
    },
    "papermill": {
     "duration": 0.058452,
     "end_time": "2022-02-20T21:04:58.406639",
     "exception": false,
     "start_time": "2022-02-20T21:04:58.348187",
     "status": "completed"
    },
    "tags": []
   },
   "outputs": [
    {
     "data": {
      "text/plain": [
       "(array([    3,     7,    13, ..., 33663, 33666, 33667]),)"
      ]
     },
     "execution_count": 12,
     "metadata": {},
     "output_type": "execute_result"
    }
   ],
   "source": [
    "np.nonzero((short_df.Sentiment_target==3).values)"
   ]
  },
  {
   "cell_type": "code",
   "execution_count": 13,
   "id": "6fd9e9e9",
   "metadata": {
    "execution": {
     "iopub.execute_input": "2022-02-20T21:04:58.507636Z",
     "iopub.status.busy": "2022-02-20T21:04:58.506455Z",
     "iopub.status.idle": "2022-02-20T21:04:58.515100Z",
     "shell.execute_reply": "2022-02-20T21:04:58.515840Z",
     "shell.execute_reply.started": "2022-02-19T20:31:53.078475Z"
    },
    "papermill": {
     "duration": 0.061976,
     "end_time": "2022-02-20T21:04:58.516075",
     "exception": false,
     "start_time": "2022-02-20T21:04:58.454099",
     "status": "completed"
    },
    "tags": []
   },
   "outputs": [
    {
     "name": "stderr",
     "output_type": "stream",
     "text": [
      "/opt/conda/lib/python3.7/site-packages/ipykernel_launcher.py:2: SettingWithCopyWarning: \n",
      "A value is trying to be set on a copy of a slice from a DataFrame\n",
      "\n",
      "See the caveats in the documentation: https://pandas.pydata.org/pandas-docs/stable/user_guide/indexing.html#returning-a-view-versus-a-copy\n",
      "  \n"
     ]
    },
    {
     "data": {
      "text/plain": [
       "1    14173\n",
       "2    10184\n",
       "0     9320\n",
       "Name: Sentiment_target, dtype: int64"
      ]
     },
     "execution_count": 13,
     "metadata": {},
     "output_type": "execute_result"
    }
   ],
   "source": [
    "for i in np.nonzero((short_df.Sentiment_target==3).values):\n",
    "    short_df.Sentiment_target[i] = int(1)\n",
    "short_df.Sentiment_target.value_counts()"
   ]
  },
  {
   "cell_type": "code",
   "execution_count": 14,
   "id": "1e312b95",
   "metadata": {
    "execution": {
     "iopub.execute_input": "2022-02-20T21:04:58.623089Z",
     "iopub.status.busy": "2022-02-20T21:04:58.617496Z",
     "iopub.status.idle": "2022-02-20T21:04:58.952007Z",
     "shell.execute_reply": "2022-02-20T21:04:58.951189Z",
     "shell.execute_reply.started": "2022-02-19T20:31:53.099093Z"
    },
    "papermill": {
     "duration": 0.386649,
     "end_time": "2022-02-20T21:04:58.952167",
     "exception": false,
     "start_time": "2022-02-20T21:04:58.565518",
     "status": "completed"
    },
    "tags": []
   },
   "outputs": [
    {
     "data": {
      "image/png": "[encoded data removed]",
      "text/plain": [
       "<Figure size 576x432 with 1 Axes>"
      ]
     },
     "metadata": {},
     "output_type": "display_data"
    }
   ],
   "source": [
    "fig = plt.figure(figsize=(8,6))\n",
    "colors = ['lightgrey','lightblue','darkgreen', 'darkred']\n",
    "short_df.groupby(['Sentiment']).Tweet.count().sort_values().plot.barh(\n",
    "    ylim=0, color=colors, title= 'NUMBER OF TWEETS IN EACH SENTIMENT CATEGORY\\n')\n",
    "plt.xlabel('Number of ocurrences', fontsize = 10);"
   ]
  },
  {
   "cell_type": "code",
   "execution_count": 15,
   "id": "d94670a6",
   "metadata": {
    "execution": {
     "iopub.execute_input": "2022-02-20T21:04:59.069307Z",
     "iopub.status.busy": "2022-02-20T21:04:59.068570Z",
     "iopub.status.idle": "2022-02-20T21:04:59.362761Z",
     "shell.execute_reply": "2022-02-20T21:04:59.361866Z",
     "shell.execute_reply.started": "2022-02-19T20:31:53.358129Z"
    },
    "papermill": {
     "duration": 0.358511,
     "end_time": "2022-02-20T21:04:59.362983",
     "exception": false,
     "start_time": "2022-02-20T21:04:59.004472",
     "status": "completed"
    },
    "tags": []
   },
   "outputs": [
    {
     "data": {
      "image/png": "[encoded data removed]",
      "text/plain": [
       "<Figure size 576x432 with 1 Axes>"
      ]
     },
     "metadata": {},
     "output_type": "display_data"
    }
   ],
   "source": [
    "fig = plt.figure(figsize=(8,6))\n",
    "colors = ['darkgreen', 'darkred', 'lightblue']\n",
    "short_df.groupby(['Sentiment_target']).Tweet.count().sort_values().plot.barh(\n",
    "    ylim=0, color=colors, title= 'NUMBER OF TWEETS IN EACH SENTIMENT CATEGORY\\n')\n",
    "plt.xlabel('Number of ocurrences', fontsize = 10);"
   ]
  },
  {
   "cell_type": "markdown",
   "id": "99111743",
   "metadata": {
    "papermill": {
     "duration": 0.063937,
     "end_time": "2022-02-20T21:04:59.485569",
     "exception": false,
     "start_time": "2022-02-20T21:04:59.421632",
     "status": "completed"
    },
    "tags": []
   },
   "source": [
    "## Text Preprocessing"
   ]
  },
  {
   "cell_type": "code",
   "execution_count": 16,
   "id": "32652c95",
   "metadata": {
    "execution": {
     "iopub.execute_input": "2022-02-20T21:04:59.614089Z",
     "iopub.status.busy": "2022-02-20T21:04:59.613012Z",
     "iopub.status.idle": "2022-02-20T21:05:02.750855Z",
     "shell.execute_reply": "2022-02-20T21:05:02.751340Z",
     "shell.execute_reply.started": "2022-02-19T20:31:53.617988Z"
    },
    "papermill": {
     "duration": 3.21115,
     "end_time": "2022-02-20T21:05:02.751552",
     "exception": false,
     "start_time": "2022-02-20T21:04:59.540402",
     "status": "completed"
    },
    "tags": []
   },
   "outputs": [
    {
     "name": "stdout",
     "output_type": "stream",
     "text": [
      "Each of the 33677 tweets is represented by 14348 features (TF-IDF score of unigrams and bigrams)\n"
     ]
    }
   ],
   "source": [
    "tfidf = TfidfVectorizer(sublinear_tf=True, min_df=5,\n",
    "                        ngram_range=(1, 2), \n",
    "                        stop_words='english')\n",
    "\n",
    "features = tfidf.fit_transform(short_df.Tweet).toarray()\n",
    "\n",
    "labels = short_df.Sentiment_target\n",
    "\n",
    "print(\"Each of the %d tweets is represented by %d features (TF-IDF score of unigrams and bigrams)\" %(features.shape))"
   ]
  },
  {
   "cell_type": "code",
   "execution_count": 17,
   "id": "4a5b087c",
   "metadata": {
    "execution": {
     "iopub.execute_input": "2022-02-20T21:05:02.864178Z",
     "iopub.status.busy": "2022-02-20T21:05:02.859898Z",
     "iopub.status.idle": "2022-02-20T21:05:02.868144Z",
     "shell.execute_reply": "2022-02-20T21:05:02.868640Z",
     "shell.execute_reply.started": "2022-02-19T20:35:10.55358Z"
    },
    "papermill": {
     "duration": 0.064577,
     "end_time": "2022-02-20T21:05:02.868844",
     "exception": false,
     "start_time": "2022-02-20T21:05:02.804267",
     "status": "completed"
    },
    "tags": []
   },
   "outputs": [
    {
     "data": {
      "text/plain": [
       "0        0\n",
       "1        2\n",
       "2        2\n",
       "3        1\n",
       "4        2\n",
       "        ..\n",
       "33672    0\n",
       "33673    2\n",
       "33674    1\n",
       "33675    1\n",
       "33676    0\n",
       "Name: Sentiment_target, Length: 33677, dtype: int64"
      ]
     },
     "execution_count": 17,
     "metadata": {},
     "output_type": "execute_result"
    }
   ],
   "source": [
    "labels"
   ]
  },
  {
   "cell_type": "markdown",
   "id": "fb93b6b6",
   "metadata": {
    "papermill": {
     "duration": 0.053618,
     "end_time": "2022-02-20T21:05:02.974746",
     "exception": false,
     "start_time": "2022-02-20T21:05:02.921128",
     "status": "completed"
    },
    "tags": []
   },
   "source": [
    "## Split data"
   ]
  },
  {
   "cell_type": "code",
   "execution_count": 18,
   "id": "ef181ce8",
   "metadata": {
    "execution": {
     "iopub.execute_input": "2022-02-20T21:05:03.092367Z",
     "iopub.status.busy": "2022-02-20T21:05:03.091302Z",
     "iopub.status.idle": "2022-02-20T21:05:03.106782Z",
     "shell.execute_reply": "2022-02-20T21:05:03.107611Z",
     "shell.execute_reply.started": "2022-02-19T20:36:18.90246Z"
    },
    "papermill": {
     "duration": 0.080394,
     "end_time": "2022-02-20T21:05:03.107899",
     "exception": false,
     "start_time": "2022-02-20T21:05:03.027505",
     "status": "completed"
    },
    "tags": []
   },
   "outputs": [],
   "source": [
    "X = short_df['Tweet'] \n",
    "y = short_df['Sentiment_target']\n",
    "\n",
    "X_train, X_test, y_train, y_test = train_test_split(X, y, \n",
    "                                                    test_size=0.25,\n",
    "                                                    random_state = 0)"
   ]
  },
  {
   "cell_type": "code",
   "execution_count": 19,
   "id": "e40622aa",
   "metadata": {
    "execution": {
     "iopub.execute_input": "2022-02-20T21:05:03.237778Z",
     "iopub.status.busy": "2022-02-20T21:05:03.237030Z",
     "iopub.status.idle": "2022-02-20T21:05:03.243130Z",
     "shell.execute_reply": "2022-02-20T21:05:03.243665Z",
     "shell.execute_reply.started": "2022-02-19T20:36:28.276229Z"
    },
    "papermill": {
     "duration": 0.06432,
     "end_time": "2022-02-20T21:05:03.243859",
     "exception": false,
     "start_time": "2022-02-20T21:05:03.179539",
     "status": "completed"
    },
    "tags": []
   },
   "outputs": [
    {
     "data": {
      "text/plain": [
       "10470    So shit went sideways with  . . twitch.tv/sa7a...\n",
       "27382    Judge blocks Microsoft's Pentagon contract aft...\n",
       "21013    Interesting... (for real, Jessica is pretty aw...\n",
       "11684    U could hear this PS1 sound in this joint.. do...\n",
       "25306    Borderlands 3 Chapter 1 youtu.be / 0SKu6Vr4iXU...\n",
       "                               ...                        \n",
       "20757    I appreciate how my favorite sniper stays on t...\n",
       "32103                                             music . \n",
       "30403    Kena is named one in my top 5 most anticipated...\n",
       "21243    After questionable recent actions, I've really...\n",
       "2732                                          ... Shut up.\n",
       "Name: Tweet, Length: 25257, dtype: object"
      ]
     },
     "execution_count": 19,
     "metadata": {},
     "output_type": "execute_result"
    }
   ],
   "source": [
    "X_train"
   ]
  },
  {
   "cell_type": "markdown",
   "id": "86182e65",
   "metadata": {
    "papermill": {
     "duration": 0.053956,
     "end_time": "2022-02-20T21:05:03.350719",
     "exception": false,
     "start_time": "2022-02-20T21:05:03.296763",
     "status": "completed"
    },
    "tags": []
   },
   "source": [
    "## Building models: RandomForest, LinearSVM, MultinomialNB, LogRegression"
   ]
  },
  {
   "cell_type": "code",
   "execution_count": 20,
   "id": "d4b8b256",
   "metadata": {
    "execution": {
     "iopub.execute_input": "2022-02-20T21:05:03.461119Z",
     "iopub.status.busy": "2022-02-20T21:05:03.460127Z",
     "iopub.status.idle": "2022-02-20T21:05:03.465846Z",
     "shell.execute_reply": "2022-02-20T21:05:03.465276Z",
     "shell.execute_reply.started": "2022-02-19T20:37:15.885447Z"
    },
    "papermill": {
     "duration": 0.061133,
     "end_time": "2022-02-20T21:05:03.466001",
     "exception": false,
     "start_time": "2022-02-20T21:05:03.404868",
     "status": "completed"
    },
    "tags": []
   },
   "outputs": [],
   "source": [
    "models = [\n",
    "    RandomForestClassifier(n_estimators=100, max_depth=5, random_state=0, verbose=1),\n",
    "    LinearSVC(verbose=1),\n",
    "    MultinomialNB(),\n",
    "    LogisticRegression(random_state=0,verbose=1),\n",
    "]"
   ]
  },
  {
   "cell_type": "code",
   "execution_count": 21,
   "id": "fd1b3f27",
   "metadata": {
    "execution": {
     "iopub.execute_input": "2022-02-20T21:05:03.581512Z",
     "iopub.status.busy": "2022-02-20T21:05:03.580357Z",
     "iopub.status.idle": "2022-02-20T21:17:17.153151Z",
     "shell.execute_reply": "2022-02-20T21:17:17.147604Z",
     "shell.execute_reply.started": "2022-02-19T20:37:48.386901Z"
    },
    "papermill": {
     "duration": 733.63554,
     "end_time": "2022-02-20T21:17:17.153464",
     "exception": false,
     "start_time": "2022-02-20T21:05:03.517924",
     "status": "completed"
    },
    "tags": []
   },
   "outputs": [
    {
     "data": {
      "application/vnd.jupyter.widget-view+json": {
       "model_id": "dcb404cebdaf441a902d9472d15b0909",
       "version_major": 2,
       "version_minor": 0
      },
      "text/plain": [
       "  0%|          | 0/4 [00:00<?, ?it/s]"
      ]
     },
     "metadata": {},
     "output_type": "display_data"
    },
    {
     "name": "stderr",
     "output_type": "stream",
     "text": [
      "[Parallel(n_jobs=1)]: Using backend SequentialBackend with 1 concurrent workers.\n",
      "[Parallel(n_jobs=1)]: Done 100 out of 100 | elapsed:   14.6s finished\n",
      "[Parallel(n_jobs=1)]: Using backend SequentialBackend with 1 concurrent workers.\n",
      "[Parallel(n_jobs=1)]: Done 100 out of 100 | elapsed:    0.1s finished\n",
      "[Parallel(n_jobs=1)]: Using backend SequentialBackend with 1 concurrent workers.\n",
      "[Parallel(n_jobs=1)]: Done 100 out of 100 | elapsed:   14.7s finished\n",
      "[Parallel(n_jobs=1)]: Using backend SequentialBackend with 1 concurrent workers.\n",
      "[Parallel(n_jobs=1)]: Done 100 out of 100 | elapsed:    0.1s finished\n",
      "[Parallel(n_jobs=1)]: Using backend SequentialBackend with 1 concurrent workers.\n",
      "[Parallel(n_jobs=1)]: Done 100 out of 100 | elapsed:   14.6s finished\n",
      "[Parallel(n_jobs=1)]: Using backend SequentialBackend with 1 concurrent workers.\n",
      "[Parallel(n_jobs=1)]: Done 100 out of 100 | elapsed:    0.1s finished\n",
      "[Parallel(n_jobs=1)]: Using backend SequentialBackend with 1 concurrent workers.\n",
      "[Parallel(n_jobs=1)]: Done 100 out of 100 | elapsed:   14.8s finished\n",
      "[Parallel(n_jobs=1)]: Using backend SequentialBackend with 1 concurrent workers.\n",
      "[Parallel(n_jobs=1)]: Done 100 out of 100 | elapsed:    0.1s finished\n",
      "[Parallel(n_jobs=1)]: Using backend SequentialBackend with 1 concurrent workers.\n",
      "[Parallel(n_jobs=1)]: Done 100 out of 100 | elapsed:   14.7s finished\n",
      "[Parallel(n_jobs=1)]: Using backend SequentialBackend with 1 concurrent workers.\n",
      "[Parallel(n_jobs=1)]: Done 100 out of 100 | elapsed:    0.1s finished\n"
     ]
    },
    {
     "name": "stdout",
     "output_type": "stream",
     "text": [
      "[LibLinear].....*\n",
      "optimization finished, #iter = 51\n",
      "Objective value = -7601.905350\n",
      "nSV = 18159\n",
      ".....*\n",
      "optimization finished, #iter = 51\n",
      "Objective value = -9751.443377\n",
      "nSV = 21201\n",
      "....*.\n",
      "optimization finished, #iter = 50\n",
      "Objective value = -6923.355972\n",
      "nSV = 17460\n",
      "[LibLinear].....*\n",
      "optimization finished, #iter = 51\n",
      "Objective value = -7742.776306\n",
      "nSV = 18385\n",
      "....*.\n",
      "optimization finished, #iter = 50\n",
      "Objective value = -9761.365051\n",
      "nSV = 21260\n",
      "....*.\n",
      "optimization finished, #iter = 50\n",
      "Objective value = -6941.475694\n",
      "nSV = 17356\n",
      "[LibLinear]....*.\n",
      "optimization finished, #iter = 50\n",
      "Objective value = -7726.085421\n",
      "nSV = 18468\n",
      ".....*\n",
      "optimization finished, #iter = 51\n",
      "Objective value = -9871.445513\n",
      "nSV = 21348\n",
      "....*.\n",
      "optimization finished, #iter = 50\n",
      "Objective value = -7035.370240\n",
      "nSV = 17567\n",
      "[LibLinear].....*\n",
      "optimization finished, #iter = 51\n",
      "Objective value = -7774.913294\n",
      "nSV = 18420\n",
      ".....*\n",
      "optimization finished, #iter = 51\n",
      "Objective value = -9898.363767\n",
      "nSV = 21333\n",
      "....*.\n",
      "optimization finished, #iter = 50\n",
      "Objective value = -7041.623611\n",
      "nSV = 17582\n",
      "[LibLinear].....*\n",
      "optimization finished, #iter = 51\n",
      "Objective value = -7737.664258\n",
      "nSV = 18403\n",
      ".....*\n",
      "optimization finished, #iter = 51\n",
      "Objective value = -9796.922558\n",
      "nSV = 21313\n",
      "....*.\n",
      "optimization finished, #iter = 50\n",
      "Objective value = -7014.116781\n",
      "nSV = 17603\n"
     ]
    },
    {
     "name": "stderr",
     "output_type": "stream",
     "text": [
      "[Parallel(n_jobs=1)]: Using backend SequentialBackend with 1 concurrent workers.\n",
      " This problem is unconstrained.\n"
     ]
    },
    {
     "name": "stdout",
     "output_type": "stream",
     "text": [
      "RUNNING THE L-BFGS-B CODE\n",
      "\n",
      "           * * *\n",
      "\n",
      "Machine precision = 2.220D-16\n",
      " N =        43047     M =           10\n",
      "\n",
      "At X0         0 variables are exactly at the bounds\n",
      "\n",
      "At iterate    0    f=  2.95977D+04    |proj g|=  2.35767D+03\n",
      "\n",
      "At iterate   50    f=  1.69984D+04    |proj g|=  6.29039D+01\n",
      "\n",
      "At iterate  100    f=  1.68935D+04    |proj g|=  1.05131D+01\n",
      "\n",
      "           * * *\n",
      "\n",
      "Tit   = total number of iterations\n",
      "Tnf   = total number of function evaluations\n",
      "Tnint = total number of segments explored during Cauchy searches\n",
      "Skip  = number of BFGS updates skipped\n",
      "Nact  = number of active bounds at final generalized Cauchy point\n",
      "Projg = norm of the final projected gradient\n",
      "F     = final function value\n",
      "\n",
      "           * * *\n",
      "\n",
      "   N    Tit     Tnf  Tnint  Skip  Nact     Projg        F\n",
      "43047    100    111      1     0     0   1.051D+01   1.689D+04\n",
      "  F =   16893.453757012674     \n",
      "\n",
      "STOP: TOTAL NO. of ITERATIONS REACHED LIMIT                 \n"
     ]
    },
    {
     "name": "stderr",
     "output_type": "stream",
     "text": [
      "/opt/conda/lib/python3.7/site-packages/sklearn/model_selection/_validation.py:552: FitFailedWarning: Estimator fit failed. The score on this train-test partition for these parameters will be set to nan. Details: \n",
      "Traceback (most recent call last):\n",
      "  File \"/opt/conda/lib/python3.7/site-packages/sklearn/model_selection/_validation.py\", line 531, in _fit_and_score\n",
      "    estimator.fit(X_train, y_train, **fit_params)\n",
      "  File \"/opt/conda/lib/python3.7/site-packages/sklearn/linear_model/_logistic.py\", line 1417, in fit\n",
      "    for class_, warm_start_coef_ in zip(classes_, warm_start_coef))\n",
      "  File \"/opt/conda/lib/python3.7/site-packages/joblib/parallel.py\", line 1043, in __call__\n",
      "    if self.dispatch_one_batch(iterator):\n",
      "  File \"/opt/conda/lib/python3.7/site-packages/joblib/parallel.py\", line 861, in dispatch_one_batch\n",
      "    self._dispatch(tasks)\n",
      "  File \"/opt/conda/lib/python3.7/site-packages/joblib/parallel.py\", line 779, in _dispatch\n",
      "    job = self._backend.apply_async(batch, callback=cb)\n",
      "  File \"/opt/conda/lib/python3.7/site-packages/joblib/_parallel_backends.py\", line 208, in apply_async\n",
      "    result = ImmediateResult(func)\n",
      "  File \"/opt/conda/lib/python3.7/site-packages/joblib/_parallel_backends.py\", line 572, in __init__\n",
      "    self.results = batch()\n",
      "  File \"/opt/conda/lib/python3.7/site-packages/joblib/parallel.py\", line 263, in __call__\n",
      "    for func, args, kwargs in self.items]\n",
      "  File \"/opt/conda/lib/python3.7/site-packages/joblib/parallel.py\", line 263, in <listcomp>\n",
      "    for func, args, kwargs in self.items]\n",
      "  File \"/opt/conda/lib/python3.7/site-packages/sklearn/linear_model/_logistic.py\", line 764, in _logistic_regression_path\n",
      "    extra_warning_msg=_LOGISTIC_SOLVER_CONVERGENCE_MSG)\n",
      "  File \"/opt/conda/lib/python3.7/site-packages/sklearn/utils/optimize.py\", line 243, in _check_optimize_result\n",
      "    ).format(solver, result.status, result.message.decode(\"latin1\"))\n",
      "AttributeError: 'str' object has no attribute 'decode'\n",
      "\n",
      "  FitFailedWarning)\n",
      "[Parallel(n_jobs=1)]: Using backend SequentialBackend with 1 concurrent workers.\n"
     ]
    },
    {
     "name": "stdout",
     "output_type": "stream",
     "text": [
      "RUNNING THE L-BFGS-B CODE\n",
      "\n",
      "           * * *\n",
      "\n",
      "Machine precision = 2.220D-16\n",
      " N =        43047     M =           10\n",
      "\n",
      "At X0         0 variables are exactly at the bounds\n",
      "\n",
      "At iterate    0    f=  2.95977D+04    |proj g|=  2.35767D+03\n"
     ]
    },
    {
     "name": "stderr",
     "output_type": "stream",
     "text": [
      " This problem is unconstrained.\n"
     ]
    },
    {
     "name": "stdout",
     "output_type": "stream",
     "text": [
      "\n",
      "At iterate   50    f=  1.70068D+04    |proj g|=  2.84529D+01\n",
      "\n",
      "At iterate  100    f=  1.69412D+04    |proj g|=  2.52823D+00\n",
      "\n",
      "           * * *\n",
      "\n",
      "Tit   = total number of iterations\n",
      "Tnf   = total number of function evaluations\n",
      "Tnint = total number of segments explored during Cauchy searches\n",
      "Skip  = number of BFGS updates skipped\n",
      "Nact  = number of active bounds at final generalized Cauchy point\n",
      "Projg = norm of the final projected gradient\n",
      "F     = final function value\n",
      "\n",
      "           * * *\n",
      "\n",
      "   N    Tit     Tnf  Tnint  Skip  Nact     Projg        F\n",
      "43047    100    117      1     0     0   2.528D+00   1.694D+04\n",
      "  F =   16941.163475536974     \n",
      "\n",
      "STOP: TOTAL NO. of ITERATIONS REACHED LIMIT                 \n"
     ]
    },
    {
     "name": "stderr",
     "output_type": "stream",
     "text": [
      "/opt/conda/lib/python3.7/site-packages/sklearn/model_selection/_validation.py:552: FitFailedWarning: Estimator fit failed. The score on this train-test partition for these parameters will be set to nan. Details: \n",
      "Traceback (most recent call last):\n",
      "  File \"/opt/conda/lib/python3.7/site-packages/sklearn/model_selection/_validation.py\", line 531, in _fit_and_score\n",
      "    estimator.fit(X_train, y_train, **fit_params)\n",
      "  File \"/opt/conda/lib/python3.7/site-packages/sklearn/linear_model/_logistic.py\", line 1417, in fit\n",
      "    for class_, warm_start_coef_ in zip(classes_, warm_start_coef))\n",
      "  File \"/opt/conda/lib/python3.7/site-packages/joblib/parallel.py\", line 1043, in __call__\n",
      "    if self.dispatch_one_batch(iterator):\n",
      "  File \"/opt/conda/lib/python3.7/site-packages/joblib/parallel.py\", line 861, in dispatch_one_batch\n",
      "    self._dispatch(tasks)\n",
      "  File \"/opt/conda/lib/python3.7/site-packages/joblib/parallel.py\", line 779, in _dispatch\n",
      "    job = self._backend.apply_async(batch, callback=cb)\n",
      "  File \"/opt/conda/lib/python3.7/site-packages/joblib/_parallel_backends.py\", line 208, in apply_async\n",
      "    result = ImmediateResult(func)\n",
      "  File \"/opt/conda/lib/python3.7/site-packages/joblib/_parallel_backends.py\", line 572, in __init__\n",
      "    self.results = batch()\n",
      "  File \"/opt/conda/lib/python3.7/site-packages/joblib/parallel.py\", line 263, in __call__\n",
      "    for func, args, kwargs in self.items]\n",
      "  File \"/opt/conda/lib/python3.7/site-packages/joblib/parallel.py\", line 263, in <listcomp>\n",
      "    for func, args, kwargs in self.items]\n",
      "  File \"/opt/conda/lib/python3.7/site-packages/sklearn/linear_model/_logistic.py\", line 764, in _logistic_regression_path\n",
      "    extra_warning_msg=_LOGISTIC_SOLVER_CONVERGENCE_MSG)\n",
      "  File \"/opt/conda/lib/python3.7/site-packages/sklearn/utils/optimize.py\", line 243, in _check_optimize_result\n",
      "    ).format(solver, result.status, result.message.decode(\"latin1\"))\n",
      "AttributeError: 'str' object has no attribute 'decode'\n",
      "\n",
      "  FitFailedWarning)\n",
      "[Parallel(n_jobs=1)]: Using backend SequentialBackend with 1 concurrent workers.\n"
     ]
    },
    {
     "name": "stdout",
     "output_type": "stream",
     "text": [
      "RUNNING THE L-BFGS-B CODE\n",
      "\n",
      "           * * *\n",
      "\n",
      "Machine precision = 2.220D-16\n",
      " N =        43047     M =           10\n",
      "\n",
      "At X0         0 variables are exactly at the bounds\n",
      "\n",
      "At iterate    0    f=  2.95988D+04    |proj g|=  2.35833D+03\n"
     ]
    },
    {
     "name": "stderr",
     "output_type": "stream",
     "text": [
      " This problem is unconstrained.\n"
     ]
    },
    {
     "name": "stdout",
     "output_type": "stream",
     "text": [
      "\n",
      "At iterate   50    f=  1.72785D+04    |proj g|=  2.91217D+01\n",
      "\n",
      "At iterate  100    f=  1.70644D+04    |proj g|=  4.67407D+00\n",
      "\n",
      "           * * *\n",
      "\n",
      "Tit   = total number of iterations\n",
      "Tnf   = total number of function evaluations\n",
      "Tnint = total number of segments explored during Cauchy searches\n",
      "Skip  = number of BFGS updates skipped\n",
      "Nact  = number of active bounds at final generalized Cauchy point\n",
      "Projg = norm of the final projected gradient\n",
      "F     = final function value\n",
      "\n",
      "           * * *\n",
      "\n",
      "   N    Tit     Tnf  Tnint  Skip  Nact     Projg        F\n",
      "43047    100    112      1     0     0   4.674D+00   1.706D+04\n",
      "  F =   17064.388321862596     \n",
      "\n",
      "STOP: TOTAL NO. of ITERATIONS REACHED LIMIT                 \n"
     ]
    },
    {
     "name": "stderr",
     "output_type": "stream",
     "text": [
      "/opt/conda/lib/python3.7/site-packages/sklearn/model_selection/_validation.py:552: FitFailedWarning: Estimator fit failed. The score on this train-test partition for these parameters will be set to nan. Details: \n",
      "Traceback (most recent call last):\n",
      "  File \"/opt/conda/lib/python3.7/site-packages/sklearn/model_selection/_validation.py\", line 531, in _fit_and_score\n",
      "    estimator.fit(X_train, y_train, **fit_params)\n",
      "  File \"/opt/conda/lib/python3.7/site-packages/sklearn/linear_model/_logistic.py\", line 1417, in fit\n",
      "    for class_, warm_start_coef_ in zip(classes_, warm_start_coef))\n",
      "  File \"/opt/conda/lib/python3.7/site-packages/joblib/parallel.py\", line 1043, in __call__\n",
      "    if self.dispatch_one_batch(iterator):\n",
      "  File \"/opt/conda/lib/python3.7/site-packages/joblib/parallel.py\", line 861, in dispatch_one_batch\n",
      "    self._dispatch(tasks)\n",
      "  File \"/opt/conda/lib/python3.7/site-packages/joblib/parallel.py\", line 779, in _dispatch\n",
      "    job = self._backend.apply_async(batch, callback=cb)\n",
      "  File \"/opt/conda/lib/python3.7/site-packages/joblib/_parallel_backends.py\", line 208, in apply_async\n",
      "    result = ImmediateResult(func)\n",
      "  File \"/opt/conda/lib/python3.7/site-packages/joblib/_parallel_backends.py\", line 572, in __init__\n",
      "    self.results = batch()\n",
      "  File \"/opt/conda/lib/python3.7/site-packages/joblib/parallel.py\", line 263, in __call__\n",
      "    for func, args, kwargs in self.items]\n",
      "  File \"/opt/conda/lib/python3.7/site-packages/joblib/parallel.py\", line 263, in <listcomp>\n",
      "    for func, args, kwargs in self.items]\n",
      "  File \"/opt/conda/lib/python3.7/site-packages/sklearn/linear_model/_logistic.py\", line 764, in _logistic_regression_path\n",
      "    extra_warning_msg=_LOGISTIC_SOLVER_CONVERGENCE_MSG)\n",
      "  File \"/opt/conda/lib/python3.7/site-packages/sklearn/utils/optimize.py\", line 243, in _check_optimize_result\n",
      "    ).format(solver, result.status, result.message.decode(\"latin1\"))\n",
      "AttributeError: 'str' object has no attribute 'decode'\n",
      "\n",
      "  FitFailedWarning)\n",
      "[Parallel(n_jobs=1)]: Using backend SequentialBackend with 1 concurrent workers.\n"
     ]
    },
    {
     "name": "stdout",
     "output_type": "stream",
     "text": [
      "RUNNING THE L-BFGS-B CODE\n",
      "\n",
      "           * * *\n",
      "\n",
      "Machine precision = 2.220D-16\n",
      " N =        43047     M =           10\n",
      "\n",
      "At X0         0 variables are exactly at the bounds\n",
      "\n",
      "At iterate    0    f=  2.95988D+04    |proj g|=  2.35833D+03\n"
     ]
    },
    {
     "name": "stderr",
     "output_type": "stream",
     "text": [
      " This problem is unconstrained.\n"
     ]
    },
    {
     "name": "stdout",
     "output_type": "stream",
     "text": [
      "\n",
      "At iterate   50    f=  1.71781D+04    |proj g|=  4.48982D+01\n",
      "\n",
      "At iterate  100    f=  1.70333D+04    |proj g|=  8.62855D+00\n",
      "\n",
      "           * * *\n",
      "\n",
      "Tit   = total number of iterations\n",
      "Tnf   = total number of function evaluations\n",
      "Tnint = total number of segments explored during Cauchy searches\n",
      "Skip  = number of BFGS updates skipped\n",
      "Nact  = number of active bounds at final generalized Cauchy point\n",
      "Projg = norm of the final projected gradient\n",
      "F     = final function value\n",
      "\n",
      "           * * *\n",
      "\n",
      "   N    Tit     Tnf  Tnint  Skip  Nact     Projg        F\n",
      "43047    100    115      1     0     0   8.629D+00   1.703D+04\n",
      "  F =   17033.283688430423     \n",
      "\n",
      "STOP: TOTAL NO. of ITERATIONS REACHED LIMIT                 \n"
     ]
    },
    {
     "name": "stderr",
     "output_type": "stream",
     "text": [
      "/opt/conda/lib/python3.7/site-packages/sklearn/model_selection/_validation.py:552: FitFailedWarning: Estimator fit failed. The score on this train-test partition for these parameters will be set to nan. Details: \n",
      "Traceback (most recent call last):\n",
      "  File \"/opt/conda/lib/python3.7/site-packages/sklearn/model_selection/_validation.py\", line 531, in _fit_and_score\n",
      "    estimator.fit(X_train, y_train, **fit_params)\n",
      "  File \"/opt/conda/lib/python3.7/site-packages/sklearn/linear_model/_logistic.py\", line 1417, in fit\n",
      "    for class_, warm_start_coef_ in zip(classes_, warm_start_coef))\n",
      "  File \"/opt/conda/lib/python3.7/site-packages/joblib/parallel.py\", line 1043, in __call__\n",
      "    if self.dispatch_one_batch(iterator):\n",
      "  File \"/opt/conda/lib/python3.7/site-packages/joblib/parallel.py\", line 861, in dispatch_one_batch\n",
      "    self._dispatch(tasks)\n",
      "  File \"/opt/conda/lib/python3.7/site-packages/joblib/parallel.py\", line 779, in _dispatch\n",
      "    job = self._backend.apply_async(batch, callback=cb)\n",
      "  File \"/opt/conda/lib/python3.7/site-packages/joblib/_parallel_backends.py\", line 208, in apply_async\n",
      "    result = ImmediateResult(func)\n",
      "  File \"/opt/conda/lib/python3.7/site-packages/joblib/_parallel_backends.py\", line 572, in __init__\n",
      "    self.results = batch()\n",
      "  File \"/opt/conda/lib/python3.7/site-packages/joblib/parallel.py\", line 263, in __call__\n",
      "    for func, args, kwargs in self.items]\n",
      "  File \"/opt/conda/lib/python3.7/site-packages/joblib/parallel.py\", line 263, in <listcomp>\n",
      "    for func, args, kwargs in self.items]\n",
      "  File \"/opt/conda/lib/python3.7/site-packages/sklearn/linear_model/_logistic.py\", line 764, in _logistic_regression_path\n",
      "    extra_warning_msg=_LOGISTIC_SOLVER_CONVERGENCE_MSG)\n",
      "  File \"/opt/conda/lib/python3.7/site-packages/sklearn/utils/optimize.py\", line 243, in _check_optimize_result\n",
      "    ).format(solver, result.status, result.message.decode(\"latin1\"))\n",
      "AttributeError: 'str' object has no attribute 'decode'\n",
      "\n",
      "  FitFailedWarning)\n",
      "[Parallel(n_jobs=1)]: Using backend SequentialBackend with 1 concurrent workers.\n"
     ]
    },
    {
     "name": "stdout",
     "output_type": "stream",
     "text": [
      "RUNNING THE L-BFGS-B CODE\n",
      "\n",
      "           * * *\n",
      "\n",
      "Machine precision = 2.220D-16\n",
      " N =        43047     M =           10\n",
      "\n",
      "At X0         0 variables are exactly at the bounds\n",
      "\n",
      "At iterate    0    f=  2.95988D+04    |proj g|=  2.35733D+03\n"
     ]
    },
    {
     "name": "stderr",
     "output_type": "stream",
     "text": [
      " This problem is unconstrained.\n"
     ]
    },
    {
     "name": "stdout",
     "output_type": "stream",
     "text": [
      "\n",
      "At iterate   50    f=  1.71069D+04    |proj g|=  1.36373D+02\n",
      "\n",
      "At iterate  100    f=  1.70057D+04    |proj g|=  9.77222D+00\n",
      "\n",
      "           * * *\n",
      "\n",
      "Tit   = total number of iterations\n",
      "Tnf   = total number of function evaluations\n",
      "Tnint = total number of segments explored during Cauchy searches\n",
      "Skip  = number of BFGS updates skipped\n",
      "Nact  = number of active bounds at final generalized Cauchy point\n",
      "Projg = norm of the final projected gradient\n",
      "F     = final function value\n",
      "\n",
      "           * * *\n",
      "\n",
      "   N    Tit     Tnf  Tnint  Skip  Nact     Projg        F\n",
      "43047    100    110      1     0     0   9.772D+00   1.701D+04\n",
      "  F =   17005.664790110150     \n",
      "\n",
      "STOP: TOTAL NO. of ITERATIONS REACHED LIMIT                 \n"
     ]
    },
    {
     "name": "stderr",
     "output_type": "stream",
     "text": [
      "/opt/conda/lib/python3.7/site-packages/sklearn/model_selection/_validation.py:552: FitFailedWarning: Estimator fit failed. The score on this train-test partition for these parameters will be set to nan. Details: \n",
      "Traceback (most recent call last):\n",
      "  File \"/opt/conda/lib/python3.7/site-packages/sklearn/model_selection/_validation.py\", line 531, in _fit_and_score\n",
      "    estimator.fit(X_train, y_train, **fit_params)\n",
      "  File \"/opt/conda/lib/python3.7/site-packages/sklearn/linear_model/_logistic.py\", line 1417, in fit\n",
      "    for class_, warm_start_coef_ in zip(classes_, warm_start_coef))\n",
      "  File \"/opt/conda/lib/python3.7/site-packages/joblib/parallel.py\", line 1043, in __call__\n",
      "    if self.dispatch_one_batch(iterator):\n",
      "  File \"/opt/conda/lib/python3.7/site-packages/joblib/parallel.py\", line 861, in dispatch_one_batch\n",
      "    self._dispatch(tasks)\n",
      "  File \"/opt/conda/lib/python3.7/site-packages/joblib/parallel.py\", line 779, in _dispatch\n",
      "    job = self._backend.apply_async(batch, callback=cb)\n",
      "  File \"/opt/conda/lib/python3.7/site-packages/joblib/_parallel_backends.py\", line 208, in apply_async\n",
      "    result = ImmediateResult(func)\n",
      "  File \"/opt/conda/lib/python3.7/site-packages/joblib/_parallel_backends.py\", line 572, in __init__\n",
      "    self.results = batch()\n",
      "  File \"/opt/conda/lib/python3.7/site-packages/joblib/parallel.py\", line 263, in __call__\n",
      "    for func, args, kwargs in self.items]\n",
      "  File \"/opt/conda/lib/python3.7/site-packages/joblib/parallel.py\", line 263, in <listcomp>\n",
      "    for func, args, kwargs in self.items]\n",
      "  File \"/opt/conda/lib/python3.7/site-packages/sklearn/linear_model/_logistic.py\", line 764, in _logistic_regression_path\n",
      "    extra_warning_msg=_LOGISTIC_SOLVER_CONVERGENCE_MSG)\n",
      "  File \"/opt/conda/lib/python3.7/site-packages/sklearn/utils/optimize.py\", line 243, in _check_optimize_result\n",
      "    ).format(solver, result.status, result.message.decode(\"latin1\"))\n",
      "AttributeError: 'str' object has no attribute 'decode'\n",
      "\n",
      "  FitFailedWarning)\n"
     ]
    }
   ],
   "source": [
    "CV = 5\n",
    "cv_df = pd.DataFrame(index=range(CV * len(models)))\n",
    "\n",
    "entries = []\n",
    "for model in tn(models):\n",
    "  model_name = model.__class__.__name__\n",
    "  accuracies = cross_val_score(model, features, labels, scoring='accuracy', cv=CV)\n",
    "  for fold_idx, accuracy in enumerate(accuracies):\n",
    "    entries.append((model_name, fold_idx, accuracy))\n",
    "    \n",
    "cv_df = pd.DataFrame(entries, columns=['model_name', 'fold_idx', 'accuracy'])"
   ]
  },
  {
   "cell_type": "markdown",
   "id": "9a1850bd",
   "metadata": {
    "papermill": {
     "duration": 0.079247,
     "end_time": "2022-02-20T21:17:17.314786",
     "exception": false,
     "start_time": "2022-02-20T21:17:17.235539",
     "status": "completed"
    },
    "tags": []
   },
   "source": [
    "## Evaluate"
   ]
  },
  {
   "cell_type": "code",
   "execution_count": 22,
   "id": "b1da5311",
   "metadata": {
    "execution": {
     "iopub.execute_input": "2022-02-20T21:17:17.479349Z",
     "iopub.status.busy": "2022-02-20T21:17:17.478676Z",
     "iopub.status.idle": "2022-02-20T21:17:17.493743Z",
     "shell.execute_reply": "2022-02-20T21:17:17.494365Z",
     "shell.execute_reply.started": "2022-02-19T20:53:14.506263Z"
    },
    "papermill": {
     "duration": 0.101992,
     "end_time": "2022-02-20T21:17:17.494547",
     "exception": false,
     "start_time": "2022-02-20T21:17:17.392555",
     "status": "completed"
    },
    "tags": []
   },
   "outputs": [
    {
     "data": {
      "text/html": [
       "<div>\n",
       "<style scoped>\n",
       "    .dataframe tbody tr th:only-of-type {\n",
       "        vertical-align: middle;\n",
       "    }\n",
       "\n",
       "    .dataframe tbody tr th {\n",
       "        vertical-align: top;\n",
       "    }\n",
       "\n",
       "    .dataframe thead th {\n",
       "        text-align: right;\n",
       "    }\n",
       "</style>\n",
       "<table border=\"1\" class=\"dataframe\">\n",
       "  <thead>\n",
       "    <tr style=\"text-align: right;\">\n",
       "      <th></th>\n",
       "      <th>Mean Accuracy</th>\n",
       "      <th>Standard deviation</th>\n",
       "    </tr>\n",
       "    <tr>\n",
       "      <th>model_name</th>\n",
       "      <th></th>\n",
       "      <th></th>\n",
       "    </tr>\n",
       "  </thead>\n",
       "  <tbody>\n",
       "    <tr>\n",
       "      <th>LinearSVC</th>\n",
       "      <td>0.808297</td>\n",
       "      <td>0.008125</td>\n",
       "    </tr>\n",
       "    <tr>\n",
       "      <th>LogisticRegression</th>\n",
       "      <td>NaN</td>\n",
       "      <td>NaN</td>\n",
       "    </tr>\n",
       "    <tr>\n",
       "      <th>MultinomialNB</th>\n",
       "      <td>0.738665</td>\n",
       "      <td>0.008320</td>\n",
       "    </tr>\n",
       "    <tr>\n",
       "      <th>RandomForestClassifier</th>\n",
       "      <td>0.424147</td>\n",
       "      <td>0.001681</td>\n",
       "    </tr>\n",
       "  </tbody>\n",
       "</table>\n",
       "</div>"
      ],
      "text/plain": [
       "                        Mean Accuracy  Standard deviation\n",
       "model_name                                               \n",
       "LinearSVC                    0.808297            0.008125\n",
       "LogisticRegression                NaN                 NaN\n",
       "MultinomialNB                0.738665            0.008320\n",
       "RandomForestClassifier       0.424147            0.001681"
      ]
     },
     "execution_count": 22,
     "metadata": {},
     "output_type": "execute_result"
    }
   ],
   "source": [
    "mean_accuracy = cv_df.groupby('model_name').accuracy.mean()\n",
    "std_accuracy = cv_df.groupby('model_name').accuracy.std()\n",
    "\n",
    "acc = pd.concat([mean_accuracy, std_accuracy], axis= 1, \n",
    "          ignore_index=True)\n",
    "acc.columns = ['Mean Accuracy', 'Standard deviation']\n",
    "acc"
   ]
  },
  {
   "cell_type": "code",
   "execution_count": 23,
   "id": "c06bffb9",
   "metadata": {
    "execution": {
     "iopub.execute_input": "2022-02-20T21:17:17.654835Z",
     "iopub.status.busy": "2022-02-20T21:17:17.654150Z",
     "iopub.status.idle": "2022-02-20T21:17:17.899152Z",
     "shell.execute_reply": "2022-02-20T21:17:17.899732Z",
     "shell.execute_reply.started": "2022-02-19T20:53:17.13943Z"
    },
    "papermill": {
     "duration": 0.328802,
     "end_time": "2022-02-20T21:17:17.899923",
     "exception": false,
     "start_time": "2022-02-20T21:17:17.571121",
     "status": "completed"
    },
    "tags": []
   },
   "outputs": [
    {
     "data": {
      "image/png": "[encoded data removed]",
      "text/plain": [
       "<Figure size 576x360 with 1 Axes>"
      ]
     },
     "metadata": {},
     "output_type": "display_data"
    }
   ],
   "source": [
    "plt.figure(figsize=(8,5))\n",
    "sns.boxplot(x='model_name', y='accuracy', \n",
    "            data=cv_df, \n",
    "            color='lightblue', \n",
    "            showmeans=True)\n",
    "plt.title(\"MEAN ACCURACY (cv = 5)\\n\", size=14);\n"
   ]
  },
  {
   "cell_type": "code",
   "execution_count": 24,
   "id": "db196372",
   "metadata": {
    "execution": {
     "iopub.execute_input": "2022-02-20T21:17:18.062419Z",
     "iopub.status.busy": "2022-02-20T21:17:18.061743Z",
     "iopub.status.idle": "2022-02-20T21:17:21.428507Z",
     "shell.execute_reply": "2022-02-20T21:17:21.430118Z",
     "shell.execute_reply.started": "2022-02-19T20:53:38.626478Z"
    },
    "papermill": {
     "duration": 3.450733,
     "end_time": "2022-02-20T21:17:21.430480",
     "exception": false,
     "start_time": "2022-02-20T21:17:17.979747",
     "status": "completed"
    },
    "tags": []
   },
   "outputs": [],
   "source": [
    "X_train, X_test, y_train, y_test,indices_train,indices_test = train_test_split(features, \n",
    "                                                               labels, \n",
    "                                                               short_df.index, test_size=0.25, \n",
    "                                                               random_state=1)\n",
    "model = LinearSVC()\n",
    "model.fit(X_train, y_train)\n",
    "y_pred = model.predict(X_test)"
   ]
  },
  {
   "cell_type": "code",
   "execution_count": 25,
   "id": "342b57e6",
   "metadata": {
    "execution": {
     "iopub.execute_input": "2022-02-20T21:17:21.651724Z",
     "iopub.status.busy": "2022-02-20T21:17:21.650983Z",
     "iopub.status.idle": "2022-02-20T21:17:21.655173Z",
     "shell.execute_reply": "2022-02-20T21:17:21.655980Z",
     "shell.execute_reply.started": "2022-02-19T20:57:15.150107Z"
    },
    "papermill": {
     "duration": 0.090387,
     "end_time": "2022-02-20T21:17:21.656191",
     "exception": false,
     "start_time": "2022-02-20T21:17:21.565804",
     "status": "completed"
    },
    "tags": []
   },
   "outputs": [
    {
     "data": {
      "text/plain": [
       "(0       0\n",
       " 1       1\n",
       " 2       2\n",
       " 3       2\n",
       " 4       1\n",
       "        ..\n",
       " 8415    0\n",
       " 8416    2\n",
       " 8417    1\n",
       " 8418    2\n",
       " 8419    1\n",
       " Name: Sentiment_target, Length: 8420, dtype: int64,\n",
       " array([1, 1, 2, ..., 1, 1, 1]))"
      ]
     },
     "execution_count": 25,
     "metadata": {},
     "output_type": "execute_result"
    }
   ],
   "source": [
    "y_test = y_test.reset_index(drop=True)\n",
    "y_test, y_pred"
   ]
  },
  {
   "cell_type": "code",
   "execution_count": 26,
   "id": "84cc00c0",
   "metadata": {
    "execution": {
     "iopub.execute_input": "2022-02-20T21:17:21.832012Z",
     "iopub.status.busy": "2022-02-20T21:17:21.830977Z",
     "iopub.status.idle": "2022-02-20T21:17:21.836942Z",
     "shell.execute_reply": "2022-02-20T21:17:21.837516Z",
     "shell.execute_reply.started": "2022-02-19T20:58:18.463958Z"
    },
    "papermill": {
     "duration": 0.094395,
     "end_time": "2022-02-20T21:17:21.837719",
     "exception": false,
     "start_time": "2022-02-20T21:17:21.743324",
     "status": "completed"
    },
    "tags": []
   },
   "outputs": [
    {
     "data": {
      "text/plain": [
       "(8420, 8420)"
      ]
     },
     "execution_count": 26,
     "metadata": {},
     "output_type": "execute_result"
    }
   ],
   "source": [
    "len(y_test),len(y_pred)"
   ]
  },
  {
   "cell_type": "code",
   "execution_count": 27,
   "id": "e841772c",
   "metadata": {
    "execution": {
     "iopub.execute_input": "2022-02-20T21:17:22.003428Z",
     "iopub.status.busy": "2022-02-20T21:17:22.002649Z",
     "iopub.status.idle": "2022-02-20T21:17:22.024308Z",
     "shell.execute_reply": "2022-02-20T21:17:22.025041Z",
     "shell.execute_reply.started": "2022-02-19T20:59:23.359147Z"
    },
    "papermill": {
     "duration": 0.105173,
     "end_time": "2022-02-20T21:17:22.025240",
     "exception": false,
     "start_time": "2022-02-20T21:17:21.920067",
     "status": "completed"
    },
    "tags": []
   },
   "outputs": [
    {
     "name": "stdout",
     "output_type": "stream",
     "text": [
      "\t\t\t\tCLASSIFICATIION METRICS\n",
      "\n",
      "              precision    recall  f1-score   support\n",
      "\n",
      "    Positive       0.79      0.75      0.77      2274\n",
      "    Negative       0.80      0.83      0.81      3598\n",
      "     Neutral       0.82      0.81      0.81      2548\n",
      "\n",
      "    accuracy                           0.80      8420\n",
      "   macro avg       0.80      0.80      0.80      8420\n",
      "weighted avg       0.80      0.80      0.80      8420\n",
      "\n"
     ]
    }
   ],
   "source": [
    "print('\\t\\t\\t\\tCLASSIFICATIION METRICS\\n')\n",
    "print(metrics.classification_report(y_test, y_pred, target_names=['Positive','Negative', 'Neutral']))"
   ]
  },
  {
   "cell_type": "markdown",
   "id": "1c860653",
   "metadata": {
    "papermill": {
     "duration": 0.081952,
     "end_time": "2022-02-20T21:17:22.191180",
     "exception": false,
     "start_time": "2022-02-20T21:17:22.109228",
     "status": "completed"
    },
    "tags": []
   },
   "source": [
    "## Confusion Matrix"
   ]
  },
  {
   "cell_type": "code",
   "execution_count": 28,
   "id": "156f7d60",
   "metadata": {
    "execution": {
     "iopub.execute_input": "2022-02-20T21:17:22.359246Z",
     "iopub.status.busy": "2022-02-20T21:17:22.356158Z",
     "iopub.status.idle": "2022-02-20T21:17:23.978824Z",
     "shell.execute_reply": "2022-02-20T21:17:23.978239Z",
     "shell.execute_reply.started": "2022-02-19T21:00:20.959243Z"
    },
    "papermill": {
     "duration": 1.707763,
     "end_time": "2022-02-20T21:17:23.978972",
     "exception": false,
     "start_time": "2022-02-20T21:17:22.271209",
     "status": "completed"
    },
    "tags": []
   },
   "outputs": [
    {
     "name": "stdout",
     "output_type": "stream",
     "text": [
      "Cloning into 'confusion_matrix'...\r\n",
      "remote: Enumerating objects: 15, done.\u001b[K\r\n",
      "remote: Total 15 (delta 0), reused 0 (delta 0), pack-reused 15\u001b[K\r\n",
      "Unpacking objects: 100% (15/15), 119.69 KiB | 3.32 MiB/s, done.\r\n"
     ]
    }
   ],
   "source": [
    "!git clone https://github.com/DTrimarchi10/confusion_matrix"
   ]
  },
  {
   "cell_type": "code",
   "execution_count": 29,
   "id": "ff256857",
   "metadata": {
    "execution": {
     "iopub.execute_input": "2022-02-20T21:17:24.144462Z",
     "iopub.status.busy": "2022-02-20T21:17:24.143413Z",
     "iopub.status.idle": "2022-02-20T21:17:25.282945Z",
     "shell.execute_reply": "2022-02-20T21:17:25.283659Z",
     "shell.execute_reply.started": "2022-02-19T21:00:24.192068Z"
    },
    "papermill": {
     "duration": 1.223764,
     "end_time": "2022-02-20T21:17:25.283870",
     "exception": false,
     "start_time": "2022-02-20T21:17:24.060106",
     "status": "completed"
    },
    "tags": []
   },
   "outputs": [
    {
     "name": "stdout",
     "output_type": "stream",
     "text": [
      "--2022-02-20 21:17:24--  https://raw.githubusercontent.com/DTrimarchi10/confusion_matrix/master/cf_matrix.py\r\n",
      "Resolving raw.githubusercontent.com (raw.githubusercontent.com)... 185.199.111.133, 185.199.108.133, 185.199.109.133, ...\r\n",
      "Connecting to raw.githubusercontent.com (raw.githubusercontent.com)|185.199.111.133|:443... connected.\r\n",
      "HTTP request sent, awaiting response... 200 OK\r\n",
      "Length: 4088 (4.0K) [text/plain]\r\n",
      "Failed to rename cf_matrix.py to cf_matrix.py.1: (2) No such file or directory\r\n",
      "Saving to: ‘cf_matrix.py’\r\n",
      "\r\n",
      "cf_matrix.py        100%[===================>]   3.99K  --.-KB/s    in 0s      \r\n",
      "\r\n",
      "2022-02-20 21:17:25 (36.0 MB/s) - ‘cf_matrix.py’ saved [4088/4088]\r\n",
      "\r\n",
      "--2022-02-20 21:17:25--  https://raw.githubusercontent.com/DTrimarchi10/confusion_matrix/master/cf_matrix.py\n",
      "Resolving raw.githubusercontent.com (raw.githubusercontent.com)... 185.199.110.133, 185.199.108.133, 185.199.109.133, ...\n",
      "Connecting to raw.githubusercontent.com (raw.githubusercontent.com)|185.199.110.133|:443... connected.\n",
      "HTTP request sent, awaiting response... 200 OK\n",
      "Length: 4088 (4.0K) [text/plain]\n",
      "Saving to: ‘cf_matrix.py’\n",
      "\n",
      "     0K ...                                                   100% 16.3M=0s\n",
      "\n",
      "2022-02-20 21:17:25 (16.3 MB/s) - ‘cf_matrix.py’ saved [4088/4088]\n",
      "\n",
      "\n"
     ]
    }
   ],
   "source": [
    "url = f\"https://raw.githubusercontent.com/DTrimarchi10/confusion_matrix/master/cf_matrix.py\"\n",
    "!wget --no-cache --backups=1 {url}\n",
    "import subprocess\n",
    "result = subprocess.run([\"wget\", \"--no-cache\", \"--backups=1\", url], stderr=subprocess.PIPE, stdout=subprocess.PIPE)\n",
    "print(result.stderr.decode(\"utf-8\"))"
   ]
  },
  {
   "cell_type": "code",
   "execution_count": 30,
   "id": "251edf28",
   "metadata": {
    "execution": {
     "iopub.execute_input": "2022-02-20T21:17:25.460613Z",
     "iopub.status.busy": "2022-02-20T21:17:25.459879Z",
     "iopub.status.idle": "2022-02-20T21:17:25.466498Z",
     "shell.execute_reply": "2022-02-20T21:17:25.467095Z",
     "shell.execute_reply.started": "2022-02-19T21:00:29.090595Z"
    },
    "papermill": {
     "duration": 0.094191,
     "end_time": "2022-02-20T21:17:25.467284",
     "exception": false,
     "start_time": "2022-02-20T21:17:25.373093",
     "status": "completed"
    },
    "tags": []
   },
   "outputs": [],
   "source": [
    "from cf_matrix import make_confusion_matrix\n",
    "sns.set_context('talk')"
   ]
  },
  {
   "cell_type": "code",
   "execution_count": 31,
   "id": "26cec71d",
   "metadata": {
    "execution": {
     "iopub.execute_input": "2022-02-20T21:17:25.640143Z",
     "iopub.status.busy": "2022-02-20T21:17:25.639443Z",
     "iopub.status.idle": "2022-02-20T21:17:25.656080Z",
     "shell.execute_reply": "2022-02-20T21:17:25.656732Z",
     "shell.execute_reply.started": "2022-02-19T21:01:10.38479Z"
    },
    "papermill": {
     "duration": 0.105153,
     "end_time": "2022-02-20T21:17:25.656922",
     "exception": false,
     "start_time": "2022-02-20T21:17:25.551769",
     "status": "completed"
    },
    "tags": []
   },
   "outputs": [
    {
     "data": {
      "text/plain": [
       "array([[1702,  420,  152],\n",
       "       [ 315, 2994,  289],\n",
       "       [ 148,  348, 2052]])"
      ]
     },
     "execution_count": 31,
     "metadata": {},
     "output_type": "execute_result"
    }
   ],
   "source": [
    "conf_mat = confusion_matrix(y_test, y_pred)\n",
    "conf_mat"
   ]
  },
  {
   "cell_type": "code",
   "execution_count": 32,
   "id": "5a2a3395",
   "metadata": {
    "execution": {
     "iopub.execute_input": "2022-02-20T21:17:25.833226Z",
     "iopub.status.busy": "2022-02-20T21:17:25.832453Z",
     "iopub.status.idle": "2022-02-20T21:17:26.089374Z",
     "shell.execute_reply": "2022-02-20T21:17:26.089954Z",
     "shell.execute_reply.started": "2022-02-19T21:00:38.212962Z"
    },
    "papermill": {
     "duration": 0.346391,
     "end_time": "2022-02-20T21:17:26.090141",
     "exception": false,
     "start_time": "2022-02-20T21:17:25.743750",
     "status": "completed"
    },
    "tags": []
   },
   "outputs": [
    {
     "data": {
      "image/png": "[encoded data removed]",
      "text/plain": [
       "<Figure size 576x432 with 1 Axes>"
      ]
     },
     "metadata": {},
     "output_type": "display_data"
    }
   ],
   "source": [
    "categories = ['Positive','Negative', 'Neutral']\n",
    "make_confusion_matrix(conf_mat, figsize=(8,6), cbar=False,categories = categories, title='Tweet Sentiments CF Matrix')"
   ]
  },
  {
   "cell_type": "markdown",
   "id": "412c053e",
   "metadata": {
    "papermill": {
     "duration": 0.084712,
     "end_time": "2022-02-20T21:17:26.264353",
     "exception": false,
     "start_time": "2022-02-20T21:17:26.179641",
     "status": "completed"
    },
    "tags": []
   },
   "source": [
    "## Predictions"
   ]
  },
  {
   "cell_type": "code",
   "execution_count": 33,
   "id": "b34ac802",
   "metadata": {
    "execution": {
     "iopub.execute_input": "2022-02-20T21:17:26.443400Z",
     "iopub.status.busy": "2022-02-20T21:17:26.442699Z",
     "iopub.status.idle": "2022-02-20T21:17:29.304093Z",
     "shell.execute_reply": "2022-02-20T21:17:29.303440Z",
     "shell.execute_reply.started": "2022-02-19T21:03:04.748614Z"
    },
    "papermill": {
     "duration": 2.955314,
     "end_time": "2022-02-20T21:17:29.304265",
     "exception": false,
     "start_time": "2022-02-20T21:17:26.348951",
     "status": "completed"
    },
    "tags": []
   },
   "outputs": [],
   "source": [
    "X_train, X_test, y_train, y_test = train_test_split(X, y, \n",
    "                                                    test_size=0.25,\n",
    "                                                    random_state = 0)\n",
    "\n",
    "tfidf = TfidfVectorizer(sublinear_tf=True, min_df=5,\n",
    "                        ngram_range=(1, 2), \n",
    "                        stop_words='english')\n",
    "\n",
    "fitted_vectorizer = tfidf.fit(X_train)\n",
    "tfidf_vectorizer_vectors = fitted_vectorizer.transform(X_train)\n",
    "\n",
    "model = LinearSVC().fit(tfidf_vectorizer_vectors, y_train)"
   ]
  },
  {
   "cell_type": "code",
   "execution_count": 34,
   "id": "3a97654d",
   "metadata": {
    "execution": {
     "iopub.execute_input": "2022-02-20T21:17:29.486195Z",
     "iopub.status.busy": "2022-02-20T21:17:29.485448Z",
     "iopub.status.idle": "2022-02-20T21:17:29.490408Z",
     "shell.execute_reply": "2022-02-20T21:17:29.489724Z",
     "shell.execute_reply.started": "2022-02-19T21:07:54.506064Z"
    },
    "papermill": {
     "duration": 0.099787,
     "end_time": "2022-02-20T21:17:29.490560",
     "exception": false,
     "start_time": "2022-02-20T21:17:29.390773",
     "status": "completed"
    },
    "tags": []
   },
   "outputs": [
    {
     "name": "stdout",
     "output_type": "stream",
     "text": [
      "Former Arsenal and West Ham player Alex Song has taken his case to FIFA after being sacked by FC Sion.\n",
      "\n",
      "The 32-year-old was one of nine players to lose his job when the Swiss side proposed reducing the wage bill of the first team as an emergency measure during the coronavirus\n"
     ]
    }
   ],
   "source": [
    "new_tweet = valid.Tweet[random.randint(0, len(valid.Tweet))]\n",
    "print(new_tweet)"
   ]
  },
  {
   "cell_type": "code",
   "execution_count": 35,
   "id": "519b4279",
   "metadata": {
    "execution": {
     "iopub.execute_input": "2022-02-20T21:17:29.671564Z",
     "iopub.status.busy": "2022-02-20T21:17:29.670861Z",
     "iopub.status.idle": "2022-02-20T21:17:29.680149Z",
     "shell.execute_reply": "2022-02-20T21:17:29.679336Z",
     "shell.execute_reply.started": "2022-02-19T21:07:57.474824Z"
    },
    "papermill": {
     "duration": 0.101143,
     "end_time": "2022-02-20T21:17:29.680306",
     "exception": false,
     "start_time": "2022-02-20T21:17:29.579163",
     "status": "completed"
    },
    "tags": []
   },
   "outputs": [
    {
     "data": {
      "text/plain": [
       "array([1])"
      ]
     },
     "execution_count": 35,
     "metadata": {},
     "output_type": "execute_result"
    }
   ],
   "source": [
    "model.predict(fitted_vectorizer.transform([new_tweet]))"
   ]
  },
  {
   "cell_type": "code",
   "execution_count": 36,
   "id": "05359670",
   "metadata": {
    "execution": {
     "iopub.execute_input": "2022-02-20T21:17:29.873214Z",
     "iopub.status.busy": "2022-02-20T21:17:29.862419Z",
     "iopub.status.idle": "2022-02-20T21:17:29.876382Z",
     "shell.execute_reply": "2022-02-20T21:17:29.877278Z",
     "shell.execute_reply.started": "2022-02-19T21:07:59.667463Z"
    },
    "papermill": {
     "duration": 0.109517,
     "end_time": "2022-02-20T21:17:29.877482",
     "exception": false,
     "start_time": "2022-02-20T21:17:29.767965",
     "status": "completed"
    },
    "tags": []
   },
   "outputs": [
    {
     "data": {
      "text/html": [
       "<div>\n",
       "<style scoped>\n",
       "    .dataframe tbody tr th:only-of-type {\n",
       "        vertical-align: middle;\n",
       "    }\n",
       "\n",
       "    .dataframe tbody tr th {\n",
       "        vertical-align: top;\n",
       "    }\n",
       "\n",
       "    .dataframe thead th {\n",
       "        text-align: right;\n",
       "    }\n",
       "</style>\n",
       "<table border=\"1\" class=\"dataframe\">\n",
       "  <thead>\n",
       "    <tr style=\"text-align: right;\">\n",
       "      <th></th>\n",
       "      <th>Id</th>\n",
       "      <th>Entity</th>\n",
       "      <th>Sentiment</th>\n",
       "      <th>Tweet</th>\n",
       "      <th>is_train</th>\n",
       "    </tr>\n",
       "  </thead>\n",
       "  <tbody>\n",
       "    <tr>\n",
       "      <th>915</th>\n",
       "      <td>6055</td>\n",
       "      <td>FIFA</td>\n",
       "      <td>Irrelevant</td>\n",
       "      <td>Former Arsenal and West Ham player Alex Song h...</td>\n",
       "      <td>False</td>\n",
       "    </tr>\n",
       "  </tbody>\n",
       "</table>\n",
       "</div>"
      ],
      "text/plain": [
       "       Id Entity   Sentiment  \\\n",
       "915  6055   FIFA  Irrelevant   \n",
       "\n",
       "                                                 Tweet  is_train  \n",
       "915  Former Arsenal and West Ham player Alex Song h...     False  "
      ]
     },
     "execution_count": 36,
     "metadata": {},
     "output_type": "execute_result"
    }
   ],
   "source": [
    "valid[valid['Tweet'] == new_tweet]"
   ]
  },
  {
   "cell_type": "code",
   "execution_count": null,
   "id": "0f7b4480",
   "metadata": {
    "papermill": {
     "duration": 0.089125,
     "end_time": "2022-02-20T21:17:30.054150",
     "exception": false,
     "start_time": "2022-02-20T21:17:29.965025",
     "status": "completed"
    },
    "tags": []
   },
   "outputs": [],
   "source": []
  }
 ],
 "metadata": {
  "kernelspec": {
   "display_name": "Python 3",
   "language": "python",
   "name": "python3"
  },
  "language_info": {
   "codemirror_mode": {
    "name": "ipython",
    "version": 3
   },
   "file_extension": ".py",
   "mimetype": "text/x-python",
   "name": "python",
   "nbconvert_exporter": "python",
   "pygments_lexer": "ipython3",
   "version": "3.7.12"
  },
  "papermill": {
   "default_parameters": {},
   "duration": 767.732833,
   "end_time": "2022-02-20T21:17:31.162834",
   "environment_variables": {},
   "exception": null,
   "input_path": "__notebook__.ipynb",
   "output_path": "__notebook__.ipynb",
   "parameters": {},
   "start_time": "2022-02-20T21:04:43.430001",
   "version": "2.3.3"
  },
  "widgets": {
   "application/vnd.jupyter.widget-state+json": {
    "state": {
     "1200c281592849d184b8bb173c7d0cb9": {
      "model_module": "@jupyter-widgets/base",
      "model_module_version": "1.2.0",
      "model_name": "LayoutModel",
      "state": {
       "_model_module": "@jupyter-widgets/base",
       "_model_module_version": "1.2.0",
       "_model_name": "LayoutModel",
       "_view_count": null,
       "_view_module": "@jupyter-widgets/base",
       "_view_module_version": "1.2.0",
       "_view_name": "LayoutView",
       "align_content": null,
       "align_items": null,
       "align_self": null,
       "border": null,
       "bottom": null,
       "display": null,
       "flex": null,
       "flex_flow": null,
       "grid_area": null,
       "grid_auto_columns": null,
       "grid_auto_flow": null,
       "grid_auto_rows": null,
       "grid_column": null,
       "grid_gap": null,
       "grid_row": null,
       "grid_template_areas": null,
       "grid_template_columns": null,
       "grid_template_rows": null,
       "height": null,
       "justify_content": null,
       "justify_items": null,
       "left": null,
       "margin": null,
       "max_height": null,
       "max_width": null,
       "min_height": null,
       "min_width": null,
       "object_fit": null,
       "object_position": null,
       "order": null,
       "overflow": null,
       "overflow_x": null,
       "overflow_y": null,
       "padding": null,
       "right": null,
       "top": null,
       "visibility": null,
       "width": null
      }
     },
     "12c59e1305e44278bce1ca72a980e1c9": {
      "model_module": "@jupyter-widgets/controls",
      "model_module_version": "1.5.0",
      "model_name": "HTMLModel",
      "state": {
       "_dom_classes": [],
       "_model_module": "@jupyter-widgets/controls",
       "_model_module_version": "1.5.0",
       "_model_name": "HTMLModel",
       "_view_count": null,
       "_view_module": "@jupyter-widgets/controls",
       "_view_module_version": "1.5.0",
       "_view_name": "HTMLView",
       "description": "",
       "description_tooltip": null,
       "layout": "IPY_MODEL_d3b1bea02b7041febe46b0aa7563413e",
       "placeholder": "​",
       "style": "IPY_MODEL_b93e398ce87e4fe2a70458fb6e3849db",
       "value": " 4/4 [12:13&lt;00:00, 262.17s/it]"
      }
     },
     "4a65100e122d47dc9bbe939ff8c2648b": {
      "model_module": "@jupyter-widgets/base",
      "model_module_version": "1.2.0",
      "model_name": "LayoutModel",
      "state": {
       "_model_module": "@jupyter-widgets/base",
       "_model_module_version": "1.2.0",
       "_model_name": "LayoutModel",
       "_view_count": null,
       "_view_module": "@jupyter-widgets/base",
       "_view_module_version": "1.2.0",
       "_view_name": "LayoutView",
       "align_content": null,
       "align_items": null,
       "align_self": null,
       "border": null,
       "bottom": null,
       "display": null,
       "flex": null,
       "flex_flow": null,
       "grid_area": null,
       "grid_auto_columns": null,
       "grid_auto_flow": null,
       "grid_auto_rows": null,
       "grid_column": null,
       "grid_gap": null,
       "grid_row": null,
       "grid_template_areas": null,
       "grid_template_columns": null,
       "grid_template_rows": null,
       "height": null,
       "justify_content": null,
       "justify_items": null,
       "left": null,
       "margin": null,
       "max_height": null,
       "max_width": null,
       "min_height": null,
       "min_width": null,
       "object_fit": null,
       "object_position": null,
       "order": null,
       "overflow": null,
       "overflow_x": null,
       "overflow_y": null,
       "padding": null,
       "right": null,
       "top": null,
       "visibility": null,
       "width": null
      }
     },
     "b93e398ce87e4fe2a70458fb6e3849db": {
      "model_module": "@jupyter-widgets/controls",
      "model_module_version": "1.5.0",
      "model_name": "DescriptionStyleModel",
      "state": {
       "_model_module": "@jupyter-widgets/controls",
       "_model_module_version": "1.5.0",
       "_model_name": "DescriptionStyleModel",
       "_view_count": null,
       "_view_module": "@jupyter-widgets/base",
       "_view_module_version": "1.2.0",
       "_view_name": "StyleView",
       "description_width": ""
      }
     },
     "c8051e5f80b341d6b242e04fd62079d6": {
      "model_module": "@jupyter-widgets/controls",
      "model_module_version": "1.5.0",
      "model_name": "DescriptionStyleModel",
      "state": {
       "_model_module": "@jupyter-widgets/controls",
       "_model_module_version": "1.5.0",
       "_model_name": "DescriptionStyleModel",
       "_view_count": null,
       "_view_module": "@jupyter-widgets/base",
       "_view_module_version": "1.2.0",
       "_view_name": "StyleView",
       "description_width": ""
      }
     },
     "cd9f722aa60643df9a89cd9a8a981d45": {
      "model_module": "@jupyter-widgets/base",
      "model_module_version": "1.2.0",
      "model_name": "LayoutModel",
      "state": {
       "_model_module": "@jupyter-widgets/base",
       "_model_module_version": "1.2.0",
       "_model_name": "LayoutModel",
       "_view_count": null,
       "_view_module": "@jupyter-widgets/base",
       "_view_module_version": "1.2.0",
       "_view_name": "LayoutView",
       "align_content": null,
       "align_items": null,
       "align_self": null,
       "border": null,
       "bottom": null,
       "display": null,
       "flex": null,
       "flex_flow": null,
       "grid_area": null,
       "grid_auto_columns": null,
       "grid_auto_flow": null,
       "grid_auto_rows": null,
       "grid_column": null,
       "grid_gap": null,
       "grid_row": null,
       "grid_template_areas": null,
       "grid_template_columns": null,
       "grid_template_rows": null,
       "height": null,
       "justify_content": null,
       "justify_items": null,
       "left": null,
       "margin": null,
       "max_height": null,
       "max_width": null,
       "min_height": null,
       "min_width": null,
       "object_fit": null,
       "object_position": null,
       "order": null,
       "overflow": null,
       "overflow_x": null,
       "overflow_y": null,
       "padding": null,
       "right": null,
       "top": null,
       "visibility": null,
       "width": null
      }
     },
     "d3b1bea02b7041febe46b0aa7563413e": {
      "model_module": "@jupyter-widgets/base",
      "model_module_version": "1.2.0",
      "model_name": "LayoutModel",
      "state": {
       "_model_module": "@jupyter-widgets/base",
       "_model_module_version": "1.2.0",
       "_model_name": "LayoutModel",
       "_view_count": null,
       "_view_module": "@jupyter-widgets/base",
       "_view_module_version": "1.2.0",
       "_view_name": "LayoutView",
       "align_content": null,
       "align_items": null,
       "align_self": null,
       "border": null,
       "bottom": null,
       "display": null,
       "flex": null,
       "flex_flow": null,
       "grid_area": null,
       "grid_auto_columns": null,
       "grid_auto_flow": null,
       "grid_auto_rows": null,
       "grid_column": null,
       "grid_gap": null,
       "grid_row": null,
       "grid_template_areas": null,
       "grid_template_columns": null,
       "grid_template_rows": null,
       "height": null,
       "justify_content": null,
       "justify_items": null,
       "left": null,
       "margin": null,
       "max_height": null,
       "max_width": null,
       "min_height": null,
       "min_width": null,
       "object_fit": null,
       "object_position": null,
       "order": null,
       "overflow": null,
       "overflow_x": null,
       "overflow_y": null,
       "padding": null,
       "right": null,
       "top": null,
       "visibility": null,
       "width": null
      }
     },
     "d4f7d2b3722d4f2ba07bbd95b901f98c": {
      "model_module": "@jupyter-widgets/controls",
      "model_module_version": "1.5.0",
      "model_name": "FloatProgressModel",
      "state": {
       "_dom_classes": [],
       "_model_module": "@jupyter-widgets/controls",
       "_model_module_version": "1.5.0",
       "_model_name": "FloatProgressModel",
       "_view_count": null,
       "_view_module": "@jupyter-widgets/controls",
       "_view_module_version": "1.5.0",
       "_view_name": "ProgressView",
       "bar_style": "success",
       "description": "",
       "description_tooltip": null,
       "layout": "IPY_MODEL_cd9f722aa60643df9a89cd9a8a981d45",
       "max": 4.0,
       "min": 0.0,
       "orientation": "horizontal",
       "style": "IPY_MODEL_e66fd6cd586448e6ba571e16590545e5",
       "value": 4.0
      }
     },
     "dcb404cebdaf441a902d9472d15b0909": {
      "model_module": "@jupyter-widgets/controls",
      "model_module_version": "1.5.0",
      "model_name": "HBoxModel",
      "state": {
       "_dom_classes": [],
       "_model_module": "@jupyter-widgets/controls",
       "_model_module_version": "1.5.0",
       "_model_name": "HBoxModel",
       "_view_count": null,
       "_view_module": "@jupyter-widgets/controls",
       "_view_module_version": "1.5.0",
       "_view_name": "HBoxView",
       "box_style": "",
       "children": [
        "IPY_MODEL_ea016af166404151ab68539b071f86a7",
        "IPY_MODEL_d4f7d2b3722d4f2ba07bbd95b901f98c",
        "IPY_MODEL_12c59e1305e44278bce1ca72a980e1c9"
       ],
       "layout": "IPY_MODEL_1200c281592849d184b8bb173c7d0cb9"
      }
     },
     "e66fd6cd586448e6ba571e16590545e5": {
      "model_module": "@jupyter-widgets/controls",
      "model_module_version": "1.5.0",
      "model_name": "ProgressStyleModel",
      "state": {
       "_model_module": "@jupyter-widgets/controls",
       "_model_module_version": "1.5.0",
       "_model_name": "ProgressStyleModel",
       "_view_count": null,
       "_view_module": "@jupyter-widgets/base",
       "_view_module_version": "1.2.0",
       "_view_name": "StyleView",
       "bar_color": null,
       "description_width": ""
      }
     },
     "ea016af166404151ab68539b071f86a7": {
      "model_module": "@jupyter-widgets/controls",
      "model_module_version": "1.5.0",
      "model_name": "HTMLModel",
      "state": {
       "_dom_classes": [],
       "_model_module": "@jupyter-widgets/controls",
       "_model_module_version": "1.5.0",
       "_model_name": "HTMLModel",
       "_view_count": null,
       "_view_module": "@jupyter-widgets/controls",
       "_view_module_version": "1.5.0",
       "_view_name": "HTMLView",
       "description": "",
       "description_tooltip": null,
       "layout": "IPY_MODEL_4a65100e122d47dc9bbe939ff8c2648b",
       "placeholder": "​",
       "style": "IPY_MODEL_c8051e5f80b341d6b242e04fd62079d6",
       "value": "100%"
      }
     }
    },
    "version_major": 2,
    "version_minor": 0
   }
  }
 },
 "nbformat": 4,
 "nbformat_minor": 5
}
