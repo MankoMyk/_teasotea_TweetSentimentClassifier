{
 "cells": [
  {
   "cell_type": "code",
   "execution_count": 1,
   "id": "39a59c7f",
   "metadata": {
    "_cell_guid": "b1076dfc-b9ad-4769-8c92-a6c4dae69d19",
    "_uuid": "8f2839f25d086af736a60e9eeb907d3b93b6e0e5",
    "execution": {
     "iopub.execute_input": "2022-02-21T16:23:02.408509Z",
     "iopub.status.busy": "2022-02-21T16:23:02.403307Z",
     "iopub.status.idle": "2022-02-21T16:23:27.695939Z",
     "shell.execute_reply": "2022-02-21T16:23:27.696483Z",
     "shell.execute_reply.started": "2022-02-21T14:25:18.640298Z"
    },
    "papermill": {
     "duration": 25.390193,
     "end_time": "2022-02-21T16:23:27.696873",
     "exception": false,
     "start_time": "2022-02-21T16:23:02.306680",
     "status": "completed"
    },
    "tags": []
   },
   "outputs": [
    {
     "name": "stdout",
     "output_type": "stream",
     "text": [
      "['twitter-entity-sentiment-analysis']\n"
     ]
    }
   ],
   "source": [
    "import os\n",
    "print(os.listdir(\"../input\"))\n",
    "from os.path import join\n",
    "\n",
    "import pandas as pd\n",
    "import numpy as np\n",
    "from scipy.stats import randint\n",
    "import seaborn as sns # used for plot interactive graph. \n",
    "import matplotlib.pyplot as plt\n",
    "import seaborn as sns\n",
    "from io import StringIO\n",
    "from sklearn.feature_extraction.text import TfidfVectorizer\n",
    "from sklearn.feature_selection import chi2\n",
    "from IPython.display import display\n",
    "from sklearn.model_selection import train_test_split\n",
    "from sklearn.feature_extraction.text import TfidfTransformer\n",
    "from sklearn.naive_bayes import MultinomialNB\n",
    "from sklearn.linear_model import LogisticRegression\n",
    "from sklearn.ensemble import RandomForestClassifier\n",
    "from sklearn.svm import LinearSVC\n",
    "from sklearn.model_selection import cross_val_score\n",
    "from sklearn.metrics import confusion_matrix\n",
    "from sklearn import metrics\n",
    "from sklearn.preprocessing import OneHotEncoder\n",
    "\n",
    "pd.set_option('display.max_columns', None)\n",
    "plt.rcParams['figure.figsize'] = (14, 8)\n",
    "plt.rcParams['legend.fontsize'] = 14\n",
    "plt.rcParams['axes.titlesize'] = 14\n",
    "sns.set_style('whitegrid')\n",
    "\n",
    "from tqdm import tqdm\n",
    "tqdm.pandas()\n",
    "from tqdm.notebook import tqdm as tn\n",
    "\n",
    "import random\n",
    "import spacy\n",
    "import re\n",
    "\n",
    "from vowpalwabbit.dftovw import DFtoVW\n",
    "from vowpalwabbit import Workspace\n",
    "from sklearn.preprocessing import MultiLabelBinarizer\n",
    "from vowpalwabbit import pyvw\n",
    "\n",
    "from sklearn.decomposition import TruncatedSVD\n",
    "from scipy.sparse import csr_matrix\n",
    "from yellowbrick.text import TSNEVisualizer\n",
    "from yellowbrick.text.tsne import tsne\n"
   ]
  },
  {
   "cell_type": "code",
   "execution_count": 2,
   "id": "22819c73",
   "metadata": {
    "execution": {
     "iopub.execute_input": "2022-02-21T16:23:27.864595Z",
     "iopub.status.busy": "2022-02-21T16:23:27.860339Z",
     "iopub.status.idle": "2022-02-21T16:23:28.277818Z",
     "shell.execute_reply": "2022-02-21T16:23:28.277260Z",
     "shell.execute_reply.started": "2022-02-21T14:25:18.672281Z"
    },
    "papermill": {
     "duration": 0.499944,
     "end_time": "2022-02-21T16:23:28.277980",
     "exception": false,
     "start_time": "2022-02-21T16:23:27.778036",
     "status": "completed"
    },
    "tags": []
   },
   "outputs": [
    {
     "data": {
      "text/html": [
       "<div>\n",
       "<style scoped>\n",
       "    .dataframe tbody tr th:only-of-type {\n",
       "        vertical-align: middle;\n",
       "    }\n",
       "\n",
       "    .dataframe tbody tr th {\n",
       "        vertical-align: top;\n",
       "    }\n",
       "\n",
       "    .dataframe thead th {\n",
       "        text-align: right;\n",
       "    }\n",
       "</style>\n",
       "<table border=\"1\" class=\"dataframe\">\n",
       "  <thead>\n",
       "    <tr style=\"text-align: right;\">\n",
       "      <th></th>\n",
       "      <th>Id</th>\n",
       "      <th>Entity</th>\n",
       "      <th>Sentiment</th>\n",
       "      <th>Tweet</th>\n",
       "      <th>is_train</th>\n",
       "    </tr>\n",
       "  </thead>\n",
       "  <tbody>\n",
       "    <tr>\n",
       "      <th>0</th>\n",
       "      <td>2401</td>\n",
       "      <td>Borderlands</td>\n",
       "      <td>Positive</td>\n",
       "      <td>im getting on borderlands and i will murder yo...</td>\n",
       "      <td>True</td>\n",
       "    </tr>\n",
       "    <tr>\n",
       "      <th>1</th>\n",
       "      <td>2401</td>\n",
       "      <td>Borderlands</td>\n",
       "      <td>Positive</td>\n",
       "      <td>I am coming to the borders and I will kill you...</td>\n",
       "      <td>True</td>\n",
       "    </tr>\n",
       "    <tr>\n",
       "      <th>2</th>\n",
       "      <td>2401</td>\n",
       "      <td>Borderlands</td>\n",
       "      <td>Positive</td>\n",
       "      <td>im getting on borderlands and i will kill you ...</td>\n",
       "      <td>True</td>\n",
       "    </tr>\n",
       "    <tr>\n",
       "      <th>3</th>\n",
       "      <td>2401</td>\n",
       "      <td>Borderlands</td>\n",
       "      <td>Positive</td>\n",
       "      <td>im coming on borderlands and i will murder you...</td>\n",
       "      <td>True</td>\n",
       "    </tr>\n",
       "    <tr>\n",
       "      <th>4</th>\n",
       "      <td>2401</td>\n",
       "      <td>Borderlands</td>\n",
       "      <td>Positive</td>\n",
       "      <td>im getting on borderlands 2 and i will murder ...</td>\n",
       "      <td>True</td>\n",
       "    </tr>\n",
       "    <tr>\n",
       "      <th>...</th>\n",
       "      <td>...</td>\n",
       "      <td>...</td>\n",
       "      <td>...</td>\n",
       "      <td>...</td>\n",
       "      <td>...</td>\n",
       "    </tr>\n",
       "    <tr>\n",
       "      <th>995</th>\n",
       "      <td>4891</td>\n",
       "      <td>GrandTheftAuto(GTA)</td>\n",
       "      <td>Irrelevant</td>\n",
       "      <td>⭐️ Toronto is the arts and culture capital of ...</td>\n",
       "      <td>False</td>\n",
       "    </tr>\n",
       "    <tr>\n",
       "      <th>996</th>\n",
       "      <td>4359</td>\n",
       "      <td>CS-GO</td>\n",
       "      <td>Irrelevant</td>\n",
       "      <td>tHIS IS ACTUALLY A GOOD MOVE TOT BRING MORE VI...</td>\n",
       "      <td>False</td>\n",
       "    </tr>\n",
       "    <tr>\n",
       "      <th>997</th>\n",
       "      <td>2652</td>\n",
       "      <td>Borderlands</td>\n",
       "      <td>Positive</td>\n",
       "      <td>Today sucked so it’s time to drink wine n play...</td>\n",
       "      <td>False</td>\n",
       "    </tr>\n",
       "    <tr>\n",
       "      <th>998</th>\n",
       "      <td>8069</td>\n",
       "      <td>Microsoft</td>\n",
       "      <td>Positive</td>\n",
       "      <td>Bought a fraction of Microsoft today. Small wins.</td>\n",
       "      <td>False</td>\n",
       "    </tr>\n",
       "    <tr>\n",
       "      <th>999</th>\n",
       "      <td>6960</td>\n",
       "      <td>johnson&amp;johnson</td>\n",
       "      <td>Neutral</td>\n",
       "      <td>Johnson &amp; Johnson to stop selling talc baby po...</td>\n",
       "      <td>False</td>\n",
       "    </tr>\n",
       "  </tbody>\n",
       "</table>\n",
       "<p>75682 rows × 5 columns</p>\n",
       "</div>"
      ],
      "text/plain": [
       "       Id               Entity   Sentiment  \\\n",
       "0    2401          Borderlands    Positive   \n",
       "1    2401          Borderlands    Positive   \n",
       "2    2401          Borderlands    Positive   \n",
       "3    2401          Borderlands    Positive   \n",
       "4    2401          Borderlands    Positive   \n",
       "..    ...                  ...         ...   \n",
       "995  4891  GrandTheftAuto(GTA)  Irrelevant   \n",
       "996  4359                CS-GO  Irrelevant   \n",
       "997  2652          Borderlands    Positive   \n",
       "998  8069            Microsoft    Positive   \n",
       "999  6960      johnson&johnson     Neutral   \n",
       "\n",
       "                                                 Tweet  is_train  \n",
       "0    im getting on borderlands and i will murder yo...      True  \n",
       "1    I am coming to the borders and I will kill you...      True  \n",
       "2    im getting on borderlands and i will kill you ...      True  \n",
       "3    im coming on borderlands and i will murder you...      True  \n",
       "4    im getting on borderlands 2 and i will murder ...      True  \n",
       "..                                                 ...       ...  \n",
       "995  ⭐️ Toronto is the arts and culture capital of ...     False  \n",
       "996  tHIS IS ACTUALLY A GOOD MOVE TOT BRING MORE VI...     False  \n",
       "997  Today sucked so it’s time to drink wine n play...     False  \n",
       "998  Bought a fraction of Microsoft today. Small wins.     False  \n",
       "999  Johnson & Johnson to stop selling talc baby po...     False  \n",
       "\n",
       "[75682 rows x 5 columns]"
      ]
     },
     "execution_count": 2,
     "metadata": {},
     "output_type": "execute_result"
    }
   ],
   "source": [
    "train_path = '/kaggle/input/twitter-entity-sentiment-analysis/twitter_training.csv'\n",
    "valid_path = '/kaggle/input/twitter-entity-sentiment-analysis/twitter_validation.csv'\n",
    "cols = ['Id', 'Entity', 'Sentiment', 'Tweet']\n",
    "train = pd.read_csv(train_path, names = cols, header=None)\n",
    "valid = pd.read_csv(valid_path, names = cols)\n",
    "train['is_train'], valid['is_train'] = True, False\n",
    "all_df = train.append(valid)\n",
    "all_df"
   ]
  },
  {
   "cell_type": "code",
   "execution_count": 3,
   "id": "f437452b",
   "metadata": {
    "execution": {
     "iopub.execute_input": "2022-02-21T16:23:28.440870Z",
     "iopub.status.busy": "2022-02-21T16:23:28.439864Z",
     "iopub.status.idle": "2022-02-21T16:23:28.456058Z",
     "shell.execute_reply": "2022-02-21T16:23:28.455395Z",
     "shell.execute_reply.started": "2022-02-21T14:25:19.034104Z"
    },
    "papermill": {
     "duration": 0.098182,
     "end_time": "2022-02-21T16:23:28.456195",
     "exception": false,
     "start_time": "2022-02-21T16:23:28.358013",
     "status": "completed"
    },
    "tags": []
   },
   "outputs": [
    {
     "data": {
      "text/html": [
       "<div>\n",
       "<style scoped>\n",
       "    .dataframe tbody tr th:only-of-type {\n",
       "        vertical-align: middle;\n",
       "    }\n",
       "\n",
       "    .dataframe tbody tr th {\n",
       "        vertical-align: top;\n",
       "    }\n",
       "\n",
       "    .dataframe thead th {\n",
       "        text-align: right;\n",
       "    }\n",
       "</style>\n",
       "<table border=\"1\" class=\"dataframe\">\n",
       "  <thead>\n",
       "    <tr style=\"text-align: right;\">\n",
       "      <th></th>\n",
       "      <th>Id</th>\n",
       "      <th>Entity</th>\n",
       "      <th>Sentiment</th>\n",
       "      <th>Tweet</th>\n",
       "      <th>is_train</th>\n",
       "    </tr>\n",
       "  </thead>\n",
       "  <tbody>\n",
       "    <tr>\n",
       "      <th>0</th>\n",
       "      <td>2401</td>\n",
       "      <td>Borderlands</td>\n",
       "      <td>Positive</td>\n",
       "      <td>im getting on borderlands and i will murder yo...</td>\n",
       "      <td>True</td>\n",
       "    </tr>\n",
       "    <tr>\n",
       "      <th>1</th>\n",
       "      <td>2401</td>\n",
       "      <td>Borderlands</td>\n",
       "      <td>Positive</td>\n",
       "      <td>I am coming to the borders and I will kill you...</td>\n",
       "      <td>True</td>\n",
       "    </tr>\n",
       "    <tr>\n",
       "      <th>2</th>\n",
       "      <td>2401</td>\n",
       "      <td>Borderlands</td>\n",
       "      <td>Positive</td>\n",
       "      <td>im getting on borderlands and i will kill you ...</td>\n",
       "      <td>True</td>\n",
       "    </tr>\n",
       "    <tr>\n",
       "      <th>3</th>\n",
       "      <td>2401</td>\n",
       "      <td>Borderlands</td>\n",
       "      <td>Positive</td>\n",
       "      <td>im coming on borderlands and i will murder you...</td>\n",
       "      <td>True</td>\n",
       "    </tr>\n",
       "    <tr>\n",
       "      <th>4</th>\n",
       "      <td>2401</td>\n",
       "      <td>Borderlands</td>\n",
       "      <td>Positive</td>\n",
       "      <td>im getting on borderlands 2 and i will murder ...</td>\n",
       "      <td>True</td>\n",
       "    </tr>\n",
       "    <tr>\n",
       "      <th>...</th>\n",
       "      <td>...</td>\n",
       "      <td>...</td>\n",
       "      <td>...</td>\n",
       "      <td>...</td>\n",
       "      <td>...</td>\n",
       "    </tr>\n",
       "    <tr>\n",
       "      <th>75677</th>\n",
       "      <td>4891</td>\n",
       "      <td>GrandTheftAuto(GTA)</td>\n",
       "      <td>Irrelevant</td>\n",
       "      <td>⭐️ Toronto is the arts and culture capital of ...</td>\n",
       "      <td>False</td>\n",
       "    </tr>\n",
       "    <tr>\n",
       "      <th>75678</th>\n",
       "      <td>4359</td>\n",
       "      <td>CS-GO</td>\n",
       "      <td>Irrelevant</td>\n",
       "      <td>tHIS IS ACTUALLY A GOOD MOVE TOT BRING MORE VI...</td>\n",
       "      <td>False</td>\n",
       "    </tr>\n",
       "    <tr>\n",
       "      <th>75679</th>\n",
       "      <td>2652</td>\n",
       "      <td>Borderlands</td>\n",
       "      <td>Positive</td>\n",
       "      <td>Today sucked so it’s time to drink wine n play...</td>\n",
       "      <td>False</td>\n",
       "    </tr>\n",
       "    <tr>\n",
       "      <th>75680</th>\n",
       "      <td>8069</td>\n",
       "      <td>Microsoft</td>\n",
       "      <td>Positive</td>\n",
       "      <td>Bought a fraction of Microsoft today. Small wins.</td>\n",
       "      <td>False</td>\n",
       "    </tr>\n",
       "    <tr>\n",
       "      <th>75681</th>\n",
       "      <td>6960</td>\n",
       "      <td>johnson&amp;johnson</td>\n",
       "      <td>Neutral</td>\n",
       "      <td>Johnson &amp; Johnson to stop selling talc baby po...</td>\n",
       "      <td>False</td>\n",
       "    </tr>\n",
       "  </tbody>\n",
       "</table>\n",
       "<p>75682 rows × 5 columns</p>\n",
       "</div>"
      ],
      "text/plain": [
       "         Id               Entity   Sentiment  \\\n",
       "0      2401          Borderlands    Positive   \n",
       "1      2401          Borderlands    Positive   \n",
       "2      2401          Borderlands    Positive   \n",
       "3      2401          Borderlands    Positive   \n",
       "4      2401          Borderlands    Positive   \n",
       "...     ...                  ...         ...   \n",
       "75677  4891  GrandTheftAuto(GTA)  Irrelevant   \n",
       "75678  4359                CS-GO  Irrelevant   \n",
       "75679  2652          Borderlands    Positive   \n",
       "75680  8069            Microsoft    Positive   \n",
       "75681  6960      johnson&johnson     Neutral   \n",
       "\n",
       "                                                   Tweet  is_train  \n",
       "0      im getting on borderlands and i will murder yo...      True  \n",
       "1      I am coming to the borders and I will kill you...      True  \n",
       "2      im getting on borderlands and i will kill you ...      True  \n",
       "3      im coming on borderlands and i will murder you...      True  \n",
       "4      im getting on borderlands 2 and i will murder ...      True  \n",
       "...                                                  ...       ...  \n",
       "75677  ⭐️ Toronto is the arts and culture capital of ...     False  \n",
       "75678  tHIS IS ACTUALLY A GOOD MOVE TOT BRING MORE VI...     False  \n",
       "75679  Today sucked so it’s time to drink wine n play...     False  \n",
       "75680  Bought a fraction of Microsoft today. Small wins.     False  \n",
       "75681  Johnson & Johnson to stop selling talc baby po...     False  \n",
       "\n",
       "[75682 rows x 5 columns]"
      ]
     },
     "execution_count": 3,
     "metadata": {},
     "output_type": "execute_result"
    }
   ],
   "source": [
    "all_df.index = pd.RangeIndex(len(all_df.index))\n",
    "all_df.index = range(len(all_df.index))\n",
    "all_df"
   ]
  },
  {
   "cell_type": "markdown",
   "id": "32ed01e7",
   "metadata": {
    "papermill": {
     "duration": 0.078974,
     "end_time": "2022-02-21T16:23:28.614655",
     "exception": false,
     "start_time": "2022-02-21T16:23:28.535681",
     "status": "completed"
    },
    "tags": []
   },
   "source": [
    "## EDA"
   ]
  },
  {
   "cell_type": "code",
   "execution_count": 4,
   "id": "fbe33184",
   "metadata": {
    "execution": {
     "iopub.execute_input": "2022-02-21T16:23:28.782179Z",
     "iopub.status.busy": "2022-02-21T16:23:28.781119Z",
     "iopub.status.idle": "2022-02-21T16:23:28.787472Z",
     "shell.execute_reply": "2022-02-21T16:23:28.788068Z",
     "shell.execute_reply.started": "2022-02-21T14:25:19.054716Z"
    },
    "papermill": {
     "duration": 0.093896,
     "end_time": "2022-02-21T16:23:28.788240",
     "exception": false,
     "start_time": "2022-02-21T16:23:28.694344",
     "status": "completed"
    },
    "tags": []
   },
   "outputs": [
    {
     "data": {
      "text/html": [
       "<div>\n",
       "<style scoped>\n",
       "    .dataframe tbody tr th:only-of-type {\n",
       "        vertical-align: middle;\n",
       "    }\n",
       "\n",
       "    .dataframe tbody tr th {\n",
       "        vertical-align: top;\n",
       "    }\n",
       "\n",
       "    .dataframe thead th {\n",
       "        text-align: right;\n",
       "    }\n",
       "</style>\n",
       "<table border=\"1\" class=\"dataframe\">\n",
       "  <thead>\n",
       "    <tr style=\"text-align: right;\">\n",
       "      <th></th>\n",
       "      <th>0</th>\n",
       "      <th>1</th>\n",
       "    </tr>\n",
       "  </thead>\n",
       "  <tbody>\n",
       "    <tr>\n",
       "      <th>Id</th>\n",
       "      <td>2401</td>\n",
       "      <td>2401</td>\n",
       "    </tr>\n",
       "    <tr>\n",
       "      <th>Entity</th>\n",
       "      <td>Borderlands</td>\n",
       "      <td>Borderlands</td>\n",
       "    </tr>\n",
       "    <tr>\n",
       "      <th>Sentiment</th>\n",
       "      <td>Positive</td>\n",
       "      <td>Positive</td>\n",
       "    </tr>\n",
       "    <tr>\n",
       "      <th>Tweet</th>\n",
       "      <td>im getting on borderlands and i will murder yo...</td>\n",
       "      <td>I am coming to the borders and I will kill you...</td>\n",
       "    </tr>\n",
       "    <tr>\n",
       "      <th>is_train</th>\n",
       "      <td>True</td>\n",
       "      <td>True</td>\n",
       "    </tr>\n",
       "  </tbody>\n",
       "</table>\n",
       "</div>"
      ],
      "text/plain": [
       "                                                           0  \\\n",
       "Id                                                      2401   \n",
       "Entity                                           Borderlands   \n",
       "Sentiment                                           Positive   \n",
       "Tweet      im getting on borderlands and i will murder yo...   \n",
       "is_train                                                True   \n",
       "\n",
       "                                                           1  \n",
       "Id                                                      2401  \n",
       "Entity                                           Borderlands  \n",
       "Sentiment                                           Positive  \n",
       "Tweet      I am coming to the borders and I will kill you...  \n",
       "is_train                                                True  "
      ]
     },
     "execution_count": 4,
     "metadata": {},
     "output_type": "execute_result"
    }
   ],
   "source": [
    "all_df.head(2).T"
   ]
  },
  {
   "cell_type": "code",
   "execution_count": 5,
   "id": "d8788344",
   "metadata": {
    "execution": {
     "iopub.execute_input": "2022-02-21T16:23:28.951900Z",
     "iopub.status.busy": "2022-02-21T16:23:28.950966Z",
     "iopub.status.idle": "2022-02-21T16:23:28.980182Z",
     "shell.execute_reply": "2022-02-21T16:23:28.980822Z",
     "shell.execute_reply.started": "2022-02-21T14:25:19.068604Z"
    },
    "papermill": {
     "duration": 0.112733,
     "end_time": "2022-02-21T16:23:28.980996",
     "exception": false,
     "start_time": "2022-02-21T16:23:28.868263",
     "status": "completed"
    },
    "tags": []
   },
   "outputs": [
    {
     "data": {
      "text/plain": [
       "(73996, 2)"
      ]
     },
     "execution_count": 5,
     "metadata": {},
     "output_type": "execute_result"
    }
   ],
   "source": [
    "labeled_df = train[['Sentiment', 'Tweet']].copy()#'Entity'\n",
    "\n",
    "labeled_df  = labeled_df[pd.notnull(labeled_df['Tweet'])]\n",
    "\n",
    "labeled_df.shape"
   ]
  },
  {
   "cell_type": "code",
   "execution_count": 6,
   "id": "2235b1b5",
   "metadata": {
    "execution": {
     "iopub.execute_input": "2022-02-21T16:23:29.145918Z",
     "iopub.status.busy": "2022-02-21T16:23:29.145001Z",
     "iopub.status.idle": "2022-02-21T16:23:29.169101Z",
     "shell.execute_reply": "2022-02-21T16:23:29.169653Z",
     "shell.execute_reply.started": "2022-02-21T14:25:19.109518Z"
    },
    "papermill": {
     "duration": 0.108077,
     "end_time": "2022-02-21T16:23:29.169819",
     "exception": false,
     "start_time": "2022-02-21T16:23:29.061742",
     "status": "completed"
    },
    "tags": []
   },
   "outputs": [
    {
     "data": {
      "text/plain": [
       "Sentiment    0\n",
       "Tweet        0\n",
       "dtype: int64"
      ]
     },
     "execution_count": 6,
     "metadata": {},
     "output_type": "execute_result"
    }
   ],
   "source": [
    "labeled_df.isnull().sum()"
   ]
  },
  {
   "cell_type": "code",
   "execution_count": 7,
   "id": "121c3a1d",
   "metadata": {
    "execution": {
     "iopub.execute_input": "2022-02-21T16:23:29.345488Z",
     "iopub.status.busy": "2022-02-21T16:23:29.344547Z",
     "iopub.status.idle": "2022-02-21T16:23:29.351002Z",
     "shell.execute_reply": "2022-02-21T16:23:29.350315Z",
     "shell.execute_reply.started": "2022-02-21T14:25:19.142193Z"
    },
    "papermill": {
     "duration": 0.100763,
     "end_time": "2022-02-21T16:23:29.351160",
     "exception": false,
     "start_time": "2022-02-21T16:23:29.250397",
     "status": "completed"
    },
    "tags": []
   },
   "outputs": [
    {
     "data": {
      "text/plain": [
       "97.8"
      ]
     },
     "execution_count": 7,
     "metadata": {},
     "output_type": "execute_result"
    }
   ],
   "source": [
    "total = train['Tweet'].notnull().sum()\n",
    "round((total/len(all_df)*100),1)"
   ]
  },
  {
   "cell_type": "code",
   "execution_count": 8,
   "id": "20e54ec8",
   "metadata": {
    "execution": {
     "iopub.execute_input": "2022-02-21T16:23:29.522938Z",
     "iopub.status.busy": "2022-02-21T16:23:29.522235Z",
     "iopub.status.idle": "2022-02-21T16:23:29.535611Z",
     "shell.execute_reply": "2022-02-21T16:23:29.536206Z",
     "shell.execute_reply.started": "2022-02-21T14:25:19.168462Z"
    },
    "papermill": {
     "duration": 0.102676,
     "end_time": "2022-02-21T16:23:29.536392",
     "exception": false,
     "start_time": "2022-02-21T16:23:29.433716",
     "status": "completed"
    },
    "tags": []
   },
   "outputs": [
    {
     "data": {
      "text/plain": [
       "Negative      22358\n",
       "Positive      20655\n",
       "Neutral       18108\n",
       "Irrelevant    12875\n",
       "Name: Sentiment, dtype: int64"
      ]
     },
     "execution_count": 8,
     "metadata": {},
     "output_type": "execute_result"
    }
   ],
   "source": [
    "# pd.DataFrame(short_df.Sentiment.unique()).values\n",
    "labeled_df.Sentiment.value_counts()"
   ]
  },
  {
   "cell_type": "code",
   "execution_count": 9,
   "id": "66b882ba",
   "metadata": {
    "execution": {
     "iopub.execute_input": "2022-02-21T16:23:29.707328Z",
     "iopub.status.busy": "2022-02-21T16:23:29.706702Z",
     "iopub.status.idle": "2022-02-21T16:23:29.733891Z",
     "shell.execute_reply": "2022-02-21T16:23:29.734386Z",
     "shell.execute_reply.started": "2022-02-21T14:25:19.192036Z"
    },
    "papermill": {
     "duration": 0.112928,
     "end_time": "2022-02-21T16:23:29.734589",
     "exception": false,
     "start_time": "2022-02-21T16:23:29.621661",
     "status": "completed"
    },
    "tags": []
   },
   "outputs": [
    {
     "data": {
      "text/html": [
       "<div>\n",
       "<style scoped>\n",
       "    .dataframe tbody tr th:only-of-type {\n",
       "        vertical-align: middle;\n",
       "    }\n",
       "\n",
       "    .dataframe tbody tr th {\n",
       "        vertical-align: top;\n",
       "    }\n",
       "\n",
       "    .dataframe thead th {\n",
       "        text-align: right;\n",
       "    }\n",
       "</style>\n",
       "<table border=\"1\" class=\"dataframe\">\n",
       "  <thead>\n",
       "    <tr style=\"text-align: right;\">\n",
       "      <th></th>\n",
       "      <th>Sentiment</th>\n",
       "      <th>Tweet</th>\n",
       "      <th>Sentiment_target</th>\n",
       "    </tr>\n",
       "  </thead>\n",
       "  <tbody>\n",
       "    <tr>\n",
       "      <th>56570</th>\n",
       "      <td>Positive</td>\n",
       "      <td>Are we just going to pretend to be @ Ubisoft a...</td>\n",
       "      <td>0</td>\n",
       "    </tr>\n",
       "    <tr>\n",
       "      <th>54194</th>\n",
       "      <td>Negative</td>\n",
       "      <td>The problem is even more than racism, it's a d...</td>\n",
       "      <td>2</td>\n",
       "    </tr>\n",
       "    <tr>\n",
       "      <th>64054</th>\n",
       "      <td>Negative</td>\n",
       "      <td>Hey @EAMaddenNFL but when else is the update c...</td>\n",
       "      <td>2</td>\n",
       "    </tr>\n",
       "    <tr>\n",
       "      <th>42756</th>\n",
       "      <td>Irrelevant</td>\n",
       "      <td>Can Mingyu also play PUBG huhuhu I want him to...</td>\n",
       "      <td>3</td>\n",
       "    </tr>\n",
       "    <tr>\n",
       "      <th>38295</th>\n",
       "      <td>Negative</td>\n",
       "      <td>@BlizzardCSEU_EN Any logical reason why my hea...</td>\n",
       "      <td>2</td>\n",
       "    </tr>\n",
       "    <tr>\n",
       "      <th>...</th>\n",
       "      <td>...</td>\n",
       "      <td>...</td>\n",
       "      <td>...</td>\n",
       "    </tr>\n",
       "    <tr>\n",
       "      <th>14506</th>\n",
       "      <td>Negative</td>\n",
       "      <td>The Wtf??</td>\n",
       "      <td>2</td>\n",
       "    </tr>\n",
       "    <tr>\n",
       "      <th>25689</th>\n",
       "      <td>Negative</td>\n",
       "      <td>ive had enough and this sexist bullshit</td>\n",
       "      <td>2</td>\n",
       "    </tr>\n",
       "    <tr>\n",
       "      <th>20759</th>\n",
       "      <td>Neutral</td>\n",
       "      <td>I, then, humbly conclude, a toast, with Nikola...</td>\n",
       "      <td>1</td>\n",
       "    </tr>\n",
       "    <tr>\n",
       "      <th>50802</th>\n",
       "      <td>Negative</td>\n",
       "      <td>This proof where we are under these organizati...</td>\n",
       "      <td>2</td>\n",
       "    </tr>\n",
       "    <tr>\n",
       "      <th>33375</th>\n",
       "      <td>Positive</td>\n",
       "      <td>@FallGuysGame Your game has some cool pontenti...</td>\n",
       "      <td>0</td>\n",
       "    </tr>\n",
       "  </tbody>\n",
       "</table>\n",
       "<p>30000 rows × 3 columns</p>\n",
       "</div>"
      ],
      "text/plain": [
       "        Sentiment                                              Tweet  \\\n",
       "56570    Positive  Are we just going to pretend to be @ Ubisoft a...   \n",
       "54194    Negative  The problem is even more than racism, it's a d...   \n",
       "64054    Negative  Hey @EAMaddenNFL but when else is the update c...   \n",
       "42756  Irrelevant  Can Mingyu also play PUBG huhuhu I want him to...   \n",
       "38295    Negative  @BlizzardCSEU_EN Any logical reason why my hea...   \n",
       "...           ...                                                ...   \n",
       "14506    Negative                                          The Wtf??   \n",
       "25689    Negative            ive had enough and this sexist bullshit   \n",
       "20759     Neutral  I, then, humbly conclude, a toast, with Nikola...   \n",
       "50802    Negative  This proof where we are under these organizati...   \n",
       "33375    Positive  @FallGuysGame Your game has some cool pontenti...   \n",
       "\n",
       "       Sentiment_target  \n",
       "56570                 0  \n",
       "54194                 2  \n",
       "64054                 2  \n",
       "42756                 3  \n",
       "38295                 2  \n",
       "...                 ...  \n",
       "14506                 2  \n",
       "25689                 2  \n",
       "20759                 1  \n",
       "50802                 2  \n",
       "33375                 0  \n",
       "\n",
       "[30000 rows x 3 columns]"
      ]
     },
     "execution_count": 9,
     "metadata": {},
     "output_type": "execute_result"
    }
   ],
   "source": [
    "labeled_df['Sentiment_target'] = labeled_df.Sentiment.factorize()[0]\n",
    "# short_df=short_df[['Tweet', 'Sentiment_target']].drop_duplicates()\n",
    "short_df = labeled_df.sample(30000, random_state=1).copy()\n",
    "short_df"
   ]
  },
  {
   "cell_type": "code",
   "execution_count": 10,
   "id": "72d5bfa5",
   "metadata": {
    "execution": {
     "iopub.execute_input": "2022-02-21T16:23:29.903362Z",
     "iopub.status.busy": "2022-02-21T16:23:29.902728Z",
     "iopub.status.idle": "2022-02-21T16:23:29.942508Z",
     "shell.execute_reply": "2022-02-21T16:23:29.943267Z",
     "shell.execute_reply.started": "2022-02-21T14:25:19.234512Z"
    },
    "papermill": {
     "duration": 0.126434,
     "end_time": "2022-02-21T16:23:29.943547",
     "exception": false,
     "start_time": "2022-02-21T16:23:29.817113",
     "status": "completed"
    },
    "tags": []
   },
   "outputs": [
    {
     "data": {
      "text/html": [
       "<div>\n",
       "<style scoped>\n",
       "    .dataframe tbody tr th:only-of-type {\n",
       "        vertical-align: middle;\n",
       "    }\n",
       "\n",
       "    .dataframe tbody tr th {\n",
       "        vertical-align: top;\n",
       "    }\n",
       "\n",
       "    .dataframe thead th {\n",
       "        text-align: right;\n",
       "    }\n",
       "</style>\n",
       "<table border=\"1\" class=\"dataframe\">\n",
       "  <thead>\n",
       "    <tr style=\"text-align: right;\">\n",
       "      <th></th>\n",
       "      <th>Sentiment</th>\n",
       "      <th>Tweet</th>\n",
       "      <th>Sentiment_target</th>\n",
       "    </tr>\n",
       "  </thead>\n",
       "  <tbody>\n",
       "    <tr>\n",
       "      <th>56570</th>\n",
       "      <td>Positive</td>\n",
       "      <td>Are we just going to pretend to be @ Ubisoft a...</td>\n",
       "      <td>0</td>\n",
       "    </tr>\n",
       "    <tr>\n",
       "      <th>54194</th>\n",
       "      <td>Negative</td>\n",
       "      <td>The problem is even more than racism, it's a d...</td>\n",
       "      <td>2</td>\n",
       "    </tr>\n",
       "    <tr>\n",
       "      <th>64054</th>\n",
       "      <td>Negative</td>\n",
       "      <td>Hey @EAMaddenNFL but when else is the update c...</td>\n",
       "      <td>2</td>\n",
       "    </tr>\n",
       "    <tr>\n",
       "      <th>42756</th>\n",
       "      <td>Irrelevant</td>\n",
       "      <td>Can Mingyu also play PUBG huhuhu I want him to...</td>\n",
       "      <td>3</td>\n",
       "    </tr>\n",
       "    <tr>\n",
       "      <th>38295</th>\n",
       "      <td>Negative</td>\n",
       "      <td>@BlizzardCSEU_EN Any logical reason why my hea...</td>\n",
       "      <td>2</td>\n",
       "    </tr>\n",
       "    <tr>\n",
       "      <th>...</th>\n",
       "      <td>...</td>\n",
       "      <td>...</td>\n",
       "      <td>...</td>\n",
       "    </tr>\n",
       "    <tr>\n",
       "      <th>14506</th>\n",
       "      <td>Negative</td>\n",
       "      <td>The Wtf??</td>\n",
       "      <td>2</td>\n",
       "    </tr>\n",
       "    <tr>\n",
       "      <th>25689</th>\n",
       "      <td>Negative</td>\n",
       "      <td>ive had enough and this sexist bullshit</td>\n",
       "      <td>2</td>\n",
       "    </tr>\n",
       "    <tr>\n",
       "      <th>20759</th>\n",
       "      <td>Neutral</td>\n",
       "      <td>I, then, humbly conclude, a toast, with Nikola...</td>\n",
       "      <td>1</td>\n",
       "    </tr>\n",
       "    <tr>\n",
       "      <th>50802</th>\n",
       "      <td>Negative</td>\n",
       "      <td>This proof where we are under these organizati...</td>\n",
       "      <td>2</td>\n",
       "    </tr>\n",
       "    <tr>\n",
       "      <th>33375</th>\n",
       "      <td>Positive</td>\n",
       "      <td>@FallGuysGame Your game has some cool pontenti...</td>\n",
       "      <td>0</td>\n",
       "    </tr>\n",
       "  </tbody>\n",
       "</table>\n",
       "<p>28959 rows × 3 columns</p>\n",
       "</div>"
      ],
      "text/plain": [
       "        Sentiment                                              Tweet  \\\n",
       "56570    Positive  Are we just going to pretend to be @ Ubisoft a...   \n",
       "54194    Negative  The problem is even more than racism, it's a d...   \n",
       "64054    Negative  Hey @EAMaddenNFL but when else is the update c...   \n",
       "42756  Irrelevant  Can Mingyu also play PUBG huhuhu I want him to...   \n",
       "38295    Negative  @BlizzardCSEU_EN Any logical reason why my hea...   \n",
       "...           ...                                                ...   \n",
       "14506    Negative                                          The Wtf??   \n",
       "25689    Negative            ive had enough and this sexist bullshit   \n",
       "20759     Neutral  I, then, humbly conclude, a toast, with Nikola...   \n",
       "50802    Negative  This proof where we are under these organizati...   \n",
       "33375    Positive  @FallGuysGame Your game has some cool pontenti...   \n",
       "\n",
       "       Sentiment_target  \n",
       "56570                 0  \n",
       "54194                 2  \n",
       "64054                 2  \n",
       "42756                 3  \n",
       "38295                 2  \n",
       "...                 ...  \n",
       "14506                 2  \n",
       "25689                 2  \n",
       "20759                 1  \n",
       "50802                 2  \n",
       "33375                 0  \n",
       "\n",
       "[28959 rows x 3 columns]"
      ]
     },
     "execution_count": 10,
     "metadata": {},
     "output_type": "execute_result"
    }
   ],
   "source": [
    "short_df=short_df.drop_duplicates()\n",
    "short_df"
   ]
  },
  {
   "cell_type": "code",
   "execution_count": 11,
   "id": "49bfe130",
   "metadata": {
    "execution": {
     "iopub.execute_input": "2022-02-21T16:23:30.120723Z",
     "iopub.status.busy": "2022-02-21T16:23:30.119778Z",
     "iopub.status.idle": "2022-02-21T16:23:30.132206Z",
     "shell.execute_reply": "2022-02-21T16:23:30.132831Z",
     "shell.execute_reply.started": "2022-02-21T14:25:19.296825Z"
    },
    "papermill": {
     "duration": 0.103896,
     "end_time": "2022-02-21T16:23:30.133031",
     "exception": false,
     "start_time": "2022-02-21T16:23:30.029135",
     "status": "completed"
    },
    "tags": []
   },
   "outputs": [
    {
     "data": {
      "text/html": [
       "<div>\n",
       "<style scoped>\n",
       "    .dataframe tbody tr th:only-of-type {\n",
       "        vertical-align: middle;\n",
       "    }\n",
       "\n",
       "    .dataframe tbody tr th {\n",
       "        vertical-align: top;\n",
       "    }\n",
       "\n",
       "    .dataframe thead th {\n",
       "        text-align: right;\n",
       "    }\n",
       "</style>\n",
       "<table border=\"1\" class=\"dataframe\">\n",
       "  <thead>\n",
       "    <tr style=\"text-align: right;\">\n",
       "      <th></th>\n",
       "      <th>Sentiment</th>\n",
       "      <th>Tweet</th>\n",
       "      <th>Sentiment_target</th>\n",
       "    </tr>\n",
       "  </thead>\n",
       "  <tbody>\n",
       "    <tr>\n",
       "      <th>0</th>\n",
       "      <td>Positive</td>\n",
       "      <td>Are we just going to pretend to be @ Ubisoft a...</td>\n",
       "      <td>0</td>\n",
       "    </tr>\n",
       "    <tr>\n",
       "      <th>1</th>\n",
       "      <td>Negative</td>\n",
       "      <td>The problem is even more than racism, it's a d...</td>\n",
       "      <td>2</td>\n",
       "    </tr>\n",
       "    <tr>\n",
       "      <th>2</th>\n",
       "      <td>Negative</td>\n",
       "      <td>Hey @EAMaddenNFL but when else is the update c...</td>\n",
       "      <td>2</td>\n",
       "    </tr>\n",
       "    <tr>\n",
       "      <th>3</th>\n",
       "      <td>Irrelevant</td>\n",
       "      <td>Can Mingyu also play PUBG huhuhu I want him to...</td>\n",
       "      <td>3</td>\n",
       "    </tr>\n",
       "    <tr>\n",
       "      <th>4</th>\n",
       "      <td>Negative</td>\n",
       "      <td>@BlizzardCSEU_EN Any logical reason why my hea...</td>\n",
       "      <td>2</td>\n",
       "    </tr>\n",
       "    <tr>\n",
       "      <th>...</th>\n",
       "      <td>...</td>\n",
       "      <td>...</td>\n",
       "      <td>...</td>\n",
       "    </tr>\n",
       "    <tr>\n",
       "      <th>28954</th>\n",
       "      <td>Negative</td>\n",
       "      <td>The Wtf??</td>\n",
       "      <td>2</td>\n",
       "    </tr>\n",
       "    <tr>\n",
       "      <th>28955</th>\n",
       "      <td>Negative</td>\n",
       "      <td>ive had enough and this sexist bullshit</td>\n",
       "      <td>2</td>\n",
       "    </tr>\n",
       "    <tr>\n",
       "      <th>28956</th>\n",
       "      <td>Neutral</td>\n",
       "      <td>I, then, humbly conclude, a toast, with Nikola...</td>\n",
       "      <td>1</td>\n",
       "    </tr>\n",
       "    <tr>\n",
       "      <th>28957</th>\n",
       "      <td>Negative</td>\n",
       "      <td>This proof where we are under these organizati...</td>\n",
       "      <td>2</td>\n",
       "    </tr>\n",
       "    <tr>\n",
       "      <th>28958</th>\n",
       "      <td>Positive</td>\n",
       "      <td>@FallGuysGame Your game has some cool pontenti...</td>\n",
       "      <td>0</td>\n",
       "    </tr>\n",
       "  </tbody>\n",
       "</table>\n",
       "<p>28959 rows × 3 columns</p>\n",
       "</div>"
      ],
      "text/plain": [
       "        Sentiment                                              Tweet  \\\n",
       "0        Positive  Are we just going to pretend to be @ Ubisoft a...   \n",
       "1        Negative  The problem is even more than racism, it's a d...   \n",
       "2        Negative  Hey @EAMaddenNFL but when else is the update c...   \n",
       "3      Irrelevant  Can Mingyu also play PUBG huhuhu I want him to...   \n",
       "4        Negative  @BlizzardCSEU_EN Any logical reason why my hea...   \n",
       "...           ...                                                ...   \n",
       "28954    Negative                                          The Wtf??   \n",
       "28955    Negative            ive had enough and this sexist bullshit   \n",
       "28956     Neutral  I, then, humbly conclude, a toast, with Nikola...   \n",
       "28957    Negative  This proof where we are under these organizati...   \n",
       "28958    Positive  @FallGuysGame Your game has some cool pontenti...   \n",
       "\n",
       "       Sentiment_target  \n",
       "0                     0  \n",
       "1                     2  \n",
       "2                     2  \n",
       "3                     3  \n",
       "4                     2  \n",
       "...                 ...  \n",
       "28954                 2  \n",
       "28955                 2  \n",
       "28956                 1  \n",
       "28957                 2  \n",
       "28958                 0  \n",
       "\n",
       "[28959 rows x 3 columns]"
      ]
     },
     "execution_count": 11,
     "metadata": {},
     "output_type": "execute_result"
    }
   ],
   "source": [
    "short_df = short_df.reset_index(drop=True)\n",
    "short_df"
   ]
  },
  {
   "cell_type": "code",
   "execution_count": 12,
   "id": "d0303e24",
   "metadata": {
    "execution": {
     "iopub.execute_input": "2022-02-21T16:23:30.305295Z",
     "iopub.status.busy": "2022-02-21T16:23:30.304648Z",
     "iopub.status.idle": "2022-02-21T16:23:30.311071Z",
     "shell.execute_reply": "2022-02-21T16:23:30.311685Z",
     "shell.execute_reply.started": "2022-02-21T14:25:19.315269Z"
    },
    "papermill": {
     "duration": 0.094265,
     "end_time": "2022-02-21T16:23:30.311869",
     "exception": false,
     "start_time": "2022-02-21T16:23:30.217604",
     "status": "completed"
    },
    "tags": []
   },
   "outputs": [
    {
     "data": {
      "text/plain": [
       "(array([    3,     7,    13, ..., 28943, 28945, 28948]),)"
      ]
     },
     "execution_count": 12,
     "metadata": {},
     "output_type": "execute_result"
    }
   ],
   "source": [
    "np.nonzero((short_df.Sentiment_target==3).values)"
   ]
  },
  {
   "cell_type": "code",
   "execution_count": 13,
   "id": "201f74c1",
   "metadata": {
    "execution": {
     "iopub.execute_input": "2022-02-21T16:23:30.486022Z",
     "iopub.status.busy": "2022-02-21T16:23:30.485318Z",
     "iopub.status.idle": "2022-02-21T16:23:30.496792Z",
     "shell.execute_reply": "2022-02-21T16:23:30.496153Z",
     "shell.execute_reply.started": "2022-02-21T14:25:19.330143Z"
    },
    "papermill": {
     "duration": 0.09887,
     "end_time": "2022-02-21T16:23:30.496936",
     "exception": false,
     "start_time": "2022-02-21T16:23:30.398066",
     "status": "completed"
    },
    "tags": []
   },
   "outputs": [
    {
     "name": "stderr",
     "output_type": "stream",
     "text": [
      "/opt/conda/lib/python3.7/site-packages/ipykernel_launcher.py:2: SettingWithCopyWarning: \n",
      "A value is trying to be set on a copy of a slice from a DataFrame\n",
      "\n",
      "See the caveats in the documentation: https://pandas.pydata.org/pandas-docs/stable/user_guide/indexing.html#returning-a-view-versus-a-copy\n",
      "  \n"
     ]
    },
    {
     "data": {
      "text/plain": [
       "1    12196\n",
       "2     8737\n",
       "0     8026\n",
       "Name: Sentiment_target, dtype: int64"
      ]
     },
     "execution_count": 13,
     "metadata": {},
     "output_type": "execute_result"
    }
   ],
   "source": [
    "for i in np.nonzero((short_df.Sentiment_target==3).values):\n",
    "    short_df.Sentiment_target[i] = int(1)\n",
    "short_df.Sentiment_target.value_counts()"
   ]
  },
  {
   "cell_type": "code",
   "execution_count": 14,
   "id": "6f486a0f",
   "metadata": {
    "execution": {
     "iopub.execute_input": "2022-02-21T16:23:30.677677Z",
     "iopub.status.busy": "2022-02-21T16:23:30.677007Z",
     "iopub.status.idle": "2022-02-21T16:23:31.028017Z",
     "shell.execute_reply": "2022-02-21T16:23:31.027366Z",
     "shell.execute_reply.started": "2022-02-21T14:25:19.349118Z"
    },
    "papermill": {
     "duration": 0.446333,
     "end_time": "2022-02-21T16:23:31.028156",
     "exception": false,
     "start_time": "2022-02-21T16:23:30.581823",
     "status": "completed"
    },
    "tags": []
   },
   "outputs": [
    {
     "data": {
      "image/png": "[encoded data removed]",
      "text/plain": [
       "<Figure size 576x432 with 1 Axes>"
      ]
     },
     "metadata": {},
     "output_type": "display_data"
    }
   ],
   "source": [
    "fig = plt.figure(figsize=(8,6))\n",
    "colors = ['lightgrey','lightblue','darkgreen', 'darkred']\n",
    "short_df.groupby(['Sentiment']).Tweet.count().sort_values().plot.barh(\n",
    "    ylim=0, color=colors, title= 'NUMBER OF TWEETS IN EACH SENTIMENT CATEGORY\\n')\n",
    "plt.xlabel('Number of ocurrences', fontsize = 10);"
   ]
  },
  {
   "cell_type": "code",
   "execution_count": 15,
   "id": "c403a425",
   "metadata": {
    "execution": {
     "iopub.execute_input": "2022-02-21T16:23:31.206596Z",
     "iopub.status.busy": "2022-02-21T16:23:31.205966Z",
     "iopub.status.idle": "2022-02-21T16:23:31.507031Z",
     "shell.execute_reply": "2022-02-21T16:23:31.507567Z",
     "shell.execute_reply.started": "2022-02-21T14:25:19.638905Z"
    },
    "papermill": {
     "duration": 0.390607,
     "end_time": "2022-02-21T16:23:31.507766",
     "exception": false,
     "start_time": "2022-02-21T16:23:31.117159",
     "status": "completed"
    },
    "tags": []
   },
   "outputs": [
    {
     "data": {
      "image/png": "[encoded data removed]",
      "text/plain": [
       "<Figure size 576x432 with 1 Axes>"
      ]
     },
     "metadata": {},
     "output_type": "display_data"
    }
   ],
   "source": [
    "fig = plt.figure(figsize=(8,6))\n",
    "colors = ['darkgreen', 'darkred', 'lightblue']\n",
    "short_df.groupby(['Sentiment_target']).Tweet.count().sort_values().plot.barh(\n",
    "    ylim=0, color=colors, title= 'NUMBER OF TWEETS IN EACH SENTIMENT CATEGORY\\n')\n",
    "plt.xlabel('Number of ocurrences', fontsize = 10);"
   ]
  },
  {
   "cell_type": "code",
   "execution_count": 16,
   "id": "263bd988",
   "metadata": {
    "execution": {
     "iopub.execute_input": "2022-02-21T16:23:31.690044Z",
     "iopub.status.busy": "2022-02-21T16:23:31.689324Z",
     "iopub.status.idle": "2022-02-21T16:23:38.136339Z",
     "shell.execute_reply": "2022-02-21T16:23:38.136866Z",
     "shell.execute_reply.started": "2022-02-21T14:25:19.940465Z"
    },
    "papermill": {
     "duration": 6.540853,
     "end_time": "2022-02-21T16:23:38.137066",
     "exception": false,
     "start_time": "2022-02-21T16:23:31.596213",
     "status": "completed"
    },
    "tags": []
   },
   "outputs": [
    {
     "data": {
      "image/png": "[encoded data removed]",
      "text/plain": [
       "<Figure size 576x396 with 1 Axes>"
      ]
     },
     "metadata": {},
     "output_type": "display_data"
    }
   ],
   "source": [
    "# Generating a word cloud of frequency of text\n",
    "from wordcloud import WordCloud\n",
    "wordcloud = WordCloud(background_color=\"white\", width=1500, height=1000).generate(' '.join(short_df['Tweet']))\n",
    "plt.imshow(wordcloud, interpolation='bilinear')\n",
    "plt.axis(\"off\")\n",
    "plt.show()"
   ]
  },
  {
   "cell_type": "markdown",
   "id": "f7a09575",
   "metadata": {
    "papermill": {
     "duration": 0.095118,
     "end_time": "2022-02-21T16:23:38.327319",
     "exception": false,
     "start_time": "2022-02-21T16:23:38.232201",
     "status": "completed"
    },
    "tags": []
   },
   "source": [
    "## Remove punctuation"
   ]
  },
  {
   "cell_type": "code",
   "execution_count": 17,
   "id": "a88d2256",
   "metadata": {
    "execution": {
     "iopub.execute_input": "2022-02-21T16:23:38.528233Z",
     "iopub.status.busy": "2022-02-21T16:23:38.527516Z",
     "iopub.status.idle": "2022-02-21T16:23:38.530212Z",
     "shell.execute_reply": "2022-02-21T16:23:38.530877Z",
     "shell.execute_reply.started": "2022-02-21T14:25:26.599866Z"
    },
    "papermill": {
     "duration": 0.108958,
     "end_time": "2022-02-21T16:23:38.531073",
     "exception": false,
     "start_time": "2022-02-21T16:23:38.422115",
     "status": "completed"
    },
    "tags": []
   },
   "outputs": [],
   "source": [
    "def remove_links(tweet):\n",
    "    tweet = re.sub(r'http\\S+', '', tweet) # remove http links\n",
    "    tweet = re.sub(r'bit.ly/\\S+', '', tweet) # rempve bitly links\n",
    "    tweet = tweet.strip('[link]') # remove [links]\n",
    "    return tweet\n",
    "\n",
    "def remove_users(tweet):\n",
    "    '''Takes a string and removes retweet and @user information'''\n",
    "    tweet = re.sub('(RT\\s@[A-Za-z]+[A-Za-z0-9-_]+)', '', tweet) # remove retweet\n",
    "    tweet = re.sub('(@[A-Za-z]+[A-Za-z0-9-_]+)', '', tweet) # remove tweeted at\n",
    "    return tweet\n",
    "\n",
    "my_punctuation = '!\"$%&\\'()*+,-./:;<=>?[\\\\]^_`{|}~•@'\n",
    "def preprocess(sent):\n",
    "    sent = remove_users(sent)\n",
    "    sent = remove_links(sent)\n",
    "    sent = sent.lower() # lower case\n",
    "    sent = re.sub('['+my_punctuation + ']+', ' ', sent) # strip punctuation\n",
    "    sent = re.sub('\\s+', ' ', sent) #remove double spacing\n",
    "    sent = re.sub('([0-9]+)', '', sent) # remove numbers\n",
    "    sent_token_list = [word for word in sent.split(' ')]\n",
    "    sent = ' '.join(sent_token_list)\n",
    "    return sent\n"
   ]
  },
  {
   "cell_type": "code",
   "execution_count": 18,
   "id": "9494fc89",
   "metadata": {
    "execution": {
     "iopub.execute_input": "2022-02-21T16:23:38.724418Z",
     "iopub.status.busy": "2022-02-21T16:23:38.723745Z",
     "iopub.status.idle": "2022-02-21T16:23:38.727476Z",
     "shell.execute_reply": "2022-02-21T16:23:38.728010Z",
     "shell.execute_reply.started": "2022-02-21T14:25:26.611507Z"
    },
    "papermill": {
     "duration": 0.101598,
     "end_time": "2022-02-21T16:23:38.728199",
     "exception": false,
     "start_time": "2022-02-21T16:23:38.626601",
     "status": "completed"
    },
    "tags": []
   },
   "outputs": [],
   "source": [
    "# short_df['Tweet']=short_df['Tweet'].progress_apply(lambda x: preprocess(x)).progress_apply(lambda x: remove_users(x)).progress_apply(lambda x: remove_links(x))"
   ]
  },
  {
   "cell_type": "markdown",
   "id": "390e5a7a",
   "metadata": {
    "papermill": {
     "duration": 0.093882,
     "end_time": "2022-02-21T16:23:38.916105",
     "exception": false,
     "start_time": "2022-02-21T16:23:38.822223",
     "status": "completed"
    },
    "tags": []
   },
   "source": [
    "## Stop words removal with NLTK"
   ]
  },
  {
   "cell_type": "code",
   "execution_count": 19,
   "id": "83f15359",
   "metadata": {
    "execution": {
     "iopub.execute_input": "2022-02-21T16:23:39.110039Z",
     "iopub.status.busy": "2022-02-21T16:23:39.109318Z",
     "iopub.status.idle": "2022-02-21T16:23:39.578165Z",
     "shell.execute_reply": "2022-02-21T16:23:39.577146Z",
     "shell.execute_reply.started": "2022-02-21T14:25:26.626952Z"
    },
    "papermill": {
     "duration": 0.566639,
     "end_time": "2022-02-21T16:23:39.578394",
     "exception": false,
     "start_time": "2022-02-21T16:23:39.011755",
     "status": "completed"
    },
    "tags": []
   },
   "outputs": [],
   "source": [
    "import nltk\n",
    "from nltk.corpus import stopwords\n",
    "from nltk.tokenize import word_tokenize \n",
    "stop_words = set(stopwords.words('english')) "
   ]
  },
  {
   "cell_type": "code",
   "execution_count": 20,
   "id": "d0e52b34",
   "metadata": {
    "execution": {
     "iopub.execute_input": "2022-02-21T16:23:39.774936Z",
     "iopub.status.busy": "2022-02-21T16:23:39.774302Z",
     "iopub.status.idle": "2022-02-21T16:23:39.776636Z",
     "shell.execute_reply": "2022-02-21T16:23:39.776002Z",
     "shell.execute_reply.started": "2022-02-21T14:25:26.640665Z"
    },
    "papermill": {
     "duration": 0.101547,
     "end_time": "2022-02-21T16:23:39.776772",
     "exception": false,
     "start_time": "2022-02-21T16:23:39.675225",
     "status": "completed"
    },
    "tags": []
   },
   "outputs": [],
   "source": [
    "def nltk_text_filter(text):\n",
    "    word_tokens = word_tokenize(text) \n",
    "    \n",
    "    filtered_sentence = [] \n",
    "  \n",
    "    for w in word_tokens: \n",
    "        if w not in stop_words: \n",
    "            filtered_sentence.append(w)\n",
    "    return ' '.join(filtered_sentence)"
   ]
  },
  {
   "cell_type": "code",
   "execution_count": 21,
   "id": "b7378fa0",
   "metadata": {
    "execution": {
     "iopub.execute_input": "2022-02-21T16:23:39.966251Z",
     "iopub.status.busy": "2022-02-21T16:23:39.965652Z",
     "iopub.status.idle": "2022-02-21T16:23:39.972794Z",
     "shell.execute_reply": "2022-02-21T16:23:39.973374Z",
     "shell.execute_reply.started": "2022-02-21T14:25:26.653745Z"
    },
    "papermill": {
     "duration": 0.103663,
     "end_time": "2022-02-21T16:23:39.973571",
     "exception": false,
     "start_time": "2022-02-21T16:23:39.869908",
     "status": "completed"
    },
    "tags": []
   },
   "outputs": [
    {
     "data": {
      "text/plain": [
       "0        Are we just going to pretend to be @ Ubisoft a...\n",
       "1        The problem is even more than racism, it's a d...\n",
       "2        Hey @EAMaddenNFL but when else is the update c...\n",
       "3        Can Mingyu also play PUBG huhuhu I want him to...\n",
       "4        @BlizzardCSEU_EN Any logical reason why my hea...\n",
       "                               ...                        \n",
       "28954                                            The Wtf??\n",
       "28955              ive had enough and this sexist bullshit\n",
       "28956    I, then, humbly conclude, a toast, with Nikola...\n",
       "28957    This proof where we are under these organizati...\n",
       "28958    @FallGuysGame Your game has some cool pontenti...\n",
       "Name: Tweet, Length: 28959, dtype: object"
      ]
     },
     "execution_count": 21,
     "metadata": {},
     "output_type": "execute_result"
    }
   ],
   "source": [
    "short_df['Tweet']"
   ]
  },
  {
   "cell_type": "code",
   "execution_count": 22,
   "id": "65e21e1a",
   "metadata": {
    "execution": {
     "iopub.execute_input": "2022-02-21T16:23:40.165539Z",
     "iopub.status.busy": "2022-02-21T16:23:40.164925Z",
     "iopub.status.idle": "2022-02-21T16:23:51.606304Z",
     "shell.execute_reply": "2022-02-21T16:23:51.606930Z",
     "shell.execute_reply.started": "2022-02-21T14:25:26.670376Z"
    },
    "papermill": {
     "duration": 11.538971,
     "end_time": "2022-02-21T16:23:51.607154",
     "exception": false,
     "start_time": "2022-02-21T16:23:40.068183",
     "status": "completed"
    },
    "tags": []
   },
   "outputs": [
    {
     "name": "stderr",
     "output_type": "stream",
     "text": [
      "100%|██████████| 28959/28959 [00:11<00:00, 2535.57it/s]\n"
     ]
    },
    {
     "data": {
      "text/plain": [
       "0        Are going pretend @ Ubisoft forget 're ... You...\n",
       "1        The problem even racism , 's direct abuse powe...\n",
       "2        Hey @ EAMaddenNFL else update coming ? A lot g...\n",
       "3        Can Mingyu also play PUBG huhuhu I want polaro...\n",
       "4        @ BlizzardCSEU_EN Any logical reason hearthsto...\n",
       "                               ...                        \n",
       "28954                                          The Wtf ? ?\n",
       "28955                           ive enough sexist bullshit\n",
       "28956    I , , humbly conclude , toast , Nikolas Alexan...\n",
       "28957    This proof organizations . . BILITY WITHDRAWS ...\n",
       "28958    @ FallGuysGame Your game cool pontential , ’ t...\n",
       "Name: Tweet, Length: 28959, dtype: object"
      ]
     },
     "execution_count": 22,
     "metadata": {},
     "output_type": "execute_result"
    }
   ],
   "source": [
    "short_df['Tweet'] = short_df['Tweet'].progress_apply(lambda x: nltk_text_filter(x))\n",
    "short_df['Tweet']"
   ]
  },
  {
   "cell_type": "markdown",
   "id": "52498e24",
   "metadata": {
    "papermill": {
     "duration": 0.13546,
     "end_time": "2022-02-21T16:23:51.878697",
     "exception": false,
     "start_time": "2022-02-21T16:23:51.743237",
     "status": "completed"
    },
    "tags": []
   },
   "source": [
    "## Stop words removal and lemmatization with SpaCy"
   ]
  },
  {
   "cell_type": "code",
   "execution_count": 23,
   "id": "17b2fda0",
   "metadata": {
    "execution": {
     "iopub.execute_input": "2022-02-21T16:23:52.157984Z",
     "iopub.status.busy": "2022-02-21T16:23:52.157323Z",
     "iopub.status.idle": "2022-02-21T16:23:52.452373Z",
     "shell.execute_reply": "2022-02-21T16:23:52.451630Z",
     "shell.execute_reply.started": "2022-02-21T14:25:38.434844Z"
    },
    "papermill": {
     "duration": 0.439076,
     "end_time": "2022-02-21T16:23:52.452556",
     "exception": false,
     "start_time": "2022-02-21T16:23:52.013480",
     "status": "completed"
    },
    "tags": []
   },
   "outputs": [],
   "source": [
    "from spacy.lang.en import English\n",
    "from spacy.lang.en.stop_words import STOP_WORDS\n",
    "nlp = English()"
   ]
  },
  {
   "cell_type": "code",
   "execution_count": 24,
   "id": "d15d7b8d",
   "metadata": {
    "execution": {
     "iopub.execute_input": "2022-02-21T16:23:52.730645Z",
     "iopub.status.busy": "2022-02-21T16:23:52.729895Z",
     "iopub.status.idle": "2022-02-21T16:23:52.733027Z",
     "shell.execute_reply": "2022-02-21T16:23:52.732524Z",
     "shell.execute_reply.started": "2022-02-21T14:25:38.667307Z"
    },
    "papermill": {
     "duration": 0.144721,
     "end_time": "2022-02-21T16:23:52.733169",
     "exception": false,
     "start_time": "2022-02-21T16:23:52.588448",
     "status": "completed"
    },
    "tags": []
   },
   "outputs": [],
   "source": [
    "def spacy_text_filter(text):\n",
    "    my_doc = nlp(text)\n",
    "    \n",
    "    token_list = []\n",
    "    for token in my_doc:\n",
    "        token_list.append(token.text)\n",
    "        \n",
    "    filtered_sentence =[] \n",
    "    \n",
    "    for word in token_list:\n",
    "        lexeme = nlp.vocab[word]\n",
    "        if lexeme.is_stop == False:\n",
    "            filtered_sentence.append(word) \n",
    "    return ' '.join(filtered_sentence)"
   ]
  },
  {
   "cell_type": "code",
   "execution_count": 25,
   "id": "ea767f6e",
   "metadata": {
    "execution": {
     "iopub.execute_input": "2022-02-21T16:23:53.009721Z",
     "iopub.status.busy": "2022-02-21T16:23:53.009056Z",
     "iopub.status.idle": "2022-02-21T16:23:53.011982Z",
     "shell.execute_reply": "2022-02-21T16:23:53.012582Z",
     "shell.execute_reply.started": "2022-02-21T14:25:38.676732Z"
    },
    "papermill": {
     "duration": 0.143945,
     "end_time": "2022-02-21T16:23:53.012756",
     "exception": false,
     "start_time": "2022-02-21T16:23:52.868811",
     "status": "completed"
    },
    "tags": []
   },
   "outputs": [],
   "source": [
    "# short_df['Tweet'] = short_df['Tweet'].progress_apply(lambda x: spacy_text_filter(x))\n",
    "# short_df['Tweet']"
   ]
  },
  {
   "cell_type": "markdown",
   "id": "362b07ec",
   "metadata": {
    "papermill": {
     "duration": 0.137639,
     "end_time": "2022-02-21T16:23:53.287769",
     "exception": false,
     "start_time": "2022-02-21T16:23:53.150130",
     "status": "completed"
    },
    "tags": []
   },
   "source": [
    "## Stopword Removal using Gensim"
   ]
  },
  {
   "cell_type": "code",
   "execution_count": 26,
   "id": "bf87d708",
   "metadata": {
    "execution": {
     "iopub.execute_input": "2022-02-21T16:23:53.563193Z",
     "iopub.status.busy": "2022-02-21T16:23:53.562548Z",
     "iopub.status.idle": "2022-02-21T16:23:53.707032Z",
     "shell.execute_reply": "2022-02-21T16:23:53.706450Z",
     "shell.execute_reply.started": "2022-02-21T14:25:38.693972Z"
    },
    "papermill": {
     "duration": 0.283387,
     "end_time": "2022-02-21T16:23:53.707187",
     "exception": false,
     "start_time": "2022-02-21T16:23:53.423800",
     "status": "completed"
    },
    "tags": []
   },
   "outputs": [],
   "source": [
    "from gensim.parsing.preprocessing import remove_stopwords"
   ]
  },
  {
   "cell_type": "code",
   "execution_count": 27,
   "id": "a19181f8",
   "metadata": {
    "execution": {
     "iopub.execute_input": "2022-02-21T16:23:53.986844Z",
     "iopub.status.busy": "2022-02-21T16:23:53.986204Z",
     "iopub.status.idle": "2022-02-21T16:23:53.988658Z",
     "shell.execute_reply": "2022-02-21T16:23:53.987962Z",
     "shell.execute_reply.started": "2022-02-21T14:25:38.706970Z"
    },
    "papermill": {
     "duration": 0.143772,
     "end_time": "2022-02-21T16:23:53.988807",
     "exception": false,
     "start_time": "2022-02-21T16:23:53.845035",
     "status": "completed"
    },
    "tags": []
   },
   "outputs": [],
   "source": [
    "# short_df['Tweet'] = short_df['Tweet'].progress_apply(lambda x: remove_stopwords(x))\n",
    "# short_df['Tweet']"
   ]
  },
  {
   "cell_type": "markdown",
   "id": "0d2ddcaa",
   "metadata": {
    "papermill": {
     "duration": 0.136377,
     "end_time": "2022-02-21T16:23:54.261794",
     "exception": false,
     "start_time": "2022-02-21T16:23:54.125417",
     "status": "completed"
    },
    "tags": []
   },
   "source": [
    "## Vowpal Wabbit"
   ]
  },
  {
   "cell_type": "code",
   "execution_count": 28,
   "id": "dc2e17ed",
   "metadata": {
    "execution": {
     "iopub.execute_input": "2022-02-21T16:23:54.540005Z",
     "iopub.status.busy": "2022-02-21T16:23:54.539145Z",
     "iopub.status.idle": "2022-02-21T16:23:54.542476Z",
     "shell.execute_reply": "2022-02-21T16:23:54.542974Z",
     "shell.execute_reply.started": "2022-02-21T14:25:38.720105Z"
    },
    "papermill": {
     "duration": 0.146776,
     "end_time": "2022-02-21T16:23:54.543147",
     "exception": false,
     "start_time": "2022-02-21T16:23:54.396371",
     "status": "completed"
    },
    "tags": []
   },
   "outputs": [
    {
     "data": {
      "text/plain": [
       "Sentiment           object\n",
       "Tweet               object\n",
       "Sentiment_target     int64\n",
       "dtype: object"
      ]
     },
     "execution_count": 28,
     "metadata": {},
     "output_type": "execute_result"
    }
   ],
   "source": [
    "short_df.dtypes"
   ]
  },
  {
   "cell_type": "code",
   "execution_count": 29,
   "id": "4b788292",
   "metadata": {
    "execution": {
     "iopub.execute_input": "2022-02-21T16:23:54.819590Z",
     "iopub.status.busy": "2022-02-21T16:23:54.818521Z",
     "iopub.status.idle": "2022-02-21T16:23:54.894308Z",
     "shell.execute_reply": "2022-02-21T16:23:54.893754Z",
     "shell.execute_reply.started": "2022-02-21T14:25:38.743932Z"
    },
    "papermill": {
     "duration": 0.215756,
     "end_time": "2022-02-21T16:23:54.894466",
     "exception": false,
     "start_time": "2022-02-21T16:23:54.678710",
     "status": "completed"
    },
    "tags": []
   },
   "outputs": [],
   "source": [
    "converter = DFtoVW.from_colnames(df=short_df, y='Sentiment_target', x='Tweet')\n",
    "examples = converter.convert_df()"
   ]
  },
  {
   "cell_type": "code",
   "execution_count": 30,
   "id": "0f92de04",
   "metadata": {
    "execution": {
     "iopub.execute_input": "2022-02-21T16:23:55.173877Z",
     "iopub.status.busy": "2022-02-21T16:23:55.173223Z",
     "iopub.status.idle": "2022-02-21T16:23:55.175853Z",
     "shell.execute_reply": "2022-02-21T16:23:55.176328Z",
     "shell.execute_reply.started": "2022-02-21T14:25:38.833821Z"
    },
    "papermill": {
     "duration": 0.145602,
     "end_time": "2022-02-21T16:23:55.176512",
     "exception": false,
     "start_time": "2022-02-21T16:23:55.030910",
     "status": "completed"
    },
    "tags": []
   },
   "outputs": [
    {
     "data": {
      "text/plain": [
       "[\"0 | Tweet=Are going pretend @ Ubisoft forget 're ... You 're driving Ubisoft , 're waiting ! ! .\",\n",
       " \"2 | Tweet=The problem even racism , 's direct abuse power find good reason use force hurt someone , 's like 're really fun , many cunning gun-wielding people actually seen real fight ?\",\n",
       " '2 | Tweet=Hey @ EAMaddenNFL else update coming ? A lot glitches occur Twitter game far .',\n",
       " '1 | Tweet=Can Mingyu also play PUBG huhuhu I want polaroids . 🥺 ’ really cute : <',\n",
       " \"2 | Tweet=@ BlizzardCSEU_EN Any logical reason hearthstone 's broken ? It 's nothing ( could one )\"]"
      ]
     },
     "execution_count": 30,
     "metadata": {},
     "output_type": "execute_result"
    }
   ],
   "source": [
    "examples[:5]"
   ]
  },
  {
   "cell_type": "code",
   "execution_count": 31,
   "id": "bcf952a4",
   "metadata": {
    "execution": {
     "iopub.execute_input": "2022-02-21T16:23:55.452381Z",
     "iopub.status.busy": "2022-02-21T16:23:55.451733Z",
     "iopub.status.idle": "2022-02-21T16:23:56.387410Z",
     "shell.execute_reply": "2022-02-21T16:23:56.386799Z",
     "shell.execute_reply.started": "2022-02-21T14:25:38.845076Z"
    },
    "papermill": {
     "duration": 1.074833,
     "end_time": "2022-02-21T16:23:56.387588",
     "exception": false,
     "start_time": "2022-02-21T16:23:55.312755",
     "status": "completed"
    },
    "tags": []
   },
   "outputs": [],
   "source": [
    "model = Workspace(P=1, enable_logging=True)\n",
    "\n",
    "for ex in examples:\n",
    "    model.learn(ex)\n",
    "\n",
    "model.finish()"
   ]
  },
  {
   "cell_type": "code",
   "execution_count": 32,
   "id": "447ac28e",
   "metadata": {
    "execution": {
     "iopub.execute_input": "2022-02-21T16:23:56.689974Z",
     "iopub.status.busy": "2022-02-21T16:23:56.689227Z",
     "iopub.status.idle": "2022-02-21T16:23:56.693447Z",
     "shell.execute_reply": "2022-02-21T16:23:56.694111Z",
     "shell.execute_reply.started": "2022-02-21T14:25:39.696135Z"
    },
    "papermill": {
     "duration": 0.168147,
     "end_time": "2022-02-21T16:23:56.694394",
     "exception": false,
     "start_time": "2022-02-21T16:23:56.526247",
     "status": "completed"
    },
    "tags": []
   },
   "outputs": [
    {
     "data": {
      "text/plain": [
       "['using no cache\\n',\n",
       " 'Reading datafile = stdin\\n',\n",
       " 'num sources = 1\\n',\n",
       " 'Num weight bits = 18\\n',\n",
       " 'learning rate = 0.5\\n',\n",
       " 'initial_t = 0\\n',\n",
       " 'power_t = 0.5\\n',\n",
       " 'Enabled reductions: gd, scorer-identity, count_label\\n',\n",
       " 'Input label = simple\\n',\n",
       " 'Output pred = scalar\\n',\n",
       " 'average  since         example        example  current  current  current\\n',\n",
       " 'loss     last          counter         weight    label  predict features\\n',\n",
       " '0.000000 0.000000            1            1.0   0.0000   0.0000       19\\n',\n",
       " '2.000000 4.000000            2            2.0   2.0000   0.0000       33\\n',\n",
       " '2.544342 3.633027            3            3.0   2.0000   0.0939       16\\n',\n",
       " '2.064014 0.623027            4            4.0   1.0000   0.2107       16\\n',\n",
       " '2.174619 2.617040            5            5.0   2.0000   0.3823       17\\n',\n",
       " '1.818143 0.035761            6            6.0   0.0000   0.1891        3\\n',\n",
       " '2.033624 3.326512            7            7.0   2.0000   0.1761       10\\n',\n",
       " '1.853494 0.592581            8            8.0   1.0000   0.2302        9\\n']"
      ]
     },
     "execution_count": 32,
     "metadata": {},
     "output_type": "execute_result"
    }
   ],
   "source": [
    "model.get_log()[:20]"
   ]
  },
  {
   "cell_type": "code",
   "execution_count": 33,
   "id": "4c5945ab",
   "metadata": {
    "execution": {
     "iopub.execute_input": "2022-02-21T16:23:56.984178Z",
     "iopub.status.busy": "2022-02-21T16:23:56.981524Z",
     "iopub.status.idle": "2022-02-21T16:23:56.986408Z",
     "shell.execute_reply": "2022-02-21T16:23:56.987088Z",
     "shell.execute_reply.started": "2022-02-21T14:25:39.710279Z"
    },
    "papermill": {
     "duration": 0.148111,
     "end_time": "2022-02-21T16:23:56.987258",
     "exception": false,
     "start_time": "2022-02-21T16:23:56.839147",
     "status": "completed"
    },
    "tags": []
   },
   "outputs": [
    {
     "data": {
      "text/plain": [
       "['0.383226 0.079950        28958        28958.0   2.0000   1.7172       18\\n',\n",
       " '0.383221 0.253258        28959        28959.0   0.0000   0.5032       26\\n',\n",
       " '\\n',\n",
       " 'finished run\\n',\n",
       " 'number of examples = 28959\\n',\n",
       " 'weighted example sum = 28959.000000\\n',\n",
       " 'weighted label sum = 29670.000000\\n',\n",
       " 'average loss = 0.383221\\n',\n",
       " 'best constant = 1.024552\\n',\n",
       " 'total feature number = 502816\\n']"
      ]
     },
     "execution_count": 33,
     "metadata": {},
     "output_type": "execute_result"
    }
   ],
   "source": [
    "model.get_log()[-10:]"
   ]
  },
  {
   "cell_type": "markdown",
   "id": "eee8c324",
   "metadata": {
    "papermill": {
     "duration": 0.138943,
     "end_time": "2022-02-21T16:23:57.264810",
     "exception": false,
     "start_time": "2022-02-21T16:23:57.125867",
     "status": "completed"
    },
    "tags": []
   },
   "source": [
    "## tr2"
   ]
  },
  {
   "cell_type": "code",
   "execution_count": 34,
   "id": "52393aba",
   "metadata": {
    "execution": {
     "iopub.execute_input": "2022-02-21T16:23:57.547703Z",
     "iopub.status.busy": "2022-02-21T16:23:57.547032Z",
     "iopub.status.idle": "2022-02-21T16:23:57.555323Z",
     "shell.execute_reply": "2022-02-21T16:23:57.555897Z",
     "shell.execute_reply.started": "2022-02-21T14:25:39.721707Z"
    },
    "papermill": {
     "duration": 0.153514,
     "end_time": "2022-02-21T16:23:57.556065",
     "exception": false,
     "start_time": "2022-02-21T16:23:57.402551",
     "status": "completed"
    },
    "tags": []
   },
   "outputs": [],
   "source": [
    "X = short_df['Tweet'] \n",
    "y = short_df['Sentiment_target']\n",
    "\n",
    "X_train, X_test, y_train, y_test = train_test_split(X, y, \n",
    "                                                    test_size=0.25,\n",
    "                                                    random_state = 0)"
   ]
  },
  {
   "cell_type": "code",
   "execution_count": 35,
   "id": "f437a050",
   "metadata": {
    "execution": {
     "iopub.execute_input": "2022-02-21T16:23:57.834414Z",
     "iopub.status.busy": "2022-02-21T16:23:57.833816Z",
     "iopub.status.idle": "2022-02-21T16:23:57.840738Z",
     "shell.execute_reply": "2022-02-21T16:23:57.841272Z",
     "shell.execute_reply.started": "2022-02-21T14:25:39.742138Z"
    },
    "papermill": {
     "duration": 0.147547,
     "end_time": "2022-02-21T16:23:57.841453",
     "exception": false,
     "start_time": "2022-02-21T16:23:57.693906",
     "status": "completed"
    },
    "tags": []
   },
   "outputs": [],
   "source": [
    "# Convert to Vowpal Wabbit Format\n",
    "def make_example(index):\n",
    "    example_string = \"\"\n",
    "    for i in range(y.shape[1]):\n",
    "        # cost for corresponding label => (1-label)\n",
    "        example_string += str(i+1) + \":\" + str(1.0 - y[index][i]) + \" \"\n",
    "    return example_string[:-1]\n",
    "def make_example_(index):\n",
    "    example_string = \"\"\n",
    "    # features for corresponding example\n",
    "    for feature in np.array(np.where(df.iloc[index] == 1))[0]:\n",
    "        example_string += str(feature) + \":1 \"\n",
    "    return example_string[:-1]\n",
    "def make_example_vw(index):\n",
    "    return make_example(index) + \" | \" + make_example_(index)"
   ]
  },
  {
   "cell_type": "code",
   "execution_count": 36,
   "id": "d9c6e711",
   "metadata": {
    "execution": {
     "iopub.execute_input": "2022-02-21T16:23:58.119522Z",
     "iopub.status.busy": "2022-02-21T16:23:58.118883Z",
     "iopub.status.idle": "2022-02-21T16:23:58.146913Z",
     "shell.execute_reply": "2022-02-21T16:23:58.147579Z",
     "shell.execute_reply.started": "2022-02-21T14:25:39.754825Z"
    },
    "papermill": {
     "duration": 0.169279,
     "end_time": "2022-02-21T16:23:58.147757",
     "exception": false,
     "start_time": "2022-02-21T16:23:57.978478",
     "status": "completed"
    },
    "tags": []
   },
   "outputs": [
    {
     "name": "stderr",
     "output_type": "stream",
     "text": [
      "/opt/conda/lib/python3.7/site-packages/ipykernel_launcher.py:2: DeprecationWarning: vw has been renamed to Workspace, the alias will be removed in the future\n",
      "  \n",
      "creating quadratic features for pairs: UA\n",
      "using no cache\n",
      "Reading datafile = stdin\n",
      "num sources = 1\n",
      "Num weight bits = 18\n",
      "learning rate = 0.5\n",
      "initial_t = 0\n",
      "power_t = 0.5\n",
      "Enabled reductions: gd, scorer-identity, csoaa\n",
      "Input label = cs\n",
      "Output pred = multiclass\n",
      "average  since         example        example  current  current  current\n",
      "loss     last          counter         weight    label  predict features\n"
     ]
    }
   ],
   "source": [
    "# Defining model to be learned\n",
    "model = pyvw.vw(\"--csoaa 159 -q UA\")"
   ]
  },
  {
   "cell_type": "code",
   "execution_count": 37,
   "id": "d5a7bd33",
   "metadata": {
    "execution": {
     "iopub.execute_input": "2022-02-21T16:23:58.428636Z",
     "iopub.status.busy": "2022-02-21T16:23:58.427959Z",
     "iopub.status.idle": "2022-02-21T16:23:58.430953Z",
     "shell.execute_reply": "2022-02-21T16:23:58.431584Z",
     "shell.execute_reply.started": "2022-02-21T14:25:39.787260Z"
    },
    "papermill": {
     "duration": 0.14463,
     "end_time": "2022-02-21T16:23:58.431756",
     "exception": false,
     "start_time": "2022-02-21T16:23:58.287126",
     "status": "completed"
    },
    "tags": []
   },
   "outputs": [],
   "source": [
    "# # Online Learning loop\n",
    "# for i in range(short_df.shape[0]):\n",
    "#     i = i%short_df.shape[0]\n",
    "#     train_example = make_example_vw(i)\n",
    "#     model.learn(train_example)\n"
   ]
  },
  {
   "cell_type": "code",
   "execution_count": 38,
   "id": "50a27aae",
   "metadata": {
    "execution": {
     "iopub.execute_input": "2022-02-21T16:23:58.710753Z",
     "iopub.status.busy": "2022-02-21T16:23:58.710079Z",
     "iopub.status.idle": "2022-02-21T16:23:58.713209Z",
     "shell.execute_reply": "2022-02-21T16:23:58.714039Z",
     "shell.execute_reply.started": "2022-02-21T14:25:39.792891Z"
    },
    "papermill": {
     "duration": 0.144745,
     "end_time": "2022-02-21T16:23:58.714239",
     "exception": false,
     "start_time": "2022-02-21T16:23:58.569494",
     "status": "completed"
    },
    "tags": []
   },
   "outputs": [],
   "source": [
    "# def prediction_accuracy(model):\n",
    "#     correct = 0\n",
    "#     for i in range(X_train.shape[0], short_df.shape[0]): # here iterating over test examples\n",
    "#         test_example = make_example_vw(i)\n",
    "#         ans = model.predict(test_example)\n",
    "#         if ans-1 in np.array(np.where(y[i] == 1))[0]:\n",
    "#             # as model predict 1 indexing classes, for check ans -1\n",
    "#             correct += 1\n",
    "#     return correct/y_test.shape[0]*100"
   ]
  },
  {
   "cell_type": "code",
   "execution_count": 39,
   "id": "964bc4e1",
   "metadata": {
    "execution": {
     "iopub.execute_input": "2022-02-21T16:23:58.994115Z",
     "iopub.status.busy": "2022-02-21T16:23:58.993478Z",
     "iopub.status.idle": "2022-02-21T16:23:58.996328Z",
     "shell.execute_reply": "2022-02-21T16:23:58.997008Z",
     "shell.execute_reply.started": "2022-02-21T14:25:39.810341Z"
    },
    "papermill": {
     "duration": 0.145207,
     "end_time": "2022-02-21T16:23:58.997184",
     "exception": false,
     "start_time": "2022-02-21T16:23:58.851977",
     "status": "completed"
    },
    "tags": []
   },
   "outputs": [],
   "source": [
    "# prediction_accuracy(model)"
   ]
  },
  {
   "cell_type": "markdown",
   "id": "bd053533",
   "metadata": {
    "papermill": {
     "duration": 0.138869,
     "end_time": "2022-02-21T16:23:59.274806",
     "exception": false,
     "start_time": "2022-02-21T16:23:59.135937",
     "status": "completed"
    },
    "tags": []
   },
   "source": [
    "## Text Preprocessing"
   ]
  },
  {
   "cell_type": "code",
   "execution_count": 40,
   "id": "65d78774",
   "metadata": {
    "execution": {
     "iopub.execute_input": "2022-02-21T16:23:59.557867Z",
     "iopub.status.busy": "2022-02-21T16:23:59.557195Z",
     "iopub.status.idle": "2022-02-21T16:24:01.856855Z",
     "shell.execute_reply": "2022-02-21T16:24:01.857739Z",
     "shell.execute_reply.started": "2022-02-21T14:25:39.823805Z"
    },
    "papermill": {
     "duration": 2.441865,
     "end_time": "2022-02-21T16:24:01.858016",
     "exception": false,
     "start_time": "2022-02-21T16:23:59.416151",
     "status": "completed"
    },
    "tags": []
   },
   "outputs": [
    {
     "name": "stdout",
     "output_type": "stream",
     "text": [
      "Each of the 28959 tweets is represented by 11492 features (TF-IDF score of unigrams and bigrams)\n"
     ]
    }
   ],
   "source": [
    "tfidf = TfidfVectorizer(sublinear_tf=True, min_df=5,\n",
    "                        ngram_range=(1, 2), \n",
    "                        stop_words='english')\n",
    "\n",
    "features = tfidf.fit_transform(short_df.Tweet).toarray()\n",
    "\n",
    "labels = short_df.Sentiment_target\n",
    "\n",
    "print(\"Each of the %d tweets is represented by %d features (TF-IDF score of unigrams and bigrams)\" %(features.shape))"
   ]
  },
  {
   "cell_type": "code",
   "execution_count": 41,
   "id": "e2079267",
   "metadata": {
    "execution": {
     "iopub.execute_input": "2022-02-21T16:24:02.145511Z",
     "iopub.status.busy": "2022-02-21T16:24:02.144768Z",
     "iopub.status.idle": "2022-02-21T16:24:02.151087Z",
     "shell.execute_reply": "2022-02-21T16:24:02.151662Z",
     "shell.execute_reply.started": "2022-02-21T14:25:42.379948Z"
    },
    "papermill": {
     "duration": 0.150636,
     "end_time": "2022-02-21T16:24:02.151833",
     "exception": false,
     "start_time": "2022-02-21T16:24:02.001197",
     "status": "completed"
    },
    "tags": []
   },
   "outputs": [
    {
     "data": {
      "text/plain": [
       "0        0\n",
       "1        2\n",
       "2        2\n",
       "3        1\n",
       "4        2\n",
       "        ..\n",
       "28954    2\n",
       "28955    2\n",
       "28956    1\n",
       "28957    2\n",
       "28958    0\n",
       "Name: Sentiment_target, Length: 28959, dtype: int64"
      ]
     },
     "execution_count": 41,
     "metadata": {},
     "output_type": "execute_result"
    }
   ],
   "source": [
    "labels"
   ]
  },
  {
   "cell_type": "code",
   "execution_count": 42,
   "id": "954ebc16",
   "metadata": {
    "execution": {
     "iopub.execute_input": "2022-02-21T16:24:02.434219Z",
     "iopub.status.busy": "2022-02-21T16:24:02.433597Z",
     "iopub.status.idle": "2022-02-21T16:24:02.439403Z",
     "shell.execute_reply": "2022-02-21T16:24:02.439958Z",
     "shell.execute_reply.started": "2022-02-21T14:25:42.390758Z"
    },
    "papermill": {
     "duration": 0.148032,
     "end_time": "2022-02-21T16:24:02.440135",
     "exception": false,
     "start_time": "2022-02-21T16:24:02.292103",
     "status": "completed"
    },
    "tags": []
   },
   "outputs": [
    {
     "data": {
      "text/plain": [
       "array([[0., 0., 0., ..., 0., 0., 0.],\n",
       "       [0., 0., 0., ..., 0., 0., 0.],\n",
       "       [0., 0., 0., ..., 0., 0., 0.],\n",
       "       ...,\n",
       "       [0., 0., 0., ..., 0., 0., 0.],\n",
       "       [0., 0., 0., ..., 0., 0., 0.],\n",
       "       [0., 0., 0., ..., 0., 0., 0.]])"
      ]
     },
     "execution_count": 42,
     "metadata": {},
     "output_type": "execute_result"
    }
   ],
   "source": [
    "features"
   ]
  },
  {
   "cell_type": "markdown",
   "id": "7675e7f9",
   "metadata": {
    "papermill": {
     "duration": 0.138078,
     "end_time": "2022-02-21T16:24:02.718802",
     "exception": false,
     "start_time": "2022-02-21T16:24:02.580724",
     "status": "completed"
    },
    "tags": []
   },
   "source": [
    "## Entity OneHotEncoding"
   ]
  },
  {
   "cell_type": "code",
   "execution_count": 43,
   "id": "7f2817b8",
   "metadata": {
    "execution": {
     "iopub.execute_input": "2022-02-21T16:24:02.999211Z",
     "iopub.status.busy": "2022-02-21T16:24:02.998535Z",
     "iopub.status.idle": "2022-02-21T16:24:03.011089Z",
     "shell.execute_reply": "2022-02-21T16:24:03.011596Z",
     "shell.execute_reply.started": "2022-02-21T14:25:42.405727Z"
    },
    "papermill": {
     "duration": 0.154643,
     "end_time": "2022-02-21T16:24:03.011773",
     "exception": false,
     "start_time": "2022-02-21T16:24:02.857130",
     "status": "completed"
    },
    "tags": []
   },
   "outputs": [
    {
     "data": {
      "text/html": [
       "<div>\n",
       "<style scoped>\n",
       "    .dataframe tbody tr th:only-of-type {\n",
       "        vertical-align: middle;\n",
       "    }\n",
       "\n",
       "    .dataframe tbody tr th {\n",
       "        vertical-align: top;\n",
       "    }\n",
       "\n",
       "    .dataframe thead th {\n",
       "        text-align: right;\n",
       "    }\n",
       "</style>\n",
       "<table border=\"1\" class=\"dataframe\">\n",
       "  <thead>\n",
       "    <tr style=\"text-align: right;\">\n",
       "      <th></th>\n",
       "      <th>Sentiment</th>\n",
       "      <th>Tweet</th>\n",
       "      <th>Sentiment_target</th>\n",
       "    </tr>\n",
       "  </thead>\n",
       "  <tbody>\n",
       "    <tr>\n",
       "      <th>0</th>\n",
       "      <td>Positive</td>\n",
       "      <td>Are going pretend @ Ubisoft forget 're ... You...</td>\n",
       "      <td>0</td>\n",
       "    </tr>\n",
       "    <tr>\n",
       "      <th>1</th>\n",
       "      <td>Negative</td>\n",
       "      <td>The problem even racism , 's direct abuse powe...</td>\n",
       "      <td>2</td>\n",
       "    </tr>\n",
       "    <tr>\n",
       "      <th>2</th>\n",
       "      <td>Negative</td>\n",
       "      <td>Hey @ EAMaddenNFL else update coming ? A lot g...</td>\n",
       "      <td>2</td>\n",
       "    </tr>\n",
       "    <tr>\n",
       "      <th>3</th>\n",
       "      <td>Irrelevant</td>\n",
       "      <td>Can Mingyu also play PUBG huhuhu I want polaro...</td>\n",
       "      <td>1</td>\n",
       "    </tr>\n",
       "    <tr>\n",
       "      <th>4</th>\n",
       "      <td>Negative</td>\n",
       "      <td>@ BlizzardCSEU_EN Any logical reason hearthsto...</td>\n",
       "      <td>2</td>\n",
       "    </tr>\n",
       "    <tr>\n",
       "      <th>...</th>\n",
       "      <td>...</td>\n",
       "      <td>...</td>\n",
       "      <td>...</td>\n",
       "    </tr>\n",
       "    <tr>\n",
       "      <th>28954</th>\n",
       "      <td>Negative</td>\n",
       "      <td>The Wtf ? ?</td>\n",
       "      <td>2</td>\n",
       "    </tr>\n",
       "    <tr>\n",
       "      <th>28955</th>\n",
       "      <td>Negative</td>\n",
       "      <td>ive enough sexist bullshit</td>\n",
       "      <td>2</td>\n",
       "    </tr>\n",
       "    <tr>\n",
       "      <th>28956</th>\n",
       "      <td>Neutral</td>\n",
       "      <td>I , , humbly conclude , toast , Nikolas Alexan...</td>\n",
       "      <td>1</td>\n",
       "    </tr>\n",
       "    <tr>\n",
       "      <th>28957</th>\n",
       "      <td>Negative</td>\n",
       "      <td>This proof organizations . . BILITY WITHDRAWS ...</td>\n",
       "      <td>2</td>\n",
       "    </tr>\n",
       "    <tr>\n",
       "      <th>28958</th>\n",
       "      <td>Positive</td>\n",
       "      <td>@ FallGuysGame Your game cool pontential , ’ t...</td>\n",
       "      <td>0</td>\n",
       "    </tr>\n",
       "  </tbody>\n",
       "</table>\n",
       "<p>28959 rows × 3 columns</p>\n",
       "</div>"
      ],
      "text/plain": [
       "        Sentiment                                              Tweet  \\\n",
       "0        Positive  Are going pretend @ Ubisoft forget 're ... You...   \n",
       "1        Negative  The problem even racism , 's direct abuse powe...   \n",
       "2        Negative  Hey @ EAMaddenNFL else update coming ? A lot g...   \n",
       "3      Irrelevant  Can Mingyu also play PUBG huhuhu I want polaro...   \n",
       "4        Negative  @ BlizzardCSEU_EN Any logical reason hearthsto...   \n",
       "...           ...                                                ...   \n",
       "28954    Negative                                        The Wtf ? ?   \n",
       "28955    Negative                         ive enough sexist bullshit   \n",
       "28956     Neutral  I , , humbly conclude , toast , Nikolas Alexan...   \n",
       "28957    Negative  This proof organizations . . BILITY WITHDRAWS ...   \n",
       "28958    Positive  @ FallGuysGame Your game cool pontential , ’ t...   \n",
       "\n",
       "       Sentiment_target  \n",
       "0                     0  \n",
       "1                     2  \n",
       "2                     2  \n",
       "3                     1  \n",
       "4                     2  \n",
       "...                 ...  \n",
       "28954                 2  \n",
       "28955                 2  \n",
       "28956                 1  \n",
       "28957                 2  \n",
       "28958                 0  \n",
       "\n",
       "[28959 rows x 3 columns]"
      ]
     },
     "execution_count": 43,
     "metadata": {},
     "output_type": "execute_result"
    }
   ],
   "source": [
    "short_df"
   ]
  },
  {
   "cell_type": "code",
   "execution_count": 44,
   "id": "899d83d8",
   "metadata": {
    "execution": {
     "iopub.execute_input": "2022-02-21T16:24:03.296815Z",
     "iopub.status.busy": "2022-02-21T16:24:03.296165Z",
     "iopub.status.idle": "2022-02-21T16:24:03.297949Z",
     "shell.execute_reply": "2022-02-21T16:24:03.298448Z",
     "shell.execute_reply.started": "2022-02-21T14:25:42.427253Z"
    },
    "papermill": {
     "duration": 0.147212,
     "end_time": "2022-02-21T16:24:03.298606",
     "exception": false,
     "start_time": "2022-02-21T16:24:03.151394",
     "status": "completed"
    },
    "tags": []
   },
   "outputs": [],
   "source": [
    "# enc=OneHotEncoder(handle_unknown='ignore')\n",
    "# df_enc = pd.DataFrame(enc.fit_transform(short_df[['Entity']]).toarray())"
   ]
  },
  {
   "cell_type": "code",
   "execution_count": 45,
   "id": "726c9d83",
   "metadata": {
    "execution": {
     "iopub.execute_input": "2022-02-21T16:24:03.582149Z",
     "iopub.status.busy": "2022-02-21T16:24:03.580797Z",
     "iopub.status.idle": "2022-02-21T16:24:03.585163Z",
     "shell.execute_reply": "2022-02-21T16:24:03.584637Z",
     "shell.execute_reply.started": "2022-02-21T14:25:42.439417Z"
    },
    "papermill": {
     "duration": 0.146909,
     "end_time": "2022-02-21T16:24:03.585314",
     "exception": false,
     "start_time": "2022-02-21T16:24:03.438405",
     "status": "completed"
    },
    "tags": []
   },
   "outputs": [],
   "source": [
    "# df_enc.columns = np.array([i[3:] for i in list(enc.get_feature_names())])\n",
    "# df_enc"
   ]
  },
  {
   "cell_type": "code",
   "execution_count": 46,
   "id": "40c5f5a8",
   "metadata": {
    "execution": {
     "iopub.execute_input": "2022-02-21T16:24:03.867711Z",
     "iopub.status.busy": "2022-02-21T16:24:03.866764Z",
     "iopub.status.idle": "2022-02-21T16:24:03.869953Z",
     "shell.execute_reply": "2022-02-21T16:24:03.870535Z",
     "shell.execute_reply.started": "2022-02-21T14:25:42.453408Z"
    },
    "papermill": {
     "duration": 0.146211,
     "end_time": "2022-02-21T16:24:03.870705",
     "exception": false,
     "start_time": "2022-02-21T16:24:03.724494",
     "status": "completed"
    },
    "tags": []
   },
   "outputs": [],
   "source": [
    "# short_df = short_df.join(df_enc)\n",
    "# short_df"
   ]
  },
  {
   "cell_type": "code",
   "execution_count": 47,
   "id": "94c6ef25",
   "metadata": {
    "execution": {
     "iopub.execute_input": "2022-02-21T16:24:04.153138Z",
     "iopub.status.busy": "2022-02-21T16:24:04.152173Z",
     "iopub.status.idle": "2022-02-21T16:24:04.155581Z",
     "shell.execute_reply": "2022-02-21T16:24:04.156086Z",
     "shell.execute_reply.started": "2022-02-21T14:25:42.465017Z"
    },
    "papermill": {
     "duration": 0.146947,
     "end_time": "2022-02-21T16:24:04.156241",
     "exception": false,
     "start_time": "2022-02-21T16:24:04.009294",
     "status": "completed"
    },
    "tags": []
   },
   "outputs": [],
   "source": [
    "# np.array(df_enc)"
   ]
  },
  {
   "cell_type": "code",
   "execution_count": 48,
   "id": "81d9d4db",
   "metadata": {
    "execution": {
     "iopub.execute_input": "2022-02-21T16:24:04.443363Z",
     "iopub.status.busy": "2022-02-21T16:24:04.442415Z",
     "iopub.status.idle": "2022-02-21T16:24:04.445648Z",
     "shell.execute_reply": "2022-02-21T16:24:04.446225Z",
     "shell.execute_reply.started": "2022-02-21T14:25:42.477268Z"
    },
    "papermill": {
     "duration": 0.147616,
     "end_time": "2022-02-21T16:24:04.446379",
     "exception": false,
     "start_time": "2022-02-21T16:24:04.298763",
     "status": "completed"
    },
    "tags": []
   },
   "outputs": [],
   "source": [
    "# Adding 'Entity' hot-encoded columns as new features\n",
    "# features = np.append( features, np.array(df_enc), axis = 1)\n",
    "# features"
   ]
  },
  {
   "cell_type": "markdown",
   "id": "d39595e8",
   "metadata": {
    "papermill": {
     "duration": 0.138835,
     "end_time": "2022-02-21T16:24:04.724716",
     "exception": false,
     "start_time": "2022-02-21T16:24:04.585881",
     "status": "completed"
    },
    "tags": []
   },
   "source": [
    "## Split data"
   ]
  },
  {
   "cell_type": "code",
   "execution_count": 49,
   "id": "ba57f81d",
   "metadata": {
    "execution": {
     "iopub.execute_input": "2022-02-21T16:24:05.012081Z",
     "iopub.status.busy": "2022-02-21T16:24:05.011398Z",
     "iopub.status.idle": "2022-02-21T16:24:05.019898Z",
     "shell.execute_reply": "2022-02-21T16:24:05.020453Z",
     "shell.execute_reply.started": "2022-02-21T14:25:42.490744Z"
    },
    "papermill": {
     "duration": 0.155551,
     "end_time": "2022-02-21T16:24:05.020633",
     "exception": false,
     "start_time": "2022-02-21T16:24:04.865082",
     "status": "completed"
    },
    "tags": []
   },
   "outputs": [],
   "source": [
    "X = short_df['Tweet'] \n",
    "y = short_df['Sentiment_target']\n",
    "\n",
    "X_train, X_test, y_train, y_test = train_test_split(X, y, \n",
    "                                                    test_size=0.25,\n",
    "                                                    random_state = 0)"
   ]
  },
  {
   "cell_type": "markdown",
   "id": "32df7c14",
   "metadata": {
    "papermill": {
     "duration": 0.141064,
     "end_time": "2022-02-21T16:24:05.301473",
     "exception": false,
     "start_time": "2022-02-21T16:24:05.160409",
     "status": "completed"
    },
    "tags": []
   },
   "source": [
    "## Building models: RandomForest, LinearSVM, MultinomialNB, LogRegression"
   ]
  },
  {
   "cell_type": "code",
   "execution_count": 50,
   "id": "773d774f",
   "metadata": {
    "execution": {
     "iopub.execute_input": "2022-02-21T16:24:05.586874Z",
     "iopub.status.busy": "2022-02-21T16:24:05.586241Z",
     "iopub.status.idle": "2022-02-21T16:24:05.588269Z",
     "shell.execute_reply": "2022-02-21T16:24:05.588782Z",
     "shell.execute_reply.started": "2022-02-21T14:25:42.509119Z"
    },
    "papermill": {
     "duration": 0.147964,
     "end_time": "2022-02-21T16:24:05.588947",
     "exception": false,
     "start_time": "2022-02-21T16:24:05.440983",
     "status": "completed"
    },
    "tags": []
   },
   "outputs": [],
   "source": [
    "models = [\n",
    "    RandomForestClassifier(n_estimators=100, max_depth=5, random_state=0, verbose=1),\n",
    "    LinearSVC(verbose=1),\n",
    "    MultinomialNB(),\n",
    "    LogisticRegression(random_state=0,verbose=1),\n",
    "]"
   ]
  },
  {
   "cell_type": "code",
   "execution_count": 51,
   "id": "a158feb9",
   "metadata": {
    "execution": {
     "iopub.execute_input": "2022-02-21T16:24:05.904025Z",
     "iopub.status.busy": "2022-02-21T16:24:05.903053Z",
     "iopub.status.idle": "2022-02-21T16:34:07.078801Z",
     "shell.execute_reply": "2022-02-21T16:34:07.073192Z",
     "shell.execute_reply.started": "2022-02-21T14:25:42.517271Z"
    },
    "papermill": {
     "duration": 601.347975,
     "end_time": "2022-02-21T16:34:07.079251",
     "exception": false,
     "start_time": "2022-02-21T16:24:05.731276",
     "status": "completed"
    },
    "tags": []
   },
   "outputs": [
    {
     "data": {
      "application/vnd.jupyter.widget-view+json": {
       "model_id": "399257840ecc4d8b92b1afbab56362e4",
       "version_major": 2,
       "version_minor": 0
      },
      "text/plain": [
       "  0%|          | 0/4 [00:00<?, ?it/s]"
      ]
     },
     "metadata": {},
     "output_type": "display_data"
    },
    {
     "name": "stderr",
     "output_type": "stream",
     "text": [
      "\n",
      "finished run\n",
      "number of examples = 0\n",
      "weighted example sum = 0.000000\n",
      "weighted label sum = 0.000000\n",
      "average loss = n.a.\n",
      "total feature number = 0\n",
      "[Parallel(n_jobs=1)]: Using backend SequentialBackend with 1 concurrent workers.\n",
      "[Parallel(n_jobs=1)]: Done 100 out of 100 | elapsed:   12.5s finished\n",
      "[Parallel(n_jobs=1)]: Using backend SequentialBackend with 1 concurrent workers.\n",
      "[Parallel(n_jobs=1)]: Done 100 out of 100 | elapsed:    0.1s finished\n",
      "[Parallel(n_jobs=1)]: Using backend SequentialBackend with 1 concurrent workers.\n",
      "[Parallel(n_jobs=1)]: Done 100 out of 100 | elapsed:   11.4s finished\n",
      "[Parallel(n_jobs=1)]: Using backend SequentialBackend with 1 concurrent workers.\n",
      "[Parallel(n_jobs=1)]: Done 100 out of 100 | elapsed:    0.1s finished\n",
      "[Parallel(n_jobs=1)]: Using backend SequentialBackend with 1 concurrent workers.\n",
      "[Parallel(n_jobs=1)]: Done 100 out of 100 | elapsed:   11.0s finished\n",
      "[Parallel(n_jobs=1)]: Using backend SequentialBackend with 1 concurrent workers.\n",
      "[Parallel(n_jobs=1)]: Done 100 out of 100 | elapsed:    0.1s finished\n",
      "[Parallel(n_jobs=1)]: Using backend SequentialBackend with 1 concurrent workers.\n",
      "[Parallel(n_jobs=1)]: Done 100 out of 100 | elapsed:   11.8s finished\n",
      "[Parallel(n_jobs=1)]: Using backend SequentialBackend with 1 concurrent workers.\n",
      "[Parallel(n_jobs=1)]: Done 100 out of 100 | elapsed:    0.1s finished\n",
      "[Parallel(n_jobs=1)]: Using backend SequentialBackend with 1 concurrent workers.\n",
      "[Parallel(n_jobs=1)]: Done 100 out of 100 | elapsed:   11.8s finished\n",
      "[Parallel(n_jobs=1)]: Using backend SequentialBackend with 1 concurrent workers.\n",
      "[Parallel(n_jobs=1)]: Done 100 out of 100 | elapsed:    0.1s finished\n"
     ]
    },
    {
     "name": "stdout",
     "output_type": "stream",
     "text": [
      "[LibLinear]....*.\n",
      "optimization finished, #iter = 50\n",
      "Objective value = -6920.628159\n",
      "nSV = 15800\n",
      ".....*\n",
      "optimization finished, #iter = 51\n",
      "Objective value = -8859.649296\n",
      "nSV = 18366\n",
      "....*.\n",
      "optimization finished, #iter = 50\n",
      "Objective value = -6321.932667\n",
      "nSV = 15195\n",
      "[LibLinear].....*\n",
      "optimization finished, #iter = 51\n",
      "Objective value = -7064.433429\n",
      "nSV = 15947\n",
      ".....*\n",
      "optimization finished, #iter = 51\n",
      "Objective value = -8935.003062\n",
      "nSV = 18488\n",
      "....*.\n",
      "optimization finished, #iter = 50\n",
      "Objective value = -6336.421919\n",
      "nSV = 15157\n",
      "[LibLinear].....*\n",
      "optimization finished, #iter = 51\n",
      "Objective value = -7068.969570\n",
      "nSV = 15959\n",
      ".....*\n",
      "optimization finished, #iter = 51\n",
      "Objective value = -8983.684604\n",
      "nSV = 18486\n",
      "....*.\n",
      "optimization finished, #iter = 50\n",
      "Objective value = -6435.901061\n",
      "nSV = 15283\n",
      "[LibLinear]....*.\n",
      "optimization finished, #iter = 50\n",
      "Objective value = -7076.292425\n",
      "nSV = 15950\n",
      ".....*\n",
      "optimization finished, #iter = 51\n",
      "Objective value = -8970.202090\n",
      "nSV = 18456\n",
      "....*.\n",
      "optimization finished, #iter = 50\n",
      "Objective value = -6413.130651\n",
      "nSV = 15302\n",
      "[LibLinear].....*\n",
      "optimization finished, #iter = 51\n",
      "Objective value = -7141.340683\n",
      "nSV = 16015\n",
      ".....*\n",
      "optimization finished, #iter = 51\n",
      "Objective value = -8985.125937\n",
      "nSV = 18485\n",
      "....*.\n",
      "optimization finished, #iter = 50\n",
      "Objective value = -6432.996753\n",
      "nSV = 15367\n"
     ]
    },
    {
     "name": "stderr",
     "output_type": "stream",
     "text": [
      "[Parallel(n_jobs=1)]: Using backend SequentialBackend with 1 concurrent workers.\n"
     ]
    },
    {
     "name": "stdout",
     "output_type": "stream",
     "text": [
      "RUNNING THE L-BFGS-B CODE\n",
      "\n",
      "           * * *\n",
      "\n",
      "Machine precision = 2.220D-16\n",
      " N =        34479     M =           10\n",
      "\n",
      "At X0         0 variables are exactly at the bounds\n",
      "\n",
      "At iterate    0    f=  2.54516D+04    |proj g|=  2.03467D+03\n"
     ]
    },
    {
     "name": "stderr",
     "output_type": "stream",
     "text": [
      " This problem is unconstrained.\n"
     ]
    },
    {
     "name": "stdout",
     "output_type": "stream",
     "text": [
      "\n",
      "At iterate   50    f=  1.50221D+04    |proj g|=  4.72492D+01\n",
      "\n",
      "At iterate  100    f=  1.48649D+04    |proj g|=  9.53320D+00\n",
      "\n",
      "           * * *\n",
      "\n",
      "Tit   = total number of iterations\n",
      "Tnf   = total number of function evaluations\n",
      "Tnint = total number of segments explored during Cauchy searches\n",
      "Skip  = number of BFGS updates skipped\n",
      "Nact  = number of active bounds at final generalized Cauchy point\n",
      "Projg = norm of the final projected gradient\n",
      "F     = final function value\n",
      "\n",
      "           * * *\n",
      "\n",
      "   N    Tit     Tnf  Tnint  Skip  Nact     Projg        F\n",
      "34479    100    114      1     0     0   9.533D+00   1.486D+04\n",
      "  F =   14864.899611787689     \n",
      "\n",
      "STOP: TOTAL NO. of ITERATIONS REACHED LIMIT                 \n"
     ]
    },
    {
     "name": "stderr",
     "output_type": "stream",
     "text": [
      "/opt/conda/lib/python3.7/site-packages/sklearn/model_selection/_validation.py:552: FitFailedWarning: Estimator fit failed. The score on this train-test partition for these parameters will be set to nan. Details: \n",
      "Traceback (most recent call last):\n",
      "  File \"/opt/conda/lib/python3.7/site-packages/sklearn/model_selection/_validation.py\", line 531, in _fit_and_score\n",
      "    estimator.fit(X_train, y_train, **fit_params)\n",
      "  File \"/opt/conda/lib/python3.7/site-packages/sklearn/linear_model/_logistic.py\", line 1417, in fit\n",
      "    for class_, warm_start_coef_ in zip(classes_, warm_start_coef))\n",
      "  File \"/opt/conda/lib/python3.7/site-packages/joblib/parallel.py\", line 1043, in __call__\n",
      "    if self.dispatch_one_batch(iterator):\n",
      "  File \"/opt/conda/lib/python3.7/site-packages/joblib/parallel.py\", line 861, in dispatch_one_batch\n",
      "    self._dispatch(tasks)\n",
      "  File \"/opt/conda/lib/python3.7/site-packages/joblib/parallel.py\", line 779, in _dispatch\n",
      "    job = self._backend.apply_async(batch, callback=cb)\n",
      "  File \"/opt/conda/lib/python3.7/site-packages/joblib/_parallel_backends.py\", line 208, in apply_async\n",
      "    result = ImmediateResult(func)\n",
      "  File \"/opt/conda/lib/python3.7/site-packages/joblib/_parallel_backends.py\", line 572, in __init__\n",
      "    self.results = batch()\n",
      "  File \"/opt/conda/lib/python3.7/site-packages/joblib/parallel.py\", line 263, in __call__\n",
      "    for func, args, kwargs in self.items]\n",
      "  File \"/opt/conda/lib/python3.7/site-packages/joblib/parallel.py\", line 263, in <listcomp>\n",
      "    for func, args, kwargs in self.items]\n",
      "  File \"/opt/conda/lib/python3.7/site-packages/sklearn/linear_model/_logistic.py\", line 764, in _logistic_regression_path\n",
      "    extra_warning_msg=_LOGISTIC_SOLVER_CONVERGENCE_MSG)\n",
      "  File \"/opt/conda/lib/python3.7/site-packages/sklearn/utils/optimize.py\", line 243, in _check_optimize_result\n",
      "    ).format(solver, result.status, result.message.decode(\"latin1\"))\n",
      "AttributeError: 'str' object has no attribute 'decode'\n",
      "\n",
      "  FitFailedWarning)\n",
      "[Parallel(n_jobs=1)]: Using backend SequentialBackend with 1 concurrent workers.\n"
     ]
    },
    {
     "name": "stdout",
     "output_type": "stream",
     "text": [
      "RUNNING THE L-BFGS-B CODE\n",
      "\n",
      "           * * *\n",
      "\n",
      "Machine precision = 2.220D-16\n",
      " N =        34479     M =           10\n",
      "\n",
      "At X0         0 variables are exactly at the bounds\n",
      "\n",
      "At iterate    0    f=  2.54516D+04    |proj g|=  2.03467D+03\n"
     ]
    },
    {
     "name": "stderr",
     "output_type": "stream",
     "text": [
      " This problem is unconstrained.\n"
     ]
    },
    {
     "name": "stdout",
     "output_type": "stream",
     "text": [
      "\n",
      "At iterate   50    f=  1.50029D+04    |proj g|=  9.69242D+01\n",
      "\n",
      "At iterate  100    f=  1.49249D+04    |proj g|=  1.39862D+01\n",
      "\n",
      "           * * *\n",
      "\n",
      "Tit   = total number of iterations\n",
      "Tnf   = total number of function evaluations\n",
      "Tnint = total number of segments explored during Cauchy searches\n",
      "Skip  = number of BFGS updates skipped\n",
      "Nact  = number of active bounds at final generalized Cauchy point\n",
      "Projg = norm of the final projected gradient\n",
      "F     = final function value\n",
      "\n",
      "           * * *\n",
      "\n",
      "   N    Tit     Tnf  Tnint  Skip  Nact     Projg        F\n",
      "34479    100    110      1     0     0   1.399D+01   1.492D+04\n",
      "  F =   14924.904493895732     \n",
      "\n",
      "STOP: TOTAL NO. of ITERATIONS REACHED LIMIT                 \n"
     ]
    },
    {
     "name": "stderr",
     "output_type": "stream",
     "text": [
      "/opt/conda/lib/python3.7/site-packages/sklearn/model_selection/_validation.py:552: FitFailedWarning: Estimator fit failed. The score on this train-test partition for these parameters will be set to nan. Details: \n",
      "Traceback (most recent call last):\n",
      "  File \"/opt/conda/lib/python3.7/site-packages/sklearn/model_selection/_validation.py\", line 531, in _fit_and_score\n",
      "    estimator.fit(X_train, y_train, **fit_params)\n",
      "  File \"/opt/conda/lib/python3.7/site-packages/sklearn/linear_model/_logistic.py\", line 1417, in fit\n",
      "    for class_, warm_start_coef_ in zip(classes_, warm_start_coef))\n",
      "  File \"/opt/conda/lib/python3.7/site-packages/joblib/parallel.py\", line 1043, in __call__\n",
      "    if self.dispatch_one_batch(iterator):\n",
      "  File \"/opt/conda/lib/python3.7/site-packages/joblib/parallel.py\", line 861, in dispatch_one_batch\n",
      "    self._dispatch(tasks)\n",
      "  File \"/opt/conda/lib/python3.7/site-packages/joblib/parallel.py\", line 779, in _dispatch\n",
      "    job = self._backend.apply_async(batch, callback=cb)\n",
      "  File \"/opt/conda/lib/python3.7/site-packages/joblib/_parallel_backends.py\", line 208, in apply_async\n",
      "    result = ImmediateResult(func)\n",
      "  File \"/opt/conda/lib/python3.7/site-packages/joblib/_parallel_backends.py\", line 572, in __init__\n",
      "    self.results = batch()\n",
      "  File \"/opt/conda/lib/python3.7/site-packages/joblib/parallel.py\", line 263, in __call__\n",
      "    for func, args, kwargs in self.items]\n",
      "  File \"/opt/conda/lib/python3.7/site-packages/joblib/parallel.py\", line 263, in <listcomp>\n",
      "    for func, args, kwargs in self.items]\n",
      "  File \"/opt/conda/lib/python3.7/site-packages/sklearn/linear_model/_logistic.py\", line 764, in _logistic_regression_path\n",
      "    extra_warning_msg=_LOGISTIC_SOLVER_CONVERGENCE_MSG)\n",
      "  File \"/opt/conda/lib/python3.7/site-packages/sklearn/utils/optimize.py\", line 243, in _check_optimize_result\n",
      "    ).format(solver, result.status, result.message.decode(\"latin1\"))\n",
      "AttributeError: 'str' object has no attribute 'decode'\n",
      "\n",
      "  FitFailedWarning)\n",
      "[Parallel(n_jobs=1)]: Using backend SequentialBackend with 1 concurrent workers.\n",
      " This problem is unconstrained.\n"
     ]
    },
    {
     "name": "stdout",
     "output_type": "stream",
     "text": [
      "RUNNING THE L-BFGS-B CODE\n",
      "\n",
      "           * * *\n",
      "\n",
      "Machine precision = 2.220D-16\n",
      " N =        34479     M =           10\n",
      "\n",
      "At X0         0 variables are exactly at the bounds\n",
      "\n",
      "At iterate    0    f=  2.54516D+04    |proj g|=  2.03467D+03\n",
      "\n",
      "At iterate   50    f=  1.51541D+04    |proj g|=  1.41722D+02\n",
      "\n",
      "At iterate  100    f=  1.50046D+04    |proj g|=  1.20558D+01\n",
      "\n",
      "           * * *\n",
      "\n",
      "Tit   = total number of iterations\n",
      "Tnf   = total number of function evaluations\n",
      "Tnint = total number of segments explored during Cauchy searches\n",
      "Skip  = number of BFGS updates skipped\n",
      "Nact  = number of active bounds at final generalized Cauchy point\n",
      "Projg = norm of the final projected gradient\n",
      "F     = final function value\n",
      "\n",
      "           * * *\n",
      "\n",
      "   N    Tit     Tnf  Tnint  Skip  Nact     Projg        F\n",
      "34479    100    115      1     0     0   1.206D+01   1.500D+04\n",
      "  F =   15004.604611696264     \n",
      "\n",
      "STOP: TOTAL NO. of ITERATIONS REACHED LIMIT                 \n"
     ]
    },
    {
     "name": "stderr",
     "output_type": "stream",
     "text": [
      "/opt/conda/lib/python3.7/site-packages/sklearn/model_selection/_validation.py:552: FitFailedWarning: Estimator fit failed. The score on this train-test partition for these parameters will be set to nan. Details: \n",
      "Traceback (most recent call last):\n",
      "  File \"/opt/conda/lib/python3.7/site-packages/sklearn/model_selection/_validation.py\", line 531, in _fit_and_score\n",
      "    estimator.fit(X_train, y_train, **fit_params)\n",
      "  File \"/opt/conda/lib/python3.7/site-packages/sklearn/linear_model/_logistic.py\", line 1417, in fit\n",
      "    for class_, warm_start_coef_ in zip(classes_, warm_start_coef))\n",
      "  File \"/opt/conda/lib/python3.7/site-packages/joblib/parallel.py\", line 1043, in __call__\n",
      "    if self.dispatch_one_batch(iterator):\n",
      "  File \"/opt/conda/lib/python3.7/site-packages/joblib/parallel.py\", line 861, in dispatch_one_batch\n",
      "    self._dispatch(tasks)\n",
      "  File \"/opt/conda/lib/python3.7/site-packages/joblib/parallel.py\", line 779, in _dispatch\n",
      "    job = self._backend.apply_async(batch, callback=cb)\n",
      "  File \"/opt/conda/lib/python3.7/site-packages/joblib/_parallel_backends.py\", line 208, in apply_async\n",
      "    result = ImmediateResult(func)\n",
      "  File \"/opt/conda/lib/python3.7/site-packages/joblib/_parallel_backends.py\", line 572, in __init__\n",
      "    self.results = batch()\n",
      "  File \"/opt/conda/lib/python3.7/site-packages/joblib/parallel.py\", line 263, in __call__\n",
      "    for func, args, kwargs in self.items]\n",
      "  File \"/opt/conda/lib/python3.7/site-packages/joblib/parallel.py\", line 263, in <listcomp>\n",
      "    for func, args, kwargs in self.items]\n",
      "  File \"/opt/conda/lib/python3.7/site-packages/sklearn/linear_model/_logistic.py\", line 764, in _logistic_regression_path\n",
      "    extra_warning_msg=_LOGISTIC_SOLVER_CONVERGENCE_MSG)\n",
      "  File \"/opt/conda/lib/python3.7/site-packages/sklearn/utils/optimize.py\", line 243, in _check_optimize_result\n",
      "    ).format(solver, result.status, result.message.decode(\"latin1\"))\n",
      "AttributeError: 'str' object has no attribute 'decode'\n",
      "\n",
      "  FitFailedWarning)\n",
      "[Parallel(n_jobs=1)]: Using backend SequentialBackend with 1 concurrent workers.\n"
     ]
    },
    {
     "name": "stdout",
     "output_type": "stream",
     "text": [
      "RUNNING THE L-BFGS-B CODE\n",
      "\n",
      "           * * *\n",
      "\n",
      "Machine precision = 2.220D-16\n",
      " N =        34479     M =           10\n",
      "\n",
      "At X0         0 variables are exactly at the bounds\n",
      "\n",
      "At iterate    0    f=  2.54516D+04    |proj g|=  2.03367D+03\n"
     ]
    },
    {
     "name": "stderr",
     "output_type": "stream",
     "text": [
      " This problem is unconstrained.\n"
     ]
    },
    {
     "name": "stdout",
     "output_type": "stream",
     "text": [
      "\n",
      "At iterate   50    f=  1.50512D+04    |proj g|=  5.45628D+01\n",
      "\n",
      "At iterate  100    f=  1.49965D+04    |proj g|=  3.00033D+00\n",
      "\n",
      "           * * *\n",
      "\n",
      "Tit   = total number of iterations\n",
      "Tnf   = total number of function evaluations\n",
      "Tnint = total number of segments explored during Cauchy searches\n",
      "Skip  = number of BFGS updates skipped\n",
      "Nact  = number of active bounds at final generalized Cauchy point\n",
      "Projg = norm of the final projected gradient\n",
      "F     = final function value\n",
      "\n",
      "           * * *\n",
      "\n",
      "   N    Tit     Tnf  Tnint  Skip  Nact     Projg        F\n",
      "34479    100    116      1     0     0   3.000D+00   1.500D+04\n",
      "  F =   14996.498109655409     \n",
      "\n",
      "STOP: TOTAL NO. of ITERATIONS REACHED LIMIT                 \n"
     ]
    },
    {
     "name": "stderr",
     "output_type": "stream",
     "text": [
      "/opt/conda/lib/python3.7/site-packages/sklearn/model_selection/_validation.py:552: FitFailedWarning: Estimator fit failed. The score on this train-test partition for these parameters will be set to nan. Details: \n",
      "Traceback (most recent call last):\n",
      "  File \"/opt/conda/lib/python3.7/site-packages/sklearn/model_selection/_validation.py\", line 531, in _fit_and_score\n",
      "    estimator.fit(X_train, y_train, **fit_params)\n",
      "  File \"/opt/conda/lib/python3.7/site-packages/sklearn/linear_model/_logistic.py\", line 1417, in fit\n",
      "    for class_, warm_start_coef_ in zip(classes_, warm_start_coef))\n",
      "  File \"/opt/conda/lib/python3.7/site-packages/joblib/parallel.py\", line 1043, in __call__\n",
      "    if self.dispatch_one_batch(iterator):\n",
      "  File \"/opt/conda/lib/python3.7/site-packages/joblib/parallel.py\", line 861, in dispatch_one_batch\n",
      "    self._dispatch(tasks)\n",
      "  File \"/opt/conda/lib/python3.7/site-packages/joblib/parallel.py\", line 779, in _dispatch\n",
      "    job = self._backend.apply_async(batch, callback=cb)\n",
      "  File \"/opt/conda/lib/python3.7/site-packages/joblib/_parallel_backends.py\", line 208, in apply_async\n",
      "    result = ImmediateResult(func)\n",
      "  File \"/opt/conda/lib/python3.7/site-packages/joblib/_parallel_backends.py\", line 572, in __init__\n",
      "    self.results = batch()\n",
      "  File \"/opt/conda/lib/python3.7/site-packages/joblib/parallel.py\", line 263, in __call__\n",
      "    for func, args, kwargs in self.items]\n",
      "  File \"/opt/conda/lib/python3.7/site-packages/joblib/parallel.py\", line 263, in <listcomp>\n",
      "    for func, args, kwargs in self.items]\n",
      "  File \"/opt/conda/lib/python3.7/site-packages/sklearn/linear_model/_logistic.py\", line 764, in _logistic_regression_path\n",
      "    extra_warning_msg=_LOGISTIC_SOLVER_CONVERGENCE_MSG)\n",
      "  File \"/opt/conda/lib/python3.7/site-packages/sklearn/utils/optimize.py\", line 243, in _check_optimize_result\n",
      "    ).format(solver, result.status, result.message.decode(\"latin1\"))\n",
      "AttributeError: 'str' object has no attribute 'decode'\n",
      "\n",
      "  FitFailedWarning)\n",
      "[Parallel(n_jobs=1)]: Using backend SequentialBackend with 1 concurrent workers.\n"
     ]
    },
    {
     "name": "stdout",
     "output_type": "stream",
     "text": [
      "RUNNING THE L-BFGS-B CODE\n",
      "\n",
      "           * * *\n",
      "\n",
      "Machine precision = 2.220D-16\n",
      " N =        34479     M =           10\n",
      "\n",
      "At X0         0 variables are exactly at the bounds\n",
      "\n",
      "At iterate    0    f=  2.54526D+04    |proj g|=  2.03433D+03\n"
     ]
    },
    {
     "name": "stderr",
     "output_type": "stream",
     "text": [
      " This problem is unconstrained.\n"
     ]
    },
    {
     "name": "stdout",
     "output_type": "stream",
     "text": [
      "\n",
      "At iterate   50    f=  1.51652D+04    |proj g|=  1.95697D+02\n",
      "\n",
      "At iterate  100    f=  1.50123D+04    |proj g|=  2.55160D+00\n",
      "\n",
      "           * * *\n",
      "\n",
      "Tit   = total number of iterations\n",
      "Tnf   = total number of function evaluations\n",
      "Tnint = total number of segments explored during Cauchy searches\n",
      "Skip  = number of BFGS updates skipped\n",
      "Nact  = number of active bounds at final generalized Cauchy point\n",
      "Projg = norm of the final projected gradient\n",
      "F     = final function value\n",
      "\n",
      "           * * *\n",
      "\n",
      "   N    Tit     Tnf  Tnint  Skip  Nact     Projg        F\n",
      "34479    100    114      1     0     0   2.552D+00   1.501D+04\n",
      "  F =   15012.259663250803     \n",
      "\n",
      "STOP: TOTAL NO. of ITERATIONS REACHED LIMIT                 \n"
     ]
    },
    {
     "name": "stderr",
     "output_type": "stream",
     "text": [
      "/opt/conda/lib/python3.7/site-packages/sklearn/model_selection/_validation.py:552: FitFailedWarning: Estimator fit failed. The score on this train-test partition for these parameters will be set to nan. Details: \n",
      "Traceback (most recent call last):\n",
      "  File \"/opt/conda/lib/python3.7/site-packages/sklearn/model_selection/_validation.py\", line 531, in _fit_and_score\n",
      "    estimator.fit(X_train, y_train, **fit_params)\n",
      "  File \"/opt/conda/lib/python3.7/site-packages/sklearn/linear_model/_logistic.py\", line 1417, in fit\n",
      "    for class_, warm_start_coef_ in zip(classes_, warm_start_coef))\n",
      "  File \"/opt/conda/lib/python3.7/site-packages/joblib/parallel.py\", line 1043, in __call__\n",
      "    if self.dispatch_one_batch(iterator):\n",
      "  File \"/opt/conda/lib/python3.7/site-packages/joblib/parallel.py\", line 861, in dispatch_one_batch\n",
      "    self._dispatch(tasks)\n",
      "  File \"/opt/conda/lib/python3.7/site-packages/joblib/parallel.py\", line 779, in _dispatch\n",
      "    job = self._backend.apply_async(batch, callback=cb)\n",
      "  File \"/opt/conda/lib/python3.7/site-packages/joblib/_parallel_backends.py\", line 208, in apply_async\n",
      "    result = ImmediateResult(func)\n",
      "  File \"/opt/conda/lib/python3.7/site-packages/joblib/_parallel_backends.py\", line 572, in __init__\n",
      "    self.results = batch()\n",
      "  File \"/opt/conda/lib/python3.7/site-packages/joblib/parallel.py\", line 263, in __call__\n",
      "    for func, args, kwargs in self.items]\n",
      "  File \"/opt/conda/lib/python3.7/site-packages/joblib/parallel.py\", line 263, in <listcomp>\n",
      "    for func, args, kwargs in self.items]\n",
      "  File \"/opt/conda/lib/python3.7/site-packages/sklearn/linear_model/_logistic.py\", line 764, in _logistic_regression_path\n",
      "    extra_warning_msg=_LOGISTIC_SOLVER_CONVERGENCE_MSG)\n",
      "  File \"/opt/conda/lib/python3.7/site-packages/sklearn/utils/optimize.py\", line 243, in _check_optimize_result\n",
      "    ).format(solver, result.status, result.message.decode(\"latin1\"))\n",
      "AttributeError: 'str' object has no attribute 'decode'\n",
      "\n",
      "  FitFailedWarning)\n"
     ]
    }
   ],
   "source": [
    "CV = 5\n",
    "cv_df = pd.DataFrame(index=range(CV * len(models)))\n",
    "\n",
    "entries = []\n",
    "for model in tn(models):\n",
    "  model_name = model.__class__.__name__\n",
    "  accuracies = cross_val_score(model, features, labels, scoring='accuracy', cv=CV)\n",
    "  for fold_idx, accuracy in enumerate(accuracies):\n",
    "    entries.append((model_name, fold_idx, accuracy))\n",
    "    \n",
    "cv_df = pd.DataFrame(entries, columns=['model_name', 'fold_idx', 'accuracy'])"
   ]
  },
  {
   "cell_type": "markdown",
   "id": "6b4b2bd3",
   "metadata": {
    "papermill": {
     "duration": 0.164894,
     "end_time": "2022-02-21T16:34:07.411003",
     "exception": false,
     "start_time": "2022-02-21T16:34:07.246109",
     "status": "completed"
    },
    "tags": []
   },
   "source": [
    "## Evaluate"
   ]
  },
  {
   "cell_type": "code",
   "execution_count": 52,
   "id": "6cd6d08e",
   "metadata": {
    "execution": {
     "iopub.execute_input": "2022-02-21T16:34:07.751235Z",
     "iopub.status.busy": "2022-02-21T16:34:07.750472Z",
     "iopub.status.idle": "2022-02-21T16:34:07.768768Z",
     "shell.execute_reply": "2022-02-21T16:34:07.769285Z",
     "shell.execute_reply.started": "2022-02-21T14:34:22.315306Z"
    },
    "papermill": {
     "duration": 0.192048,
     "end_time": "2022-02-21T16:34:07.769504",
     "exception": false,
     "start_time": "2022-02-21T16:34:07.577456",
     "status": "completed"
    },
    "tags": []
   },
   "outputs": [
    {
     "data": {
      "text/html": [
       "<div>\n",
       "<style scoped>\n",
       "    .dataframe tbody tr th:only-of-type {\n",
       "        vertical-align: middle;\n",
       "    }\n",
       "\n",
       "    .dataframe tbody tr th {\n",
       "        vertical-align: top;\n",
       "    }\n",
       "\n",
       "    .dataframe thead th {\n",
       "        text-align: right;\n",
       "    }\n",
       "</style>\n",
       "<table border=\"1\" class=\"dataframe\">\n",
       "  <thead>\n",
       "    <tr style=\"text-align: right;\">\n",
       "      <th></th>\n",
       "      <th>Mean Accuracy</th>\n",
       "      <th>Standard deviation</th>\n",
       "    </tr>\n",
       "    <tr>\n",
       "      <th>model_name</th>\n",
       "      <th></th>\n",
       "      <th></th>\n",
       "    </tr>\n",
       "  </thead>\n",
       "  <tbody>\n",
       "    <tr>\n",
       "      <th>LinearSVC</th>\n",
       "      <td>0.784178</td>\n",
       "      <td>0.008538</td>\n",
       "    </tr>\n",
       "    <tr>\n",
       "      <th>LogisticRegression</th>\n",
       "      <td>NaN</td>\n",
       "      <td>NaN</td>\n",
       "    </tr>\n",
       "    <tr>\n",
       "      <th>MultinomialNB</th>\n",
       "      <td>0.724196</td>\n",
       "      <td>0.013677</td>\n",
       "    </tr>\n",
       "    <tr>\n",
       "      <th>RandomForestClassifier</th>\n",
       "      <td>0.424186</td>\n",
       "      <td>0.001590</td>\n",
       "    </tr>\n",
       "  </tbody>\n",
       "</table>\n",
       "</div>"
      ],
      "text/plain": [
       "                        Mean Accuracy  Standard deviation\n",
       "model_name                                               \n",
       "LinearSVC                    0.784178            0.008538\n",
       "LogisticRegression                NaN                 NaN\n",
       "MultinomialNB                0.724196            0.013677\n",
       "RandomForestClassifier       0.424186            0.001590"
      ]
     },
     "execution_count": 52,
     "metadata": {},
     "output_type": "execute_result"
    }
   ],
   "source": [
    "mean_accuracy = cv_df.groupby('model_name').accuracy.mean()\n",
    "std_accuracy = cv_df.groupby('model_name').accuracy.std()\n",
    "\n",
    "acc = pd.concat([mean_accuracy, std_accuracy], axis= 1, \n",
    "          ignore_index=True)\n",
    "acc.columns = ['Mean Accuracy', 'Standard deviation']\n",
    "acc"
   ]
  },
  {
   "cell_type": "code",
   "execution_count": 53,
   "id": "29279063",
   "metadata": {
    "execution": {
     "iopub.execute_input": "2022-02-21T16:34:08.104005Z",
     "iopub.status.busy": "2022-02-21T16:34:08.103344Z",
     "iopub.status.idle": "2022-02-21T16:34:08.432360Z",
     "shell.execute_reply": "2022-02-21T16:34:08.431834Z",
     "shell.execute_reply.started": "2022-02-21T14:34:22.373101Z"
    },
    "papermill": {
     "duration": 0.49774,
     "end_time": "2022-02-21T16:34:08.432552",
     "exception": false,
     "start_time": "2022-02-21T16:34:07.934812",
     "status": "completed"
    },
    "tags": []
   },
   "outputs": [
    {
     "data": {
      "image/png": "[encoded data removed]",
      "text/plain": [
       "<Figure size 576x360 with 1 Axes>"
      ]
     },
     "metadata": {},
     "output_type": "display_data"
    }
   ],
   "source": [
    "plt.figure(figsize=(8,5))\n",
    "sns.boxplot(x='model_name', y='accuracy', \n",
    "            data=cv_df, \n",
    "            color='lightblue', \n",
    "            showmeans=True)\n",
    "plt.title(\"MEAN ACCURACY (cv = 5)\\n\", size=14);\n"
   ]
  },
  {
   "cell_type": "code",
   "execution_count": 54,
   "id": "ba75286e",
   "metadata": {
    "execution": {
     "iopub.execute_input": "2022-02-21T16:34:08.771899Z",
     "iopub.status.busy": "2022-02-21T16:34:08.771233Z",
     "iopub.status.idle": "2022-02-21T16:34:11.180222Z",
     "shell.execute_reply": "2022-02-21T16:34:11.179153Z",
     "shell.execute_reply.started": "2022-02-21T14:34:22.664901Z"
    },
    "papermill": {
     "duration": 2.582801,
     "end_time": "2022-02-21T16:34:11.180594",
     "exception": false,
     "start_time": "2022-02-21T16:34:08.597793",
     "status": "completed"
    },
    "tags": []
   },
   "outputs": [],
   "source": [
    "X_train, X_test, y_train, y_test,indices_train,indices_test = train_test_split(features, \n",
    "                                                               labels, \n",
    "                                                               short_df.index, test_size=0.25, \n",
    "                                                               random_state=1)\n",
    "model = LinearSVC()\n",
    "model.fit(X_train, y_train)\n",
    "y_pred = model.predict(X_test)"
   ]
  },
  {
   "cell_type": "code",
   "execution_count": 55,
   "id": "3dfb8e63",
   "metadata": {
    "execution": {
     "iopub.execute_input": "2022-02-21T16:34:11.573710Z",
     "iopub.status.busy": "2022-02-21T16:34:11.573042Z",
     "iopub.status.idle": "2022-02-21T16:34:11.580213Z",
     "shell.execute_reply": "2022-02-21T16:34:11.580866Z",
     "shell.execute_reply.started": "2022-02-21T14:34:24.968394Z"
    },
    "papermill": {
     "duration": 0.179926,
     "end_time": "2022-02-21T16:34:11.581063",
     "exception": false,
     "start_time": "2022-02-21T16:34:11.401137",
     "status": "completed"
    },
    "tags": []
   },
   "outputs": [
    {
     "data": {
      "text/plain": [
       "(0       1\n",
       " 1       0\n",
       " 2       2\n",
       " 3       2\n",
       " 4       1\n",
       "        ..\n",
       " 7235    1\n",
       " 7236    0\n",
       " 7237    1\n",
       " 7238    0\n",
       " 7239    1\n",
       " Name: Sentiment_target, Length: 7240, dtype: int64,\n",
       " array([1, 1, 2, ..., 1, 0, 1]))"
      ]
     },
     "execution_count": 55,
     "metadata": {},
     "output_type": "execute_result"
    }
   ],
   "source": [
    "y_test = y_test.reset_index(drop=True)\n",
    "y_test, y_pred"
   ]
  },
  {
   "cell_type": "code",
   "execution_count": 56,
   "id": "8740e359",
   "metadata": {
    "execution": {
     "iopub.execute_input": "2022-02-21T16:34:11.926035Z",
     "iopub.status.busy": "2022-02-21T16:34:11.925379Z",
     "iopub.status.idle": "2022-02-21T16:34:11.928190Z",
     "shell.execute_reply": "2022-02-21T16:34:11.928830Z",
     "shell.execute_reply.started": "2022-02-21T14:34:24.981265Z"
    },
    "papermill": {
     "duration": 0.179462,
     "end_time": "2022-02-21T16:34:11.929005",
     "exception": false,
     "start_time": "2022-02-21T16:34:11.749543",
     "status": "completed"
    },
    "tags": []
   },
   "outputs": [
    {
     "data": {
      "text/plain": [
       "(7240, 7240)"
      ]
     },
     "execution_count": 56,
     "metadata": {},
     "output_type": "execute_result"
    }
   ],
   "source": [
    "len(y_test),len(y_pred)"
   ]
  },
  {
   "cell_type": "code",
   "execution_count": 57,
   "id": "f91ffc0f",
   "metadata": {
    "execution": {
     "iopub.execute_input": "2022-02-21T16:34:12.267946Z",
     "iopub.status.busy": "2022-02-21T16:34:12.267314Z",
     "iopub.status.idle": "2022-02-21T16:34:12.287901Z",
     "shell.execute_reply": "2022-02-21T16:34:12.289036Z",
     "shell.execute_reply.started": "2022-02-21T14:34:24.995320Z"
    },
    "papermill": {
     "duration": 0.193356,
     "end_time": "2022-02-21T16:34:12.289223",
     "exception": false,
     "start_time": "2022-02-21T16:34:12.095867",
     "status": "completed"
    },
    "tags": []
   },
   "outputs": [
    {
     "name": "stdout",
     "output_type": "stream",
     "text": [
      "\t\t\t\tCLASSIFICATIION METRICS\n",
      "\n",
      "              precision    recall  f1-score   support\n",
      "\n",
      "    Positive       0.75      0.73      0.74      1967\n",
      "    Negative       0.78      0.79      0.79      3141\n",
      "     Neutral       0.79      0.79      0.79      2132\n",
      "\n",
      "    accuracy                           0.77      7240\n",
      "   macro avg       0.77      0.77      0.77      7240\n",
      "weighted avg       0.77      0.77      0.77      7240\n",
      "\n"
     ]
    }
   ],
   "source": [
    "print('\\t\\t\\t\\tCLASSIFICATIION METRICS\\n')\n",
    "print(metrics.classification_report(y_test, y_pred, target_names=['Positive','Negative', 'Neutral']))"
   ]
  },
  {
   "cell_type": "markdown",
   "id": "7bb0d5bd",
   "metadata": {
    "papermill": {
     "duration": 0.177842,
     "end_time": "2022-02-21T16:34:12.635804",
     "exception": false,
     "start_time": "2022-02-21T16:34:12.457962",
     "status": "completed"
    },
    "tags": []
   },
   "source": [
    "## Confusion Matrix"
   ]
  },
  {
   "cell_type": "code",
   "execution_count": 58,
   "id": "5be0158d",
   "metadata": {
    "execution": {
     "iopub.execute_input": "2022-02-21T16:34:12.991075Z",
     "iopub.status.busy": "2022-02-21T16:34:12.990407Z",
     "iopub.status.idle": "2022-02-21T16:34:14.761013Z",
     "shell.execute_reply": "2022-02-21T16:34:14.760389Z",
     "shell.execute_reply.started": "2022-02-21T14:34:25.046160Z"
    },
    "papermill": {
     "duration": 1.942618,
     "end_time": "2022-02-21T16:34:14.761185",
     "exception": false,
     "start_time": "2022-02-21T16:34:12.818567",
     "status": "completed"
    },
    "tags": []
   },
   "outputs": [
    {
     "name": "stdout",
     "output_type": "stream",
     "text": [
      "Cloning into 'confusion_matrix'...\r\n",
      "remote: Enumerating objects: 15, done.\u001b[K\r\n",
      "remote: Total 15 (delta 0), reused 0 (delta 0), pack-reused 15\u001b[K\r\n",
      "Unpacking objects: 100% (15/15), 119.69 KiB | 957.00 KiB/s, done.\r\n"
     ]
    }
   ],
   "source": [
    "!git clone https://github.com/DTrimarchi10/confusion_matrix"
   ]
  },
  {
   "cell_type": "code",
   "execution_count": 59,
   "id": "f80000b5",
   "metadata": {
    "execution": {
     "iopub.execute_input": "2022-02-21T16:34:15.113876Z",
     "iopub.status.busy": "2022-02-21T16:34:15.113070Z",
     "iopub.status.idle": "2022-02-21T16:34:16.356021Z",
     "shell.execute_reply": "2022-02-21T16:34:16.356579Z",
     "shell.execute_reply.started": "2022-02-21T14:34:26.011800Z"
    },
    "papermill": {
     "duration": 1.422651,
     "end_time": "2022-02-21T16:34:16.356786",
     "exception": false,
     "start_time": "2022-02-21T16:34:14.934135",
     "status": "completed"
    },
    "tags": []
   },
   "outputs": [
    {
     "name": "stdout",
     "output_type": "stream",
     "text": [
      "--2022-02-21 16:34:15--  https://raw.githubusercontent.com/DTrimarchi10/confusion_matrix/master/cf_matrix.py\r\n",
      "Resolving raw.githubusercontent.com (raw.githubusercontent.com)... 185.199.111.133, 185.199.109.133, 185.199.110.133, ...\r\n",
      "Connecting to raw.githubusercontent.com (raw.githubusercontent.com)|185.199.111.133|:443... connected.\r\n",
      "HTTP request sent, awaiting response... 200 OK\r\n",
      "Length: 4088 (4.0K) [text/plain]\r\n",
      "Failed to rename cf_matrix.py to cf_matrix.py.1: (2) No such file or directory\r\n",
      "Saving to: ‘cf_matrix.py’\r\n",
      "\r\n",
      "cf_matrix.py        100%[===================>]   3.99K  --.-KB/s    in 0s      \r\n",
      "\r\n",
      "2022-02-21 16:34:16 (32.0 MB/s) - ‘cf_matrix.py’ saved [4088/4088]\r\n",
      "\r\n",
      "--2022-02-21 16:34:16--  https://raw.githubusercontent.com/DTrimarchi10/confusion_matrix/master/cf_matrix.py\n",
      "Resolving raw.githubusercontent.com (raw.githubusercontent.com)... 185.199.109.133, 185.199.110.133, 185.199.111.133, ...\n",
      "Connecting to raw.githubusercontent.com (raw.githubusercontent.com)|185.199.109.133|:443... connected.\n",
      "HTTP request sent, awaiting response... 200 OK\n",
      "Length: 4088 (4.0K) [text/plain]\n",
      "Saving to: ‘cf_matrix.py’\n",
      "\n",
      "     0K ...                                                   100% 50.8M=0s\n",
      "\n",
      "2022-02-21 16:34:16 (50.8 MB/s) - ‘cf_matrix.py’ saved [4088/4088]\n",
      "\n",
      "\n"
     ]
    }
   ],
   "source": [
    "url = f\"https://raw.githubusercontent.com/DTrimarchi10/confusion_matrix/master/cf_matrix.py\"\n",
    "!wget --no-cache --backups=1 {url}\n",
    "import subprocess\n",
    "result = subprocess.run([\"wget\", \"--no-cache\", \"--backups=1\", url], stderr=subprocess.PIPE, stdout=subprocess.PIPE)\n",
    "print(result.stderr.decode(\"utf-8\"))"
   ]
  },
  {
   "cell_type": "code",
   "execution_count": 60,
   "id": "3fc6fdc0",
   "metadata": {
    "execution": {
     "iopub.execute_input": "2022-02-21T16:34:16.705154Z",
     "iopub.status.busy": "2022-02-21T16:34:16.702799Z",
     "iopub.status.idle": "2022-02-21T16:34:16.711302Z",
     "shell.execute_reply": "2022-02-21T16:34:16.711810Z",
     "shell.execute_reply.started": "2022-02-21T14:34:27.580060Z"
    },
    "papermill": {
     "duration": 0.184262,
     "end_time": "2022-02-21T16:34:16.712020",
     "exception": false,
     "start_time": "2022-02-21T16:34:16.527758",
     "status": "completed"
    },
    "tags": []
   },
   "outputs": [],
   "source": [
    "from cf_matrix import make_confusion_matrix\n",
    "sns.set_context('talk')"
   ]
  },
  {
   "cell_type": "code",
   "execution_count": 61,
   "id": "bf18d680",
   "metadata": {
    "execution": {
     "iopub.execute_input": "2022-02-21T16:34:17.062211Z",
     "iopub.status.busy": "2022-02-21T16:34:17.061516Z",
     "iopub.status.idle": "2022-02-21T16:34:17.075988Z",
     "shell.execute_reply": "2022-02-21T16:34:17.076583Z",
     "shell.execute_reply.started": "2022-02-21T14:34:27.587810Z"
    },
    "papermill": {
     "duration": 0.193317,
     "end_time": "2022-02-21T16:34:17.076770",
     "exception": false,
     "start_time": "2022-02-21T16:34:16.883453",
     "status": "completed"
    },
    "tags": []
   },
   "outputs": [
    {
     "data": {
      "text/plain": [
       "array([[1434,  404,  129],\n",
       "       [ 338, 2494,  309],\n",
       "       [ 148,  305, 1679]])"
      ]
     },
     "execution_count": 61,
     "metadata": {},
     "output_type": "execute_result"
    }
   ],
   "source": [
    "conf_mat = confusion_matrix(y_test, y_pred)\n",
    "conf_mat"
   ]
  },
  {
   "cell_type": "code",
   "execution_count": 62,
   "id": "14ef15c6",
   "metadata": {
    "execution": {
     "iopub.execute_input": "2022-02-21T16:34:17.428805Z",
     "iopub.status.busy": "2022-02-21T16:34:17.421591Z",
     "iopub.status.idle": "2022-02-21T16:34:17.697786Z",
     "shell.execute_reply": "2022-02-21T16:34:17.698666Z",
     "shell.execute_reply.started": "2022-02-21T14:34:27.614086Z"
    },
    "papermill": {
     "duration": 0.45184,
     "end_time": "2022-02-21T16:34:17.699006",
     "exception": false,
     "start_time": "2022-02-21T16:34:17.247166",
     "status": "completed"
    },
    "tags": []
   },
   "outputs": [
    {
     "data": {
      "image/png": "[encoded data removed]",
      "text/plain": [
       "<Figure size 576x432 with 1 Axes>"
      ]
     },
     "metadata": {},
     "output_type": "display_data"
    }
   ],
   "source": [
    "categories = ['Positive','Negative', 'Neutral']\n",
    "make_confusion_matrix(conf_mat, figsize=(8,6), cbar=False,categories = categories, title='Tweet Sentiments CF Matrix')"
   ]
  },
  {
   "cell_type": "markdown",
   "id": "19924b50",
   "metadata": {
    "papermill": {
     "duration": 0.177308,
     "end_time": "2022-02-21T16:34:18.057517",
     "exception": false,
     "start_time": "2022-02-21T16:34:17.880209",
     "status": "completed"
    },
    "tags": []
   },
   "source": [
    "## Predictions"
   ]
  },
  {
   "cell_type": "code",
   "execution_count": 63,
   "id": "d42f0856",
   "metadata": {
    "execution": {
     "iopub.execute_input": "2022-02-21T16:34:18.478294Z",
     "iopub.status.busy": "2022-02-21T16:34:18.477458Z",
     "iopub.status.idle": "2022-02-21T16:34:20.546929Z",
     "shell.execute_reply": "2022-02-21T16:34:20.547536Z",
     "shell.execute_reply.started": "2022-02-21T14:34:27.862900Z"
    },
    "papermill": {
     "duration": 2.289555,
     "end_time": "2022-02-21T16:34:20.547830",
     "exception": false,
     "start_time": "2022-02-21T16:34:18.258275",
     "status": "completed"
    },
    "tags": []
   },
   "outputs": [],
   "source": [
    "X_train, X_test, y_train, y_test = train_test_split(X, y, \n",
    "                                                    test_size=0.25,\n",
    "                                                    random_state = 0)\n",
    "\n",
    "tfidf = TfidfVectorizer(sublinear_tf=True, min_df=5,\n",
    "                        ngram_range=(1, 2), \n",
    "                        stop_words='english')\n",
    "\n",
    "fitted_vectorizer = tfidf.fit(X_train)\n",
    "tfidf_vectorizer_vectors = fitted_vectorizer.transform(X_train)\n",
    "\n",
    "model = LinearSVC().fit(tfidf_vectorizer_vectors, y_train)"
   ]
  },
  {
   "cell_type": "code",
   "execution_count": 64,
   "id": "009f90a0",
   "metadata": {
    "execution": {
     "iopub.execute_input": "2022-02-21T16:34:20.957096Z",
     "iopub.status.busy": "2022-02-21T16:34:20.956403Z",
     "iopub.status.idle": "2022-02-21T16:34:20.963997Z",
     "shell.execute_reply": "2022-02-21T16:34:20.964676Z",
     "shell.execute_reply.started": "2022-02-21T14:34:29.832780Z"
    },
    "papermill": {
     "duration": 0.214729,
     "end_time": "2022-02-21T16:34:20.964885",
     "exception": false,
     "start_time": "2022-02-21T16:34:20.750156",
     "status": "completed"
    },
    "tags": []
   },
   "outputs": [
    {
     "name": "stdout",
     "output_type": "stream",
     "text": [
      "Johnson&Johnson to stop selling baby powder in US.\n",
      "The firm faces thousands of lawsuits that its talc products caused cancer.\n",
      "It said in Oct that its testing had found no asbestos in its Baby Powder after tests conducted by USFDA discovered trace amounts.\n",
      "bbc.co.uk/news/business-…\n"
     ]
    }
   ],
   "source": [
    "new_tweet = valid.Tweet[random.randint(0, len(valid.Tweet))]\n",
    "print(new_tweet)"
   ]
  },
  {
   "cell_type": "code",
   "execution_count": 65,
   "id": "a8541dcd",
   "metadata": {
    "execution": {
     "iopub.execute_input": "2022-02-21T16:34:21.371496Z",
     "iopub.status.busy": "2022-02-21T16:34:21.368746Z",
     "iopub.status.idle": "2022-02-21T16:34:21.377858Z",
     "shell.execute_reply": "2022-02-21T16:34:21.378492Z",
     "shell.execute_reply.started": "2022-02-21T14:34:29.840543Z"
    },
    "papermill": {
     "duration": 0.214193,
     "end_time": "2022-02-21T16:34:21.378721",
     "exception": false,
     "start_time": "2022-02-21T16:34:21.164528",
     "status": "completed"
    },
    "tags": []
   },
   "outputs": [
    {
     "data": {
      "text/plain": [
       "array([1])"
      ]
     },
     "execution_count": 65,
     "metadata": {},
     "output_type": "execute_result"
    }
   ],
   "source": [
    "model.predict(fitted_vectorizer.transform([new_tweet]))"
   ]
  },
  {
   "cell_type": "code",
   "execution_count": 66,
   "id": "6676c6f2",
   "metadata": {
    "execution": {
     "iopub.execute_input": "2022-02-21T16:34:21.883417Z",
     "iopub.status.busy": "2022-02-21T16:34:21.882571Z",
     "iopub.status.idle": "2022-02-21T16:34:21.901600Z",
     "shell.execute_reply": "2022-02-21T16:34:21.902318Z",
     "shell.execute_reply.started": "2022-02-21T14:34:29.857350Z"
    },
    "papermill": {
     "duration": 0.273581,
     "end_time": "2022-02-21T16:34:21.902569",
     "exception": false,
     "start_time": "2022-02-21T16:34:21.628988",
     "status": "completed"
    },
    "tags": []
   },
   "outputs": [
    {
     "data": {
      "text/html": [
       "<div>\n",
       "<style scoped>\n",
       "    .dataframe tbody tr th:only-of-type {\n",
       "        vertical-align: middle;\n",
       "    }\n",
       "\n",
       "    .dataframe tbody tr th {\n",
       "        vertical-align: top;\n",
       "    }\n",
       "\n",
       "    .dataframe thead th {\n",
       "        text-align: right;\n",
       "    }\n",
       "</style>\n",
       "<table border=\"1\" class=\"dataframe\">\n",
       "  <thead>\n",
       "    <tr style=\"text-align: right;\">\n",
       "      <th></th>\n",
       "      <th>Id</th>\n",
       "      <th>Entity</th>\n",
       "      <th>Sentiment</th>\n",
       "      <th>Tweet</th>\n",
       "      <th>is_train</th>\n",
       "    </tr>\n",
       "  </thead>\n",
       "  <tbody>\n",
       "    <tr>\n",
       "      <th>65</th>\n",
       "      <td>7023</td>\n",
       "      <td>johnson&amp;johnson</td>\n",
       "      <td>Neutral</td>\n",
       "      <td>Johnson&amp;Johnson to stop selling baby powder in...</td>\n",
       "      <td>False</td>\n",
       "    </tr>\n",
       "  </tbody>\n",
       "</table>\n",
       "</div>"
      ],
      "text/plain": [
       "      Id           Entity Sentiment  \\\n",
       "65  7023  johnson&johnson   Neutral   \n",
       "\n",
       "                                                Tweet  is_train  \n",
       "65  Johnson&Johnson to stop selling baby powder in...     False  "
      ]
     },
     "execution_count": 66,
     "metadata": {},
     "output_type": "execute_result"
    }
   ],
   "source": [
    "valid[valid['Tweet'] == new_tweet]"
   ]
  },
  {
   "cell_type": "markdown",
   "id": "3e30efee",
   "metadata": {
    "papermill": {
     "duration": 0.207645,
     "end_time": "2022-02-21T16:34:22.313250",
     "exception": false,
     "start_time": "2022-02-21T16:34:22.105605",
     "status": "completed"
    },
    "tags": []
   },
   "source": [
    "## SVD"
   ]
  },
  {
   "cell_type": "code",
   "execution_count": 67,
   "id": "1b18e13e",
   "metadata": {
    "execution": {
     "iopub.execute_input": "2022-02-21T16:34:22.729654Z",
     "iopub.status.busy": "2022-02-21T16:34:22.728831Z",
     "iopub.status.idle": "2022-02-21T16:34:22.734344Z",
     "shell.execute_reply": "2022-02-21T16:34:22.735001Z",
     "shell.execute_reply.started": "2022-02-21T14:34:29.876345Z"
    },
    "papermill": {
     "duration": 0.217386,
     "end_time": "2022-02-21T16:34:22.735241",
     "exception": false,
     "start_time": "2022-02-21T16:34:22.517855",
     "status": "completed"
    },
    "tags": []
   },
   "outputs": [
    {
     "data": {
      "text/plain": [
       "array([[0., 0., 0., ..., 0., 0., 0.],\n",
       "       [0., 0., 0., ..., 0., 0., 0.],\n",
       "       [0., 0., 0., ..., 0., 0., 0.],\n",
       "       ...,\n",
       "       [0., 0., 0., ..., 0., 0., 0.],\n",
       "       [0., 0., 0., ..., 0., 0., 0.],\n",
       "       [0., 0., 0., ..., 0., 0., 0.]])"
      ]
     },
     "execution_count": 67,
     "metadata": {},
     "output_type": "execute_result"
    }
   ],
   "source": [
    "features"
   ]
  },
  {
   "cell_type": "code",
   "execution_count": 68,
   "id": "16075957",
   "metadata": {
    "execution": {
     "iopub.execute_input": "2022-02-21T16:34:23.144282Z",
     "iopub.status.busy": "2022-02-21T16:34:23.143625Z",
     "iopub.status.idle": "2022-02-21T16:34:25.562668Z",
     "shell.execute_reply": "2022-02-21T16:34:25.561813Z",
     "shell.execute_reply.started": "2022-02-21T14:34:29.890813Z"
    },
    "papermill": {
     "duration": 2.626896,
     "end_time": "2022-02-21T16:34:25.562906",
     "exception": false,
     "start_time": "2022-02-21T16:34:22.936010",
     "status": "completed"
    },
    "tags": []
   },
   "outputs": [],
   "source": [
    "X = csr_matrix(features)"
   ]
  },
  {
   "cell_type": "code",
   "execution_count": 69,
   "id": "be07502e",
   "metadata": {
    "execution": {
     "iopub.execute_input": "2022-02-21T16:34:26.124157Z",
     "iopub.status.busy": "2022-02-21T16:34:26.123245Z",
     "iopub.status.idle": "2022-02-21T16:34:26.518669Z",
     "shell.execute_reply": "2022-02-21T16:34:26.519465Z",
     "shell.execute_reply.started": "2022-02-21T14:34:32.219847Z"
    },
    "papermill": {
     "duration": 0.67262,
     "end_time": "2022-02-21T16:34:26.519739",
     "exception": false,
     "start_time": "2022-02-21T16:34:25.847119",
     "status": "completed"
    },
    "tags": []
   },
   "outputs": [
    {
     "name": "stdout",
     "output_type": "stream",
     "text": [
      "[0.0068251  0.00355113 0.00532549 0.0043117  0.00370574]\n",
      "0.02371915547460094\n",
      "[16.27412037 12.60215076 12.2901824  11.55434999 10.30163486]\n"
     ]
    }
   ],
   "source": [
    "svd = TruncatedSVD(n_components=5, n_iter=7, random_state=42)\n",
    "svd.fit(X)\n",
    "\n",
    "print(svd.explained_variance_ratio_)\n",
    "\n",
    "print(svd.explained_variance_ratio_.sum())\n",
    "\n",
    "print(svd.singular_values_)"
   ]
  },
  {
   "cell_type": "markdown",
   "id": "e9da356e",
   "metadata": {
    "papermill": {
     "duration": 0.17608,
     "end_time": "2022-02-21T16:34:26.922879",
     "exception": false,
     "start_time": "2022-02-21T16:34:26.746799",
     "status": "completed"
    },
    "tags": []
   },
   "source": [
    "## t-SNE"
   ]
  },
  {
   "cell_type": "code",
   "execution_count": 70,
   "id": "d36140e0",
   "metadata": {
    "execution": {
     "iopub.execute_input": "2022-02-21T16:34:27.282962Z",
     "iopub.status.busy": "2022-02-21T16:34:27.282304Z",
     "iopub.status.idle": "2022-02-21T16:40:01.072806Z",
     "shell.execute_reply": "2022-02-21T16:40:01.072254Z",
     "shell.execute_reply.started": "2022-02-21T14:34:32.494407Z"
    },
    "papermill": {
     "duration": 333.973806,
     "end_time": "2022-02-21T16:40:01.072950",
     "exception": false,
     "start_time": "2022-02-21T16:34:27.099144",
     "status": "completed"
    },
    "tags": []
   },
   "outputs": [
    {
     "data": {
      "image/png": "[encoded data removed]",
      "text/plain": [
       "<Figure size 576x396 with 1 Axes>"
      ]
     },
     "metadata": {},
     "output_type": "display_data"
    },
    {
     "data": {
      "text/plain": [
       "<AxesSubplot:title={'center':'TSNE Projection of 28959 Documents'}>"
      ]
     },
     "execution_count": 70,
     "metadata": {},
     "output_type": "execute_result"
    }
   ],
   "source": [
    "tsne = TSNEVisualizer()\n",
    "tsne.fit(features, labels)\n",
    "tsne.show()"
   ]
  },
  {
   "cell_type": "code",
   "execution_count": null,
   "id": "57a17644",
   "metadata": {
    "papermill": {
     "duration": 0.177995,
     "end_time": "2022-02-21T16:40:01.429925",
     "exception": false,
     "start_time": "2022-02-21T16:40:01.251930",
     "status": "completed"
    },
    "tags": []
   },
   "outputs": [],
   "source": []
  }
 ],
 "metadata": {
  "kernelspec": {
   "display_name": "Python 3",
   "language": "python",
   "name": "python3"
  },
  "language_info": {
   "codemirror_mode": {
    "name": "ipython",
    "version": 3
   },
   "file_extension": ".py",
   "mimetype": "text/x-python",
   "name": "python",
   "nbconvert_exporter": "python",
   "pygments_lexer": "ipython3",
   "version": "3.7.12"
  },
  "papermill": {
   "default_parameters": {},
   "duration": 1032.700894,
   "end_time": "2022-02-21T16:40:05.053128",
   "environment_variables": {},
   "exception": null,
   "input_path": "__notebook__.ipynb",
   "output_path": "__notebook__.ipynb",
   "parameters": {},
   "start_time": "2022-02-21T16:22:52.352234",
   "version": "2.3.3"
  },
  "widgets": {
   "application/vnd.jupyter.widget-state+json": {
    "state": {
     "01b22fd7541f4b338c0009cc5db3ad29": {
      "model_module": "@jupyter-widgets/controls",
      "model_module_version": "1.5.0",
      "model_name": "DescriptionStyleModel",
      "state": {
       "_model_module": "@jupyter-widgets/controls",
       "_model_module_version": "1.5.0",
       "_model_name": "DescriptionStyleModel",
       "_view_count": null,
       "_view_module": "@jupyter-widgets/base",
       "_view_module_version": "1.2.0",
       "_view_name": "StyleView",
       "description_width": ""
      }
     },
     "399257840ecc4d8b92b1afbab56362e4": {
      "model_module": "@jupyter-widgets/controls",
      "model_module_version": "1.5.0",
      "model_name": "HBoxModel",
      "state": {
       "_dom_classes": [],
       "_model_module": "@jupyter-widgets/controls",
       "_model_module_version": "1.5.0",
       "_model_name": "HBoxModel",
       "_view_count": null,
       "_view_module": "@jupyter-widgets/controls",
       "_view_module_version": "1.5.0",
       "_view_name": "HBoxView",
       "box_style": "",
       "children": [
        "IPY_MODEL_a6c1d2b85ac243519e6d8fb0f05ef79d",
        "IPY_MODEL_69c1530bc50142a987a553799119a238",
        "IPY_MODEL_e19dce6693744055bf460e9de555d135"
       ],
       "layout": "IPY_MODEL_62bd6313948c4502b9b841920aef34f6"
      }
     },
     "62bd6313948c4502b9b841920aef34f6": {
      "model_module": "@jupyter-widgets/base",
      "model_module_version": "1.2.0",
      "model_name": "LayoutModel",
      "state": {
       "_model_module": "@jupyter-widgets/base",
       "_model_module_version": "1.2.0",
       "_model_name": "LayoutModel",
       "_view_count": null,
       "_view_module": "@jupyter-widgets/base",
       "_view_module_version": "1.2.0",
       "_view_name": "LayoutView",
       "align_content": null,
       "align_items": null,
       "align_self": null,
       "border": null,
       "bottom": null,
       "display": null,
       "flex": null,
       "flex_flow": null,
       "grid_area": null,
       "grid_auto_columns": null,
       "grid_auto_flow": null,
       "grid_auto_rows": null,
       "grid_column": null,
       "grid_gap": null,
       "grid_row": null,
       "grid_template_areas": null,
       "grid_template_columns": null,
       "grid_template_rows": null,
       "height": null,
       "justify_content": null,
       "justify_items": null,
       "left": null,
       "margin": null,
       "max_height": null,
       "max_width": null,
       "min_height": null,
       "min_width": null,
       "object_fit": null,
       "object_position": null,
       "order": null,
       "overflow": null,
       "overflow_x": null,
       "overflow_y": null,
       "padding": null,
       "right": null,
       "top": null,
       "visibility": null,
       "width": null
      }
     },
     "69c1530bc50142a987a553799119a238": {
      "model_module": "@jupyter-widgets/controls",
      "model_module_version": "1.5.0",
      "model_name": "FloatProgressModel",
      "state": {
       "_dom_classes": [],
       "_model_module": "@jupyter-widgets/controls",
       "_model_module_version": "1.5.0",
       "_model_name": "FloatProgressModel",
       "_view_count": null,
       "_view_module": "@jupyter-widgets/controls",
       "_view_module_version": "1.5.0",
       "_view_name": "ProgressView",
       "bar_style": "success",
       "description": "",
       "description_tooltip": null,
       "layout": "IPY_MODEL_bc5001e5d90f4975b761dca9dc293176",
       "max": 4.0,
       "min": 0.0,
       "orientation": "horizontal",
       "style": "IPY_MODEL_c19e9bb5d863434ea63f0776f128be00",
       "value": 4.0
      }
     },
     "9780de33bcc34721a02593dea8a5d3d8": {
      "model_module": "@jupyter-widgets/controls",
      "model_module_version": "1.5.0",
      "model_name": "DescriptionStyleModel",
      "state": {
       "_model_module": "@jupyter-widgets/controls",
       "_model_module_version": "1.5.0",
       "_model_name": "DescriptionStyleModel",
       "_view_count": null,
       "_view_module": "@jupyter-widgets/base",
       "_view_module_version": "1.2.0",
       "_view_name": "StyleView",
       "description_width": ""
      }
     },
     "a6c1d2b85ac243519e6d8fb0f05ef79d": {
      "model_module": "@jupyter-widgets/controls",
      "model_module_version": "1.5.0",
      "model_name": "HTMLModel",
      "state": {
       "_dom_classes": [],
       "_model_module": "@jupyter-widgets/controls",
       "_model_module_version": "1.5.0",
       "_model_name": "HTMLModel",
       "_view_count": null,
       "_view_module": "@jupyter-widgets/controls",
       "_view_module_version": "1.5.0",
       "_view_name": "HTMLView",
       "description": "",
       "description_tooltip": null,
       "layout": "IPY_MODEL_ee110ab1770a43ea859e7c636ccf33ac",
       "placeholder": "​",
       "style": "IPY_MODEL_01b22fd7541f4b338c0009cc5db3ad29",
       "value": "100%"
      }
     },
     "bc5001e5d90f4975b761dca9dc293176": {
      "model_module": "@jupyter-widgets/base",
      "model_module_version": "1.2.0",
      "model_name": "LayoutModel",
      "state": {
       "_model_module": "@jupyter-widgets/base",
       "_model_module_version": "1.2.0",
       "_model_name": "LayoutModel",
       "_view_count": null,
       "_view_module": "@jupyter-widgets/base",
       "_view_module_version": "1.2.0",
       "_view_name": "LayoutView",
       "align_content": null,
       "align_items": null,
       "align_self": null,
       "border": null,
       "bottom": null,
       "display": null,
       "flex": null,
       "flex_flow": null,
       "grid_area": null,
       "grid_auto_columns": null,
       "grid_auto_flow": null,
       "grid_auto_rows": null,
       "grid_column": null,
       "grid_gap": null,
       "grid_row": null,
       "grid_template_areas": null,
       "grid_template_columns": null,
       "grid_template_rows": null,
       "height": null,
       "justify_content": null,
       "justify_items": null,
       "left": null,
       "margin": null,
       "max_height": null,
       "max_width": null,
       "min_height": null,
       "min_width": null,
       "object_fit": null,
       "object_position": null,
       "order": null,
       "overflow": null,
       "overflow_x": null,
       "overflow_y": null,
       "padding": null,
       "right": null,
       "top": null,
       "visibility": null,
       "width": null
      }
     },
     "c19e9bb5d863434ea63f0776f128be00": {
      "model_module": "@jupyter-widgets/controls",
      "model_module_version": "1.5.0",
      "model_name": "ProgressStyleModel",
      "state": {
       "_model_module": "@jupyter-widgets/controls",
       "_model_module_version": "1.5.0",
       "_model_name": "ProgressStyleModel",
       "_view_count": null,
       "_view_module": "@jupyter-widgets/base",
       "_view_module_version": "1.2.0",
       "_view_name": "StyleView",
       "bar_color": null,
       "description_width": ""
      }
     },
     "e19dce6693744055bf460e9de555d135": {
      "model_module": "@jupyter-widgets/controls",
      "model_module_version": "1.5.0",
      "model_name": "HTMLModel",
      "state": {
       "_dom_classes": [],
       "_model_module": "@jupyter-widgets/controls",
       "_model_module_version": "1.5.0",
       "_model_name": "HTMLModel",
       "_view_count": null,
       "_view_module": "@jupyter-widgets/controls",
       "_view_module_version": "1.5.0",
       "_view_name": "HTMLView",
       "description": "",
       "description_tooltip": null,
       "layout": "IPY_MODEL_fe008ff70b194b6cb326c91f3d8c6942",
       "placeholder": "​",
       "style": "IPY_MODEL_9780de33bcc34721a02593dea8a5d3d8",
       "value": " 4/4 [10:00&lt;00:00, 216.28s/it]"
      }
     },
     "ee110ab1770a43ea859e7c636ccf33ac": {
      "model_module": "@jupyter-widgets/base",
      "model_module_version": "1.2.0",
      "model_name": "LayoutModel",
      "state": {
       "_model_module": "@jupyter-widgets/base",
       "_model_module_version": "1.2.0",
       "_model_name": "LayoutModel",
       "_view_count": null,
       "_view_module": "@jupyter-widgets/base",
       "_view_module_version": "1.2.0",
       "_view_name": "LayoutView",
       "align_content": null,
       "align_items": null,
       "align_self": null,
       "border": null,
       "bottom": null,
       "display": null,
       "flex": null,
       "flex_flow": null,
       "grid_area": null,
       "grid_auto_columns": null,
       "grid_auto_flow": null,
       "grid_auto_rows": null,
       "grid_column": null,
       "grid_gap": null,
       "grid_row": null,
       "grid_template_areas": null,
       "grid_template_columns": null,
       "grid_template_rows": null,
       "height": null,
       "justify_content": null,
       "justify_items": null,
       "left": null,
       "margin": null,
       "max_height": null,
       "max_width": null,
       "min_height": null,
       "min_width": null,
       "object_fit": null,
       "object_position": null,
       "order": null,
       "overflow": null,
       "overflow_x": null,
       "overflow_y": null,
       "padding": null,
       "right": null,
       "top": null,
       "visibility": null,
       "width": null
      }
     },
     "fe008ff70b194b6cb326c91f3d8c6942": {
      "model_module": "@jupyter-widgets/base",
      "model_module_version": "1.2.0",
      "model_name": "LayoutModel",
      "state": {
       "_model_module": "@jupyter-widgets/base",
       "_model_module_version": "1.2.0",
       "_model_name": "LayoutModel",
       "_view_count": null,
       "_view_module": "@jupyter-widgets/base",
       "_view_module_version": "1.2.0",
       "_view_name": "LayoutView",
       "align_content": null,
       "align_items": null,
       "align_self": null,
       "border": null,
       "bottom": null,
       "display": null,
       "flex": null,
       "flex_flow": null,
       "grid_area": null,
       "grid_auto_columns": null,
       "grid_auto_flow": null,
       "grid_auto_rows": null,
       "grid_column": null,
       "grid_gap": null,
       "grid_row": null,
       "grid_template_areas": null,
       "grid_template_columns": null,
       "grid_template_rows": null,
       "height": null,
       "justify_content": null,
       "justify_items": null,
       "left": null,
       "margin": null,
       "max_height": null,
       "max_width": null,
       "min_height": null,
       "min_width": null,
       "object_fit": null,
       "object_position": null,
       "order": null,
       "overflow": null,
       "overflow_x": null,
       "overflow_y": null,
       "padding": null,
       "right": null,
       "top": null,
       "visibility": null,
       "width": null
      }
     }
    },
    "version_major": 2,
    "version_minor": 0
   }
  }
 },
 "nbformat": 4,
 "nbformat_minor": 5
}
